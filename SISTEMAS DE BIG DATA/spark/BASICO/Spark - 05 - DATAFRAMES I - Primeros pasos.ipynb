{
 "cells": [
  {
   "cell_type": "markdown",
   "metadata": {
    "application/vnd.databricks.v1+cell": {
     "cellMetadata": {},
     "inputWidgets": {},
     "nuid": "8337d924-6e23-4feb-ac10-2f8ca5b4b46d",
     "showTitle": false,
     "title": ""
    }
   },
   "source": [
    "# SPARK BÁSICO - 05\n",
    "## ![Spark Logo Tiny](https://files.training.databricks.com/images/105/logo_spark_tiny.png) DataFrames I. Primeros pasos"
   ]
  },
  {
   "cell_type": "markdown",
   "metadata": {
    "application/vnd.databricks.v1+cell": {
     "cellMetadata": {},
     "inputWidgets": {},
     "nuid": "6726904f-0613-4c3a-8310-c9ba8cb8ec57",
     "showTitle": false,
     "title": ""
    }
   },
   "source": [
    "### Definición del esquema para el modelo de datos"
   ]
  },
  {
   "cell_type": "code",
   "execution_count": 0,
   "metadata": {
    "application/vnd.databricks.v1+cell": {
     "cellMetadata": {
      "byteLimit": 2048000,
      "rowLimit": 10000
     },
     "inputWidgets": {},
     "nuid": "c0a93931-da76-401d-91d3-2633928d56d5",
     "showTitle": false,
     "title": ""
    }
   },
   "outputs": [],
   "source": [
    "from pyspark.sql.types import *\n",
    "schema_1 = StructType([StructField(\"nombre\", StringType(), False),\n",
    "  StructField(\"apellidos\", StringType(), False),\n",
    "  StructField(\"edad\", IntegerType(), False),\n",
    "  StructField(\"sexo\", StringType(), False)])"
   ]
  },
  {
   "cell_type": "markdown",
   "metadata": {
    "application/vnd.databricks.v1+cell": {
     "cellMetadata": {},
     "inputWidgets": {},
     "nuid": "0b1c77db-848b-4962-a676-d641e321b467",
     "showTitle": false,
     "title": ""
    }
   },
   "source": [
    "### Carga de datos sobre el esquema"
   ]
  },
  {
   "cell_type": "code",
   "execution_count": 0,
   "metadata": {
    "application/vnd.databricks.v1+cell": {
     "cellMetadata": {
      "byteLimit": 2048000,
      "rowLimit": 10000
     },
     "inputWidgets": {},
     "nuid": "64efc5b3-3c17-4369-8fce-6f076df62e3b",
     "showTitle": false,
     "title": ""
    }
   },
   "outputs": [],
   "source": [
    "data_1 = [[\"Michael\", \"Jordan\", 65, \"Masculino\"],\n",
    "          [\"Kevin\", \"Garnett\", 50, \"Masculino\"],\n",
    "          [\"Marie\", \"Curie\", 48, \"Femenino\"],\n",
    "          ]"
   ]
  },
  {
   "cell_type": "markdown",
   "metadata": {
    "application/vnd.databricks.v1+cell": {
     "cellMetadata": {},
     "inputWidgets": {},
     "nuid": "ab53e02f-5582-43f4-84dd-cc6e9f1674a1",
     "showTitle": false,
     "title": ""
    }
   },
   "source": [
    "### Creando el DataFrame"
   ]
  },
  {
   "cell_type": "code",
   "execution_count": 0,
   "metadata": {
    "application/vnd.databricks.v1+cell": {
     "cellMetadata": {
      "byteLimit": 2048000,
      "rowLimit": 10000
     },
     "inputWidgets": {},
     "nuid": "904e7bfb-5713-4456-aa23-4189626fd619",
     "showTitle": false,
     "title": ""
    }
   },
   "outputs": [
    {
     "output_type": "stream",
     "name": "stdout",
     "output_type": "stream",
     "text": [
      "+-------+---------+----+---------+\n| nombre|apellidos|edad|     sexo|\n+-------+---------+----+---------+\n|Michael|   Jordan|  65|Masculino|\n|  Kevin|  Garnett|  50|Masculino|\n|  Marie|    Curie|  48| Femenino|\n+-------+---------+----+---------+\n\n"
     ]
    }
   ],
   "source": [
    "df_1 = spark.createDataFrame(data_1, schema_1)\n",
    "df_1.show()"
   ]
  },
  {
   "cell_type": "markdown",
   "metadata": {
    "application/vnd.databricks.v1+cell": {
     "cellMetadata": {},
     "inputWidgets": {},
     "nuid": "386775c1-e9c4-4ee8-8cff-d01eeba81f8f",
     "showTitle": false,
     "title": ""
    }
   },
   "source": [
    "### Volvemos a repetir el proceso paso a paso\n",
    "- Creación de esquema (en esta ocasión se hace sin usar *StructType*)\n",
    "- Carga de datos usando el esquema\n",
    "- Creación del DataFrame"
   ]
  },
  {
   "cell_type": "code",
   "execution_count": 0,
   "metadata": {
    "application/vnd.databricks.v1+cell": {
     "cellMetadata": {
      "byteLimit": 2048000,
      "rowLimit": 10000
     },
     "inputWidgets": {},
     "nuid": "832353a1-5d2e-4df7-a0f9-71980570f37a",
     "showTitle": false,
     "title": ""
    }
   },
   "outputs": [],
   "source": [
    "schema_2 = \"ciudad STRING, provincia STRING, comunidad_autonoma STRING, pais STRING\""
   ]
  },
  {
   "cell_type": "code",
   "execution_count": 0,
   "metadata": {
    "application/vnd.databricks.v1+cell": {
     "cellMetadata": {
      "byteLimit": 2048000,
      "rowLimit": 10000
     },
     "inputWidgets": {},
     "nuid": "6d539e0d-5739-4089-815e-209e2000f60e",
     "showTitle": false,
     "title": ""
    }
   },
   "outputs": [],
   "source": [
    "data_2 = [[\"Madrid\", \"Madrid\", \"Madrid\", \"España\"],\n",
    "          [\"Alcalá de Henares\", \"Madrid\", \"Madrid\", \"España\"],\n",
    "          [\"Barcelona\", \"Barcelona\", \"Cataluña\", \"España\"],\n",
    "          [\"Toledo\", \"Toledo\", \"Castilla la Mancha\", \"España\"],\n",
    "          [\"Tarazona\", \"Zaragoza\", \"Aragón\", \"España\"]\n",
    "          ]"
   ]
  },
  {
   "cell_type": "code",
   "execution_count": 0,
   "metadata": {
    "application/vnd.databricks.v1+cell": {
     "cellMetadata": {
      "byteLimit": 2048000,
      "rowLimit": 10000
     },
     "inputWidgets": {},
     "nuid": "680f7bf5-f412-43a7-99a0-77c82801d7f5",
     "showTitle": false,
     "title": ""
    }
   },
   "outputs": [
    {
     "output_type": "stream",
     "name": "stdout",
     "output_type": "stream",
     "text": [
      "+-----------------+---------+------------------+------+\n|           ciudad|provincia|comunidad_autonoma|  pais|\n+-----------------+---------+------------------+------+\n|           Madrid|   Madrid|            Madrid|España|\n|Alcalá de Henares|   Madrid|            Madrid|España|\n|        Barcelona|Barcelona|          Cataluña|España|\n|           Toledo|   Toledo|Castilla la Mancha|España|\n|         Tarazona| Zaragoza|            Aragón|España|\n+-----------------+---------+------------------+------+\n\n"
     ]
    }
   ],
   "source": [
    "df_2 = spark.createDataFrame(data_2, schema_2)\n",
    "df_2.show()"
   ]
  },
  {
   "cell_type": "code",
   "execution_count": 0,
   "metadata": {
    "application/vnd.databricks.v1+cell": {
     "cellMetadata": {
      "byteLimit": 2048000,
      "rowLimit": 10000
     },
     "inputWidgets": {},
     "nuid": "687b043a-9261-4dc0-9777-aa923078e43a",
     "showTitle": false,
     "title": ""
    }
   },
   "outputs": [
    {
     "output_type": "stream",
     "name": "stdout",
     "output_type": "stream",
     "text": [
      "Out[7]: [('ciudad', 'string'),\n ('provincia', 'string'),\n ('comunidad_autonoma', 'string'),\n ('pais', 'string')]"
     ]
    }
   ],
   "source": [
    "df_2.dtypes"
   ]
  },
  {
   "cell_type": "markdown",
   "metadata": {
    "application/vnd.databricks.v1+cell": {
     "cellMetadata": {},
     "inputWidgets": {},
     "nuid": "ff72cc9d-d773-46c0-b3e3-9ba3b7d6c06b",
     "showTitle": false,
     "title": ""
    }
   },
   "source": [
    "### Procesos de selección y filtrado de datos usando DataFrames"
   ]
  },
  {
   "cell_type": "code",
   "execution_count": 0,
   "metadata": {
    "application/vnd.databricks.v1+cell": {
     "cellMetadata": {
      "byteLimit": 2048000,
      "rowLimit": 10000
     },
     "inputWidgets": {},
     "nuid": "224be4e2-69a4-41ec-a282-b0dc985f6b88",
     "showTitle": false,
     "title": ""
    }
   },
   "outputs": [
    {
     "output_type": "stream",
     "name": "stdout",
     "output_type": "stream",
     "text": [
      "+-----------------+------+\n|           ciudad|  pais|\n+-----------------+------+\n|           Madrid|España|\n|Alcalá de Henares|España|\n|        Barcelona|España|\n|           Toledo|España|\n|         Tarazona|España|\n+-----------------+------+\n\n"
     ]
    }
   ],
   "source": [
    "df_2.select('ciudad', 'pais').show()"
   ]
  },
  {
   "cell_type": "code",
   "execution_count": 0,
   "metadata": {
    "application/vnd.databricks.v1+cell": {
     "cellMetadata": {
      "byteLimit": 2048000,
      "rowLimit": 10000
     },
     "inputWidgets": {},
     "nuid": "1f632d24-b031-4bfa-a414-03e088b60f2c",
     "showTitle": false,
     "title": ""
    }
   },
   "outputs": [
    {
     "output_type": "stream",
     "name": "stdout",
     "output_type": "stream",
     "text": [
      "+-----------------+------+\n|           ciudad|  pais|\n+-----------------+------+\n|           Madrid|España|\n|Alcalá de Henares|España|\n|        Barcelona|España|\n|           Toledo|España|\n|         Tarazona|España|\n+-----------------+------+\n\n"
     ]
    }
   ],
   "source": [
    "from pyspark.sql.functions import col\n",
    "\n",
    "df_2.select(col('ciudad'), col('pais')).show()"
   ]
  },
  {
   "cell_type": "markdown",
   "metadata": {
    "application/vnd.databricks.v1+cell": {
     "cellMetadata": {},
     "inputWidgets": {},
     "nuid": "52924cca-9c9f-44ae-8b8b-e1b8e757f4d2",
     "showTitle": false,
     "title": ""
    }
   },
   "source": [
    "### Conectando DataFrames. JOIN"
   ]
  },
  {
   "cell_type": "code",
   "execution_count": 0,
   "metadata": {
    "application/vnd.databricks.v1+cell": {
     "cellMetadata": {
      "byteLimit": 2048000,
      "rowLimit": 10000
     },
     "inputWidgets": {},
     "nuid": "e2d97f17-5886-436b-b09b-efad171104f8",
     "showTitle": false,
     "title": ""
    }
   },
   "outputs": [],
   "source": [
    "from pyspark.sql import Row\n",
    "from pyspark.sql.functions import desc\n",
    "\n",
    "df_j01 = spark.createDataFrame([(48, \"Alberto\"), (50, \"Enrique\")]).toDF(\"age\", \"name\")\n",
    "df_j02 = spark.createDataFrame([Row(height=191, name=\"Alberto\"), Row(height=188, name=\"Enrique\")])"
   ]
  },
  {
   "cell_type": "code",
   "execution_count": 0,
   "metadata": {
    "application/vnd.databricks.v1+cell": {
     "cellMetadata": {
      "byteLimit": 2048000,
      "rowLimit": 10000
     },
     "inputWidgets": {},
     "nuid": "2f672e6d-3068-4d90-a8e1-c3bc96f49389",
     "showTitle": false,
     "title": ""
    }
   },
   "outputs": [
    {
     "output_type": "stream",
     "name": "stdout",
     "output_type": "stream",
     "text": [
      "+-------+---+------+\n|   name|age|height|\n+-------+---+------+\n|Alberto| 48|   191|\n|Enrique| 50|   188|\n+-------+---+------+\n\n"
     ]
    }
   ],
   "source": [
    "df_j03 = df_j01.join(df_j02, \"name\")\n",
    "df_j03.show()"
   ]
  },
  {
   "cell_type": "code",
   "execution_count": 0,
   "metadata": {
    "application/vnd.databricks.v1+cell": {
     "cellMetadata": {
      "byteLimit": 2048000,
      "rowLimit": 10000
     },
     "inputWidgets": {},
     "nuid": "d7809e17-acb6-429d-9f55-ab16ec02c004",
     "showTitle": false,
     "title": ""
    }
   },
   "outputs": [
    {
     "output_type": "stream",
     "name": "stdout",
     "output_type": "stream",
     "text": [
      "root\n |-- name: string (nullable = true)\n |-- age: long (nullable = true)\n |-- height: long (nullable = true)\n\n"
     ]
    }
   ],
   "source": [
    "df_j03.printSchema()"
   ]
  },
  {
   "cell_type": "code",
   "execution_count": 0,
   "metadata": {
    "application/vnd.databricks.v1+cell": {
     "cellMetadata": {
      "byteLimit": 2048000,
      "rowLimit": 10000
     },
     "inputWidgets": {},
     "nuid": "0e52ab1a-6328-4dd5-af3c-7ade4fd02552",
     "showTitle": false,
     "title": ""
    }
   },
   "outputs": [
    {
     "output_type": "stream",
     "name": "stdout",
     "output_type": "stream",
     "text": [
      "+-------+---+------+\n|   name|age|height|\n+-------+---+------+\n|Alberto| 48|   191|\n|Enrique| 50|   188|\n+-------+---+------+\n\n"
     ]
    }
   ],
   "source": [
    "df_j03.sort(desc(\"height\")).show()"
   ]
  },
  {
   "cell_type": "code",
   "execution_count": 0,
   "metadata": {
    "application/vnd.databricks.v1+cell": {
     "cellMetadata": {
      "byteLimit": 2048000,
      "rowLimit": 10000
     },
     "inputWidgets": {},
     "nuid": "7ef3d3be-9276-483c-aa88-231605062a02",
     "showTitle": false,
     "title": ""
    }
   },
   "outputs": [
    {
     "output_type": "stream",
     "name": "stdout",
     "output_type": "stream",
     "text": [
      "+-------+---+------+\n|   name|age|height|\n+-------+---+------+\n|Alberto| 48|   191|\n+-------+---+------+\n\n"
     ]
    }
   ],
   "source": [
    "df_j03.filter(\"height > 190\").show()"
   ]
  },
  {
   "cell_type": "code",
   "execution_count": 0,
   "metadata": {
    "application/vnd.databricks.v1+cell": {
     "cellMetadata": {
      "byteLimit": 2048000,
      "rowLimit": 10000
     },
     "inputWidgets": {},
     "nuid": "e113aef2-de29-443d-8eb7-0303942299b8",
     "showTitle": false,
     "title": ""
    }
   },
   "outputs": [
    {
     "output_type": "stream",
     "name": "stdout",
     "output_type": "stream",
     "text": [
      "+-------+---+------+\n|   name|age|height|\n+-------+---+------+\n|Alberto| 48|   191|\n|Enrique| 50|   188|\n+-------+---+------+\n\n"
     ]
    }
   ],
   "source": [
    "df_j03.orderBy(\"age\", ascending = 1).show()"
   ]
  },
  {
   "cell_type": "code",
   "execution_count": 0,
   "metadata": {
    "application/vnd.databricks.v1+cell": {
     "cellMetadata": {
      "byteLimit": 2048000,
      "rowLimit": 10000
     },
     "inputWidgets": {},
     "nuid": "bb92aa3f-e771-403b-a322-304f10984386",
     "showTitle": false,
     "title": ""
    }
   },
   "outputs": [
    {
     "output_type": "stream",
     "name": "stdout",
     "output_type": "stream",
     "text": [
      "+-------+-----------+\n|   name|avg(height)|\n+-------+-----------+\n|Alberto|      191.0|\n|Enrique|      188.0|\n+-------+-----------+\n\n"
     ]
    }
   ],
   "source": [
    "df_j03.groupBy(\"name\").agg({\"height\": \"avg\"}).sort(\"name\").show()"
   ]
  },
  {
   "cell_type": "code",
   "execution_count": 0,
   "metadata": {
    "application/vnd.databricks.v1+cell": {
     "cellMetadata": {
      "byteLimit": 2048000,
      "rowLimit": 10000
     },
     "inputWidgets": {},
     "nuid": "fd14e1c6-8f45-4cf0-add8-38c12dcd47be",
     "showTitle": false,
     "title": ""
    }
   },
   "outputs": [
    {
     "output_type": "stream",
     "name": "stdout",
     "output_type": "stream",
     "text": [
      "+--------+\n|avg(age)|\n+--------+\n|    49.0|\n+--------+\n\n"
     ]
    }
   ],
   "source": [
    "df_j03.agg({\"age\": \"avg\"}).show()"
   ]
  },
  {
   "cell_type": "code",
   "execution_count": 0,
   "metadata": {
    "application/vnd.databricks.v1+cell": {
     "cellMetadata": {},
     "inputWidgets": {},
     "nuid": "3c8c3669-616b-4fd6-95eb-e930ebcf4c8d",
     "showTitle": false,
     "title": ""
    }
   },
   "outputs": [],
   "source": []
  }
 ],
 "metadata": {
  "application/vnd.databricks.v1+notebook": {
   "dashboards": [],
   "language": "python",
   "notebookMetadata": {
    "pythonIndentUnit": 4
   },
   "notebookName": "Spark - 05 - DATAFRAMES I - Primeros pasos",
   "widgets": {}
  }
 },
 "nbformat": 4,
 "nbformat_minor": 0
}
