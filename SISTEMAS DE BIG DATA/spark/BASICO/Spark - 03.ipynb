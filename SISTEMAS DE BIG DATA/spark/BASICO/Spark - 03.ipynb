{
 "cells": [
  {
   "cell_type": "markdown",
   "metadata": {
    "application/vnd.databricks.v1+cell": {
     "cellMetadata": {},
     "inputWidgets": {},
     "nuid": "406a0af7-8bd0-4bd9-bfbe-8b21c1fed8ce",
     "showTitle": false,
     "title": ""
    }
   },
   "source": [
    "# SPARK BÁSICO - 03\n",
    "## ![Spark Logo Tiny](https://files.training.databricks.com/images/105/logo_spark_tiny.png) DataFrames. Fundamentos\n",
    "> Notebook con los fundamentos sobre DataFrames en Spark"
   ]
  },
  {
   "cell_type": "markdown",
   "metadata": {
    "application/vnd.databricks.v1+cell": {
     "cellMetadata": {},
     "inputWidgets": {},
     "nuid": "77bc7297-4ac3-4f9f-996f-b3ab75d6b69f",
     "showTitle": false,
     "title": ""
    }
   },
   "source": [
    "##![Spark Logo Tiny](https://files.training.databricks.com/images/105/logo_spark_tiny.png) spark.createDataFrame()\n",
    "\n",
    "> Función que permite crear dataframes"
   ]
  },
  {
   "cell_type": "code",
   "execution_count": 0,
   "metadata": {
    "application/vnd.databricks.v1+cell": {
     "cellMetadata": {
      "byteLimit": 2048000,
      "rowLimit": 10000
     },
     "inputWidgets": {},
     "nuid": "44a5a7ec-7da7-4b0e-9839-952da8c8b673",
     "showTitle": false,
     "title": ""
    }
   },
   "outputs": [],
   "source": [
    "df=  [{'nombre': 'Rosa', 'edad': 30 , 'ciudad': 'Valladolid' },\n",
    "      {'nombre': 'Jose', 'edad': 30 , 'ciudad': 'Madrid'},\n",
    "      {'nombre': 'Juan', 'edad': 20 , 'ciudad': 'Palencia'}]\n",
    "\n",
    "dfCustomer=spark.createDataFrame(df)"
   ]
  },
  {
   "cell_type": "markdown",
   "metadata": {
    "application/vnd.databricks.v1+cell": {
     "cellMetadata": {},
     "inputWidgets": {},
     "nuid": "781a7bf3-441a-4fa9-9731-e8f4efebb105",
     "showTitle": false,
     "title": ""
    }
   },
   "source": [
    "##![Spark Logo Tiny](https://files.training.databricks.com/images/105/logo_spark_tiny.png) count()\n",
    "\n",
    "> Retorna el nro. de filas del dataset"
   ]
  },
  {
   "cell_type": "code",
   "execution_count": 0,
   "metadata": {
    "application/vnd.databricks.v1+cell": {
     "cellMetadata": {
      "byteLimit": 2048000,
      "rowLimit": 10000
     },
     "inputWidgets": {},
     "nuid": "957aaf6c-20e4-477f-b701-434dc8be9015",
     "showTitle": false,
     "title": ""
    }
   },
   "outputs": [
    {
     "output_type": "stream",
     "name": "stdout",
     "output_type": "stream",
     "text": [
      "Out[2]: 3"
     ]
    }
   ],
   "source": [
    "dfCustomer.count()"
   ]
  },
  {
   "cell_type": "markdown",
   "metadata": {
    "application/vnd.databricks.v1+cell": {
     "cellMetadata": {},
     "inputWidgets": {},
     "nuid": "5734ec65-71df-4c2b-b8aa-e4e7a3a3d3e7",
     "showTitle": false,
     "title": ""
    }
   },
   "source": [
    "##![Spark Logo Tiny](https://files.training.databricks.com/images/105/logo_spark_tiny.png) printSchema()\n",
    "\n",
    "> Función que que devuelve la estructura del dataframe"
   ]
  },
  {
   "cell_type": "code",
   "execution_count": 0,
   "metadata": {
    "application/vnd.databricks.v1+cell": {
     "cellMetadata": {
      "byteLimit": 2048000,
      "rowLimit": 10000
     },
     "inputWidgets": {},
     "nuid": "a9bc84a9-888c-49c1-bd64-8a34758bfcce",
     "showTitle": false,
     "title": ""
    }
   },
   "outputs": [
    {
     "output_type": "stream",
     "name": "stdout",
     "output_type": "stream",
     "text": [
      "root\n |-- ciudad: string (nullable = true)\n |-- edad: long (nullable = true)\n |-- nombre: string (nullable = true)\n\n"
     ]
    }
   ],
   "source": [
    "dfCustomer.printSchema()"
   ]
  },
  {
   "cell_type": "markdown",
   "metadata": {
    "application/vnd.databricks.v1+cell": {
     "cellMetadata": {},
     "inputWidgets": {},
     "nuid": "2cfc518f-e66b-44cf-a461-0f39a419b4df",
     "showTitle": false,
     "title": ""
    }
   },
   "source": [
    "##![Spark Logo Tiny](https://files.training.databricks.com/images/105/logo_spark_tiny.png) show(..)\n",
    "\n",
    "Esta función me permite visualizar los datos\n",
    "\n",
    "Parámetros opcionales:\n",
    "* **n**: Número de filas que queremos visualizar.\n",
    "* **truncate**: Si el valor es en True, las columnas de más de 20 caracteres serán omitidos"
   ]
  },
  {
   "cell_type": "code",
   "execution_count": 0,
   "metadata": {
    "application/vnd.databricks.v1+cell": {
     "cellMetadata": {
      "byteLimit": 2048000,
      "rowLimit": 10000
     },
     "inputWidgets": {},
     "nuid": "ab2cc940-70e2-4c3f-ab9e-2ec60e7d282e",
     "showTitle": false,
     "title": ""
    }
   },
   "outputs": [
    {
     "output_type": "stream",
     "name": "stdout",
     "output_type": "stream",
     "text": [
      "+----------+----+------+\n|    ciudad|edad|nombre|\n+----------+----+------+\n|Valladolid|  30|  Rosa|\n|    Madrid|  30|  Jose|\n+----------+----+------+\nonly showing top 2 rows\n\n"
     ]
    }
   ],
   "source": [
    "dfCustomer.show(2)"
   ]
  },
  {
   "cell_type": "markdown",
   "metadata": {
    "application/vnd.databricks.v1+cell": {
     "cellMetadata": {},
     "inputWidgets": {},
     "nuid": "897aeaf7-5e0b-4d19-9b27-83d8e126ff81",
     "showTitle": false,
     "title": ""
    }
   },
   "source": [
    "##![Spark Logo Tiny](https://files.training.databricks.com/images/105/logo_spark_tiny.png) display(..)\n",
    "\n",
    "Podemos utilizar tambien la función display para la visualización de datos y ver los datos de otra manera"
   ]
  },
  {
   "cell_type": "code",
   "execution_count": 0,
   "metadata": {
    "application/vnd.databricks.v1+cell": {
     "cellMetadata": {
      "byteLimit": 2048000,
      "rowLimit": 10000
     },
     "inputWidgets": {},
     "nuid": "0812624b-7c1d-4c59-b196-3714ae6ba756",
     "showTitle": false,
     "title": ""
    }
   },
   "outputs": [
    {
     "output_type": "display_data",
     "data": {
      "text/html": [
       "<style scoped>\n",
       "  .table-result-container {\n",
       "    max-height: 300px;\n",
       "    overflow: auto;\n",
       "  }\n",
       "  table, th, td {\n",
       "    border: 1px solid black;\n",
       "    border-collapse: collapse;\n",
       "  }\n",
       "  th, td {\n",
       "    padding: 5px;\n",
       "  }\n",
       "  th {\n",
       "    text-align: left;\n",
       "  }\n",
       "</style><div class='table-result-container'><table class='table-result'><thead style='background-color: white'><tr><th>ciudad</th><th>edad</th><th>nombre</th></tr></thead><tbody><tr><td>Valladolid</td><td>30</td><td>Rosa</td></tr><tr><td>Madrid</td><td>30</td><td>Jose</td></tr><tr><td>Palencia</td><td>20</td><td>Juan</td></tr></tbody></table></div>"
      ]
     },
     "metadata": {
      "application/vnd.databricks.v1+output": {
       "addedWidgets": {},
       "aggData": [],
       "aggError": "",
       "aggOverflow": false,
       "aggSchema": [],
       "aggSeriesLimitReached": false,
       "aggType": "",
       "arguments": {},
       "columnCustomDisplayInfos": {},
       "data": [
        [
         "Valladolid",
         30,
         "Rosa"
        ],
        [
         "Madrid",
         30,
         "Jose"
        ],
        [
         "Palencia",
         20,
         "Juan"
        ]
       ],
       "datasetInfos": [],
       "dbfsResultPath": null,
       "isJsonSchema": true,
       "metadata": {},
       "overflow": false,
       "plotOptions": {
        "customPlotOptions": {},
        "displayType": "table",
        "pivotAggregation": null,
        "pivotColumns": null,
        "xColumns": null,
        "yColumns": null
       },
       "removedWidgets": [],
       "schema": [
        {
         "metadata": "{}",
         "name": "ciudad",
         "type": "\"string\""
        },
        {
         "metadata": "{}",
         "name": "edad",
         "type": "\"long\""
        },
        {
         "metadata": "{}",
         "name": "nombre",
         "type": "\"string\""
        }
       ],
       "type": "table"
      }
     },
     "output_type": "display_data"
    }
   ],
   "source": [
    "display(dfCustomer)"
   ]
  },
  {
   "cell_type": "markdown",
   "metadata": {
    "application/vnd.databricks.v1+cell": {
     "cellMetadata": {},
     "inputWidgets": {},
     "nuid": "b0e6e59f-75fa-4245-85c2-142f7a53e4f8",
     "showTitle": false,
     "title": ""
    }
   },
   "source": [
    "##![Spark Logo Tiny](https://files.training.databricks.com/images/105/logo_spark_tiny.png) limit(..)\n",
    "\n",
    "La principal diferencia entre display y show , es que en show podemos indicarle el nro. de filas\n",
    "\n",
    "> Esta función me permite crear un nuevo dataset donde le pueda colocar un límite de filas"
   ]
  },
  {
   "cell_type": "code",
   "execution_count": 0,
   "metadata": {
    "application/vnd.databricks.v1+cell": {
     "cellMetadata": {
      "byteLimit": 2048000,
      "rowLimit": 10000
     },
     "inputWidgets": {},
     "nuid": "9676a9cd-3d01-4d1c-92bc-2402514782f6",
     "showTitle": false,
     "title": ""
    }
   },
   "outputs": [
    {
     "output_type": "stream",
     "name": "stdout",
     "output_type": "stream",
     "text": [
      "+----------+----+------+\n|    ciudad|edad|nombre|\n+----------+----+------+\n|Valladolid|  30|  Rosa|\n|    Madrid|  30|  Jose|\n+----------+----+------+\n\n"
     ]
    }
   ],
   "source": [
    "dfCustomerLimit = dfCustomer.limit(2) \n",
    "\n",
    "dfCustomerLimit.show()"
   ]
  },
  {
   "cell_type": "markdown",
   "metadata": {
    "application/vnd.databricks.v1+cell": {
     "cellMetadata": {},
     "inputWidgets": {},
     "nuid": "cd779e27-5378-49c3-8845-afcca96bc766",
     "showTitle": false,
     "title": ""
    }
   },
   "source": [
    "##![Spark Logo Tiny](https://files.training.databricks.com/images/105/logo_spark_tiny.png) select(..)\n",
    "\n",
    "Esta función te permite seleccionar algunas columnas de un datfrme"
   ]
  },
  {
   "cell_type": "code",
   "execution_count": 0,
   "metadata": {
    "application/vnd.databricks.v1+cell": {
     "cellMetadata": {
      "byteLimit": 2048000,
      "rowLimit": 10000
     },
     "inputWidgets": {},
     "nuid": "0911ea79-0500-4cb4-8f76-e6e150ed3b93",
     "showTitle": false,
     "title": ""
    }
   },
   "outputs": [
    {
     "output_type": "stream",
     "name": "stdout",
     "output_type": "stream",
     "text": [
      "root\n |-- nombre: string (nullable = true)\n |-- edad: long (nullable = true)\n\n+------+----+\n|nombre|edad|\n+------+----+\n|  Rosa|  30|\n|  Jose|  30|\n|  Juan|  20|\n+------+----+\n\n"
     ]
    }
   ],
   "source": [
    "# Transformamos la data, quedandonos solo con 2 columnas\n",
    "dfCustomerSelect = (dfCustomer\n",
    "  .select(\"nombre\",\"edad\") \n",
    ")\n",
    "# Imprimimos el schema\n",
    "dfCustomerSelect.printSchema()\n",
    "\n",
    "#Visualizamos por pantalla\n",
    "dfCustomerSelect.show()"
   ]
  },
  {
   "cell_type": "markdown",
   "metadata": {
    "application/vnd.databricks.v1+cell": {
     "cellMetadata": {},
     "inputWidgets": {},
     "nuid": "6dbd3707-d5dd-42f5-85e4-7814bd6fcf87",
     "showTitle": false,
     "title": ""
    }
   },
   "source": [
    "##![Spark Logo Tiny](https://files.training.databricks.com/images/105/logo_spark_tiny.png) drop(..)\n",
    "\n",
    "La función drop() te permite eliminar columnas de un dataframe"
   ]
  },
  {
   "cell_type": "code",
   "execution_count": 0,
   "metadata": {
    "application/vnd.databricks.v1+cell": {
     "cellMetadata": {
      "byteLimit": 2048000,
      "rowLimit": 10000
     },
     "inputWidgets": {},
     "nuid": "446d7693-c3b0-44b3-b709-11d03b46ad21",
     "showTitle": false,
     "title": ""
    }
   },
   "outputs": [
    {
     "output_type": "stream",
     "name": "stdout",
     "output_type": "stream",
     "text": [
      "+----------+------+\n|    ciudad|nombre|\n+----------+------+\n|Valladolid|  Rosa|\n|    Madrid|  Jose|\n|  Palencia|  Juan|\n+----------+------+\n\n"
     ]
    }
   ],
   "source": [
    "dfCustomerDrop= dfCustomer.drop(\"edad\")\n",
    "\n",
    "dfCustomerDrop.show()"
   ]
  },
  {
   "cell_type": "code",
   "execution_count": 0,
   "metadata": {
    "application/vnd.databricks.v1+cell": {
     "cellMetadata": {},
     "inputWidgets": {},
     "nuid": "50869162-52c1-415d-b10d-5c94b467939b",
     "showTitle": false,
     "title": ""
    }
   },
   "outputs": [],
   "source": []
  }
 ],
 "metadata": {
  "application/vnd.databricks.v1+notebook": {
   "dashboards": [],
   "language": "python",
   "notebookMetadata": {
    "pythonIndentUnit": 4
   },
   "notebookName": "Spark - 03",
   "widgets": {}
  },
  "language_info": {
   "name": "python"
  },
  "name": "001. Dataframes",
  "notebookId": 755699050442701
 },
 "nbformat": 4,
 "nbformat_minor": 0
}
