{
 "cells": [
  {
   "cell_type": "markdown",
   "metadata": {
    "application/vnd.databricks.v1+cell": {
     "cellMetadata": {},
     "inputWidgets": {},
     "nuid": "c7fd15a6-6bd3-4e28-97b8-1e668ea3cd02",
     "showTitle": false,
     "title": ""
    }
   },
   "source": [
    "## TRABAJANDO CON BASES DE DATOS REMOTAS"
   ]
  },
  {
   "cell_type": "markdown",
   "metadata": {
    "application/vnd.databricks.v1+cell": {
     "cellMetadata": {},
     "inputWidgets": {},
     "nuid": "c18bdb12-e186-4ac9-9276-dd498d2d1eec",
     "showTitle": false,
     "title": ""
    }
   },
   "source": [
    "### DEFINICIÓN CONTEXTO"
   ]
  },
  {
   "cell_type": "code",
   "execution_count": 0,
   "metadata": {
    "application/vnd.databricks.v1+cell": {
     "cellMetadata": {
      "byteLimit": 2048000,
      "rowLimit": 10000
     },
     "inputWidgets": {},
     "nuid": "097e0483-ff41-493c-b4d7-c4524e530100",
     "showTitle": false,
     "title": ""
    }
   },
   "outputs": [],
   "source": [
    "# Definición de contexto\n",
    "from pyspark.sql import SparkSession\n",
    "spark = SparkSession.builder.getOrCreate()\n",
    "sc = spark.sparkContext"
   ]
  },
  {
   "cell_type": "markdown",
   "metadata": {
    "application/vnd.databricks.v1+cell": {
     "cellMetadata": {},
     "inputWidgets": {},
     "nuid": "433d4d63-c512-4b9c-8984-e6231c69b9ca",
     "showTitle": false,
     "title": ""
    }
   },
   "source": [
    "### CARGANDO DATOS DESDE UN FICHERO CSV\n",
    "\n",
    "Los parámetros que se usan para cargar el fichero csv que se va a analizar son los siguientes:\n",
    "- **inferSchema = True**: Este argumento indica a Spark que infiera automáticamente el esquema de datos del archivo CSV. Es decir, Spark intentará determinar los tipos de datos de cada columna basándose en su contenido.\n",
    "- **header = True**: Este argumento especifica que la primera línea del archivo CSV contiene los nombres de las columnas. Si se establece en True, Spark interpretará la primera fila como nombres de columna."
   ]
  },
  {
   "cell_type": "code",
   "execution_count": 0,
   "metadata": {
    "application/vnd.databricks.v1+cell": {
     "cellMetadata": {
      "byteLimit": 2048000,
      "rowLimit": 10000
     },
     "inputWidgets": {},
     "nuid": "7b44ae88-1df5-445b-9932-86efbb07046c",
     "showTitle": false,
     "title": ""
    }
   },
   "outputs": [
    {
     "output_type": "stream",
     "name": "stdout",
     "output_type": "stream",
     "text": [
      "+---+---+---+--------+----+---+-------+-------+-----+-------+-----+---+----+------+\n|age|sex| cp|trestbps|chol|fbs|restecg|thalach|exang|oldpeak|slope| ca|thal|target|\n+---+---+---+--------+----+---+-------+-------+-----+-------+-----+---+----+------+\n| 63|  1|  3|     145| 233|  1|      0|    150|    0|    2.3|    0|  0|   1|     1|\n| 37|  1|  2|     130| 250|  0|      1|    187|    0|    3.5|    0|  0|   2|     1|\n| 41|  0|  1|     130| 204|  0|      0|    172|    0|    1.4|    2|  0|   2|     1|\n| 56|  1|  1|     120| 236|  0|      1|    178|    0|    0.8|    2|  0|   2|     1|\n| 57|  0|  0|     120| 354|  0|      1|    163|    1|    0.6|    2|  0|   2|     1|\n| 57|  1|  0|     140| 192|  0|      1|    148|    0|    0.4|    1|  0|   1|     1|\n| 56|  0|  1|     140| 294|  0|      0|    153|    0|    1.3|    1|  0|   2|     1|\n| 44|  1|  1|     120| 263|  0|      1|    173|    0|    0.0|    2|  0|   3|     1|\n| 52|  1|  2|     172| 199|  1|      1|    162|    0|    0.5|    2|  0|   3|     1|\n| 57|  1|  2|     150| 168|  0|      1|    174|    0|    1.6|    2|  0|   2|     1|\n| 54|  1|  0|     140| 239|  0|      1|    160|    0|    1.2|    2|  0|   2|     1|\n| 48|  0|  2|     130| 275|  0|      1|    139|    0|    0.2|    2|  0|   2|     1|\n| 49|  1|  1|     130| 266|  0|      1|    171|    0|    0.6|    2|  0|   2|     1|\n| 64|  1|  3|     110| 211|  0|      0|    144|    1|    1.8|    1|  0|   2|     1|\n| 58|  0|  3|     150| 283|  1|      0|    162|    0|    1.0|    2|  0|   2|     1|\n| 50|  0|  2|     120| 219|  0|      1|    158|    0|    1.6|    1|  0|   2|     1|\n| 58|  0|  2|     120| 340|  0|      1|    172|    0|    0.0|    2|  0|   2|     1|\n| 66|  0|  3|     150| 226|  0|      1|    114|    0|    2.6|    0|  0|   2|     1|\n| 43|  1|  0|     150| 247|  0|      1|    171|    0|    1.5|    2|  0|   2|     1|\n| 69|  0|  3|     140| 239|  0|      1|    151|    0|    1.8|    2|  2|   2|     1|\n+---+---+---+--------+----+---+-------+-------+-----+-------+-----+---+----+------+\nonly showing top 20 rows\n\n"
     ]
    }
   ],
   "source": [
    "# Cargando dataset desde un fichero csv, previamente cargado desde el apartado 'Catálogo'--> Crear tabla\n",
    "heart = spark.read.csv('/FileStore/tables/heart.csv', \n",
    "                       inferSchema = True, \n",
    "                       header = True)\n",
    "\n",
    "heart.show()"
   ]
  },
  {
   "cell_type": "markdown",
   "metadata": {
    "application/vnd.databricks.v1+cell": {
     "cellMetadata": {
      "byteLimit": 2048000,
      "rowLimit": 10000
     },
     "inputWidgets": {},
     "nuid": "4076ee57-6588-4cf8-8301-71f6de35bef9",
     "showTitle": false,
     "title": ""
    }
   },
   "source": [
    "## CONEXIÓN A UNA BASE DE DATOS EXTERNA\n",
    "\n",
    "El siguiente código utiliza el comando mágico `%sh` para ejecutar un comando de shell. En el comando tenemos los siguientes parámetros:\n",
    "\n",
    "- `nc`: Este comando se utiliza para establecer conexiones de red, o para escuchar y enviar datos a través de conexiones de red.\n",
    "  \n",
    "- `-vz`: Son opciones del comando `nc`. `-v` le indica a `nc` que muestre información detallada sobre la conexión, y `-z` indica que `nc` debe escanear para ver si el puerto está abierto sin enviar ningún dato.\n",
    "\n",
    "- `\"mysql-jordipozo.alwaysdata.net\"`: Es el nombre del host al que se intenta conectar. En este caso, parece ser un servidor MySQL alojado en `mysql-jordipozo.alwaysdata.net`.\n",
    "\n",
    "- `\"3306\"`: Es el número de puerto al que se intenta conectar. En el caso de MySQL, el puerto predeterminado es el `3306`.\n",
    "\n",
    "Este código verifica si es posible establecer una conexión al servidor MySQL alojado en *`mysql-jordipozo.alwaysdata.net`* en el puerto *`3306`* utilizando el comando `nc` para escanear si el puerto está abierto. Esto se usa para verificar la disponibilidad del servidor remoto MySQL desde el entorno de Databricks."
   ]
  },
  {
   "cell_type": "code",
   "execution_count": 0,
   "metadata": {
    "application/vnd.databricks.v1+cell": {
     "cellMetadata": {
      "byteLimit": 2048000,
      "rowLimit": 10000
     },
     "inputWidgets": {},
     "nuid": "f750c2bf-aec6-4490-872c-cb37637867ed",
     "showTitle": false,
     "title": ""
    },
    "jupyter": {
     "outputs_hidden": true
    }
   },
   "outputs": [
    {
     "output_type": "stream",
     "name": "stdout",
     "output_type": "stream",
     "text": [
      "Connection to mysql-jordipozo.alwaysdata.net 3306 port [tcp/mysql] succeeded!\n"
     ]
    }
   ],
   "source": [
    "%sh nc -vz \"URL\" \"PUERTO\""
   ]
  },
  {
   "cell_type": "markdown",
   "metadata": {
    "application/vnd.databricks.v1+cell": {
     "cellMetadata": {},
     "inputWidgets": {},
     "nuid": "91d6839a-c58c-4796-9812-44daafea26e3",
     "showTitle": false,
     "title": ""
    }
   },
   "source": [
    "#### Establecimiento de conexión\n",
    "A continuación se establece la conexión a la BB.DD. externa. En este caso se trata de una Base de Datos que usa *MariaDB* y que tenemos alojada en el host *Always Data*"
   ]
  },
  {
   "cell_type": "code",
   "execution_count": 0,
   "metadata": {
    "application/vnd.databricks.v1+cell": {
     "cellMetadata": {
      "byteLimit": 2048000,
      "rowLimit": 10000
     },
     "inputWidgets": {},
     "nuid": "bfa507fe-6061-4235-9886-dc7c1dc6f488",
     "showTitle": false,
     "title": ""
    },
    "jupyter": {
     "outputs_hidden": true
    }
   },
   "outputs": [
    {
     "output_type": "stream",
     "name": "stdout",
     "output_type": "stream",
     "text": [
      "jdbc:mysql://mysql-jordipozo.alwaysdata.net:3306/jordipozo_midb\n"
     ]
    }
   ],
   "source": [
    "# Conexión a una base de datos\n",
    "driver = \"org.mariadb.jdbc.Driver\"\n",
    "\n",
    "user = 'USUARIO'\n",
    "password = 'PASSWORD'\n",
    "\n",
    "database_host = \"URL_HOST\"\n",
    "database_port = \"3306\" # Modificar si el puerto usado no es el que viene por defecto\n",
    "database_name = \"DATABASE_NAME\"\n",
    "table_name = 'TABLE_NAME'\n",
    "\n",
    "url = f\"jdbc:mysql://{database_host}:{database_port}/{database_name}\"\n",
    "\n",
    "print(url)"
   ]
  },
  {
   "cell_type": "markdown",
   "metadata": {
    "application/vnd.databricks.v1+cell": {
     "cellMetadata": {},
     "inputWidgets": {},
     "nuid": "33f7a390-41f6-4b14-aa37-4bc09982c1ce",
     "showTitle": false,
     "title": ""
    }
   },
   "source": [
    "#### Recuperando datos de tablas"
   ]
  },
  {
   "cell_type": "code",
   "execution_count": 0,
   "metadata": {
    "application/vnd.databricks.v1+cell": {
     "cellMetadata": {
      "byteLimit": 2048000,
      "rowLimit": 10000
     },
     "inputWidgets": {},
     "nuid": "e25bb221-8940-4792-b84f-2d27ba4f2d34",
     "showTitle": false,
     "title": ""
    }
   },
   "outputs": [],
   "source": [
    "tblEquipos = (spark.read\n",
    "    .format(\"jdbc\")\n",
    "    .option(\"driver\", driver)\n",
    "    .option(\"url\", url)\n",
    "    .option(\"dbtable\", table_name)\n",
    "    .option(\"user\", user)\n",
    "    .option(\"password\", password)\n",
    "    .load()\n",
    ")"
   ]
  },
  {
   "cell_type": "markdown",
   "metadata": {
    "application/vnd.databricks.v1+cell": {
     "cellMetadata": {},
     "inputWidgets": {},
     "nuid": "8bf26f4d-16d2-4c2d-a2f0-98e76b596f90",
     "showTitle": false,
     "title": ""
    }
   },
   "source": [
    "#### Accediendo y mostrando información de las tablas"
   ]
  },
  {
   "cell_type": "code",
   "execution_count": 0,
   "metadata": {
    "application/vnd.databricks.v1+cell": {
     "cellMetadata": {
      "byteLimit": 2048000,
      "rowLimit": 10000
     },
     "inputWidgets": {},
     "nuid": "d08b20b6-6dc4-4432-a399-e262d9d35170",
     "showTitle": false,
     "title": ""
    }
   },
   "outputs": [
    {
     "output_type": "stream",
     "name": "stdout",
     "output_type": "stream",
     "text": [
      "+---------+------------+-----------+---------+\n|   Nombre|      Ciudad|Conferencia| Division|\n+---------+------------+-----------+---------+\n|    76ers|Philadelphia|       East| Atlantic|\n|  Bobcats|   Charlotte|       East|SouthEast|\n|    Bucks|   Milwaukee|       East|  Central|\n|    Bulls|     Chicago|       East|  Central|\n|Cavaliers|   Cleveland|       East|  Central|\n|  Celtics|      Boston|       East| Atlantic|\n| Clippers| Los Angeles|       West|  Pacific|\n|Grizzlies|     Memphis|       West|SouthWest|\n|    Hawks|     Atlanta|       East|SouthEast|\n|     Heat|       Miami|       East|SouthEast|\n|  Hornets| New Orleans|       West|SouthWest|\n|     Jazz|        Utah|       West|NorthWest|\n|    Kings|  Sacramento|       West|  Pacific|\n|   Knicks|    New York|       East| Atlantic|\n|   Lakers| Los Angeles|       West|  Pacific|\n|    Magic|     Orlando|       East|SouthEast|\n|Mavericks|      Dallas|       West|SouthWest|\n|     Nets|  New Jersey|       East| Atlantic|\n|  Nuggets|      Denver|       West|NorthWest|\n|   Pacers|     Indiana|       East|  Central|\n+---------+------------+-----------+---------+\nonly showing top 20 rows\n\n"
     ]
    }
   ],
   "source": [
    "tblEquipos.show()"
   ]
  },
  {
   "cell_type": "code",
   "execution_count": 0,
   "metadata": {
    "application/vnd.databricks.v1+cell": {
     "cellMetadata": {
      "byteLimit": 2048000,
      "rowLimit": 10000
     },
     "inputWidgets": {},
     "nuid": "9322d0a4-d8e8-4c3e-907e-60d3f34f3ef9",
     "showTitle": false,
     "title": ""
    }
   },
   "outputs": [
    {
     "output_type": "stream",
     "name": "stdout",
     "output_type": "stream",
     "text": [
      "Out[36]: [Row(Nombre='76ers', Conferencia='East'),\n Row(Nombre='Bobcats', Conferencia='East'),\n Row(Nombre='Bucks', Conferencia='East'),\n Row(Nombre='Bulls', Conferencia='East')]"
     ]
    }
   ],
   "source": [
    "tblEquipos[['Nombre','Conferencia']].head(4)"
   ]
  },
  {
   "cell_type": "code",
   "execution_count": 0,
   "metadata": {
    "application/vnd.databricks.v1+cell": {
     "cellMetadata": {
      "byteLimit": 2048000,
      "rowLimit": 10000
     },
     "inputWidgets": {},
     "nuid": "6783130d-88c3-4fd8-b51b-270a78c53f5e",
     "showTitle": false,
     "title": ""
    }
   },
   "outputs": [
    {
     "output_type": "stream",
     "name": "stdout",
     "output_type": "stream",
     "text": [
      "+-------+-----------+\n| Nombre|Conferencia|\n+-------+-----------+\n|  76ers|       East|\n|Bobcats|       East|\n|  Bucks|       East|\n|  Bulls|       East|\n+-------+-----------+\nonly showing top 4 rows\n\n"
     ]
    }
   ],
   "source": [
    "tblEquipos[['Nombre','Conferencia']].show(4)"
   ]
  },
  {
   "cell_type": "markdown",
   "metadata": {
    "application/vnd.databricks.v1+cell": {
     "cellMetadata": {},
     "inputWidgets": {},
     "nuid": "b3819ab4-a4ae-4abb-a38b-854ab64e8e8a",
     "showTitle": false,
     "title": ""
    }
   },
   "source": [
    "## Lanzando consultas "
   ]
  },
  {
   "cell_type": "code",
   "execution_count": 0,
   "metadata": {
    "application/vnd.databricks.v1+cell": {
     "cellMetadata": {
      "byteLimit": 2048000,
      "rowLimit": 10000
     },
     "inputWidgets": {},
     "nuid": "cbee5c89-5b63-432f-8c40-f83b7d1d8b26",
     "showTitle": false,
     "title": ""
    }
   },
   "outputs": [
    {
     "output_type": "stream",
     "name": "stdout",
     "output_type": "stream",
     "text": [
      "+---------+------------+\n|   Nombre|      Ciudad|\n+---------+------------+\n|    76ers|Philadelphia|\n|  Bobcats|   Charlotte|\n|    Bucks|   Milwaukee|\n|    Bulls|     Chicago|\n|Cavaliers|   Cleveland|\n|  Celtics|      Boston|\n| Clippers| Los Angeles|\n|Grizzlies|     Memphis|\n|    Hawks|     Atlanta|\n|     Heat|       Miami|\n|  Hornets| New Orleans|\n|     Jazz|        Utah|\n|    Kings|  Sacramento|\n|   Knicks|    New York|\n|   Lakers| Los Angeles|\n|    Magic|     Orlando|\n|Mavericks|      Dallas|\n|     Nets|  New Jersey|\n|  Nuggets|      Denver|\n|   Pacers|     Indiana|\n+---------+------------+\nonly showing top 20 rows\n\n"
     ]
    }
   ],
   "source": [
    "df_selected = tblEquipos.select(\"Nombre\", \"Ciudad\")\n",
    "df_selected.show()"
   ]
  },
  {
   "cell_type": "markdown",
   "metadata": {
    "application/vnd.databricks.v1+cell": {
     "cellMetadata": {},
     "inputWidgets": {},
     "nuid": "37cdf680-9a13-476d-8f1a-aa4219f073ad",
     "showTitle": false,
     "title": ""
    }
   },
   "source": [
    "### Consultando datos agregados \n",
    "\n",
    "- Importamos las funciones de agregado de **pyspark.sql**"
   ]
  },
  {
   "cell_type": "code",
   "execution_count": 0,
   "metadata": {
    "application/vnd.databricks.v1+cell": {
     "cellMetadata": {
      "byteLimit": 2048000,
      "rowLimit": 10000
     },
     "inputWidgets": {},
     "nuid": "f4de90de-5a37-4bec-a295-9bc0afdacb6f",
     "showTitle": false,
     "title": ""
    }
   },
   "outputs": [
    {
     "output_type": "stream",
     "name": "stdout",
     "output_type": "stream",
     "text": [
      "+-----------+------+\n|Conferencia|Cuenta|\n+-----------+------+\n|       East|    15|\n|       West|    15|\n+-----------+------+\n\n"
     ]
    }
   ],
   "source": [
    "from pyspark.sql import functions as F\n",
    "\n",
    "df_grouped = tblEquipos.groupBy(\"Conferencia\").agg(F.count(\"Division\").alias(\"Cuenta\"))\n",
    "df_grouped.show()"
   ]
  },
  {
   "cell_type": "code",
   "execution_count": 0,
   "metadata": {
    "application/vnd.databricks.v1+cell": {
     "cellMetadata": {
      "byteLimit": 2048000,
      "rowLimit": 10000
     },
     "inputWidgets": {},
     "nuid": "f7d03674-4a5c-4082-8e71-075303609c87",
     "showTitle": false,
     "title": ""
    }
   },
   "outputs": [
    {
     "output_type": "stream",
     "name": "stdout",
     "output_type": "stream",
     "text": [
      "+--------+-----------+\n|  Nombre|     Ciudad|\n+--------+-----------+\n|Clippers|Los Angeles|\n|  Lakers|Los Angeles|\n+--------+-----------+\n\n"
     ]
    }
   ],
   "source": [
    "df_selected.createOrReplaceTempView(\"temp_view\")\n",
    "df_filtered=spark.sql(\"SELECT * FROM temp_view WHERE Ciudad = 'Los Angeles'\")\n",
    "df_filtered.show()"
   ]
  },
  {
   "cell_type": "code",
   "execution_count": 0,
   "metadata": {
    "application/vnd.databricks.v1+cell": {
     "cellMetadata": {
      "byteLimit": 2048000,
      "rowLimit": 10000
     },
     "inputWidgets": {},
     "nuid": "39fed42c-5d6c-4df3-8311-08944c741bdb",
     "showTitle": false,
     "title": ""
    }
   },
   "outputs": [
    {
     "output_type": "stream",
     "name": "stdout",
     "output_type": "stream",
     "text": [
      "+------+--------------+-----------+------+----+--------+-------------+\n|codigo|        Nombre|Procedencia|Altura|Peso|Posicion|Nombre_equipo|\n+------+--------------+-----------+------+----+--------+-------------+\n|     1|  Corey Brever|    Florida|   6-9| 185|     F-G| Timberwolves|\n|     2|  Greg Buckner|    Clemson|   6-4| 210|     G-F| Timberwolves|\n|     3|Michael Doleac|       Utah|  6-11| 262|       C| Timberwolves|\n|     4|    Randy Foye|  Villanova|   6-4| 213|       G| Timberwolves|\n|     5|    Ryan Gomes| Providence|   6-7| 250|       F| Timberwolves|\n+------+--------------+-----------+------+----+--------+-------------+\nonly showing top 5 rows\n\n"
     ]
    }
   ],
   "source": [
    "table_name =\"jugadores\"\n",
    "tblJugadores = (spark.read\n",
    "    .format(\"jdbc\")\n",
    "    .option(\"driver\", driver)\n",
    "    .option(\"url\", url)\n",
    "    .option(\"dbtable\", table_name)\n",
    "    .option(\"user\", user)\n",
    "    .option(\"password\", password)\n",
    "    .load()\n",
    ")\n",
    "\n",
    "tblJugadores.show(5)"
   ]
  },
  {
   "cell_type": "markdown",
   "metadata": {
    "application/vnd.databricks.v1+cell": {
     "cellMetadata": {},
     "inputWidgets": {},
     "nuid": "69ef40d4-2fa4-41ba-9526-acb8836f5b05",
     "showTitle": false,
     "title": ""
    }
   },
   "source": [
    "### Realizando consultas sobre varias tablas (Usando JOIN y WHERE)"
   ]
  },
  {
   "cell_type": "code",
   "execution_count": 0,
   "metadata": {
    "application/vnd.databricks.v1+cell": {
     "cellMetadata": {
      "byteLimit": 2048000,
      "rowLimit": 10000
     },
     "inputWidgets": {},
     "nuid": "e5b50299-b098-445c-9d5e-997be2b58809",
     "showTitle": false,
     "title": ""
    }
   },
   "outputs": [],
   "source": [
    "tblEquipos.createOrReplaceTempView(\"equipos\")\n",
    "tblJugadores.createOrReplaceTempView(\"jugadores\")"
   ]
  },
  {
   "cell_type": "code",
   "execution_count": 0,
   "metadata": {
    "application/vnd.databricks.v1+cell": {
     "cellMetadata": {
      "byteLimit": 2048000,
      "rowLimit": 10000
     },
     "inputWidgets": {},
     "nuid": "0e05df22-f7a6-48f4-854a-cf9c79d1a225",
     "showTitle": false,
     "title": ""
    }
   },
   "outputs": [
    {
     "output_type": "stream",
     "name": "stdout",
     "output_type": "stream",
     "text": [
      "+------+-----------+----------------+\n|Nombre|Conferencia|          Nombre|\n+------+-----------+----------------+\n| 76ers|       East|  Louis Amundson|\n| 76ers|       East|    Calvin Booth|\n| 76ers|       East|   Rodney Carney|\n| 76ers|       East|Samuel Dalembert|\n| 76ers|       East|    Reggie Evans|\n| 76ers|       East|    Willie Green|\n| 76ers|       East|    Herbert Hill|\n| 76ers|       East|  Andre Iguodala|\n| 76ers|       East|    Andre Miller|\n| 76ers|       East|     Kevin Ollie|\n| 76ers|       East|Shavlik Randolph|\n| 76ers|       East|     Jason Smith|\n| 76ers|       East|  Louis Williams|\n| 76ers|       East|  Thaddeus Young|\n+------+-----------+----------------+\n\n"
     ]
    }
   ],
   "source": [
    "df_join = spark.sql(\"select e.Nombre, e.Conferencia, j.Nombre from equipos e join jugadores j on e.Nombre == j.Nombre_equipo where e.Nombre='76ers'\")\n",
    "df_join.show()"
   ]
  },
  {
   "cell_type": "markdown",
   "metadata": {
    "application/vnd.databricks.v1+cell": {
     "cellMetadata": {},
     "inputWidgets": {},
     "nuid": "18daff89-950f-4ac6-b0d6-02e01b8d3b83",
     "showTitle": false,
     "title": ""
    }
   },
   "source": [
    "### EJERCICIOS PRÁCTICOS\n",
    "\n",
    "1. ¿Cuál es el jugador que más kilos pesa? \n",
    "2. ¿Cuánto mide el jugador más bajo y cuál es su nombre?  \n",
    "3. ¿Cuántos jugadores tiene el equipo de los Lakers? \n",
    "4. ¿Cuánto pesan de media los jugadores de los Maveriks?"
   ]
  },
  {
   "cell_type": "code",
   "execution_count": 0,
   "metadata": {
    "application/vnd.databricks.v1+cell": {
     "cellMetadata": {},
     "inputWidgets": {},
     "nuid": "4ddb6b29-48f6-4c3e-8d0d-72fe76d656ec",
     "showTitle": false,
     "title": ""
    }
   },
   "outputs": [],
   "source": []
  }
 ],
 "metadata": {
  "application/vnd.databricks.v1+notebook": {
   "dashboards": [],
   "language": "python",
   "notebookMetadata": {
    "mostRecentlyExecutedCommandWithImplicitDF": {
     "commandId": 3646031770410579,
     "dataframes": [
      "_sqldf"
     ]
    },
    "pythonIndentUnit": 4
   },
   "notebookName": "Conexión a BBDD Remota_Práctica",
   "widgets": {}
  }
 },
 "nbformat": 4,
 "nbformat_minor": 0
}
