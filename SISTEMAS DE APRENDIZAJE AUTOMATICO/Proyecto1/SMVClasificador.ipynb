{
 "cells": [
  {
   "cell_type": "markdown",
   "metadata": {},
   "source": [
    "# Algoritmo SVM Clasificador\n",
    "\n",
    "## Noelia Otazo Rojo\n",
    "\n",
    "### Importamos las librerías"
   ]
  },
  {
   "cell_type": "code",
   "execution_count": 19,
   "metadata": {},
   "outputs": [],
   "source": [
    "# Comando para la instalación de las librerías necesarias\n",
    "#!pip install matplotlib keras tensorflow scikit-learn seaborn pandas plotly\n",
    "\n",
    "import pandas as pd\n",
    "import matplotlib.pyplot as plt\n",
    "from sklearn.model_selection import train_test_split\n",
    "from sklearn.preprocessing import StandardScaler\n",
    "from sklearn.svm import SVC\n",
    "import numpy as np\n",
    "from sklearn.metrics import precision_score\n",
    "from sklearn.metrics import recall_score\n",
    "from sklearn.metrics import classification_report"
   ]
  },
  {
   "cell_type": "markdown",
   "metadata": {},
   "source": [
    "### Carga del dataset y transformación de datos"
   ]
  },
  {
   "cell_type": "code",
   "execution_count": 3,
   "metadata": {},
   "outputs": [
    {
     "name": "stdout",
     "output_type": "stream",
     "text": [
      "True\n",
      "True\n"
     ]
    }
   ],
   "source": [
    "# Cargar el dataset de emergencias del 112 en CYL\n",
    "data = pd.read_csv(\".\\dataset\\Accidentes.csv\", encoding=\"cp1252\", sep=\";\")\n",
    "\n",
    "# Antes de nada borramos los valores nulos\n",
    "data_clean=data.dropna()\n",
    "\n",
    "# Visualizar los primeros registros\n",
    "# data.head()\n",
    "\n",
    "# Separamos los datos en entrenamiento y prueba.\n",
    "data_train, data_test = train_test_split(data_clean, test_size=0.3, stratify=data_clean['Tipo Accidente'])\n",
    "\n",
    "#Transforma los datos a numéricos\n",
    "#Tipo Accidente\n",
    "map_target_class = {'Atropello a peatón': 0, 'Colisión lateral y frontolateral': 1, 'Colisión por alcance y múltiple': 2, 'Otro tipo de accidente': 3, 'Salida de la vía': 4, 'Colisión frontal': 5, 'Colisión lateral': 6, 'Vuelco en la calzada': 7}\n",
    "data_train['TipoAccidente_Numérico'] = data_train['Tipo Accidente'].map(map_target_class)\n",
    "data_test['TipoAccidente_Numérico'] = data_test['Tipo Accidente'].map(map_target_class)\n",
    "\n",
    "#Sexo\n",
    "map_target_sexo = {'Mujer': 0, 'Hombre': 1}\n",
    "data_train['Sexo_Numérico'] = data_train['Sexo'].map(map_target_sexo)\n",
    "data_test['Sexo_Numérico'] = data_test['Sexo'].map(map_target_sexo)\n",
    "\n",
    "#Accesorios de seguridad\n",
    "map_target_accesorios = {'NINGUNO': 0, 'SE DESCONOCE': 1, 'UTILIZANDO CINTURÓN ': 3, 'SISTEMA DE RETENCIÓN': 4, 'UTILIZANDO CASCO': 5, 'CON REFLECTANTES': 6}\n",
    "data_train['Accesorios_Numérico'] = data_train['Accesorios de seguridad'].map(map_target_accesorios)\n",
    "data_test['Accesorios_Numérico'] = data_test['Accesorios de seguridad'].map(map_target_accesorios)\n",
    "\n",
    "#Tipo de vehículo\n",
    "map_target_tipo_vehiculo = {'Ambulancia': 0, 'Autobús': 1, 'Bicicleta o triciclo sin motor': 2, 'Camión MMA <= 3500 Kg': 3, 'Camión MMA > 3500 Kg': 4, 'Ciclomotor': 5, 'Desconocido': 6, 'Furgoneta': 7, 'Motocicleta': 8, 'Otros Vehículos': 9, 'Otros vehículos ligeros': 10, 'Turismo': 11, 'Vehículo articulado': 12}\n",
    "data_train['Vehículo_Numérico'] = data_train['Tipo de vehículo'].map(map_target_tipo_vehiculo)\n",
    "data_test['Vehículo_Numérico'] = data_test['Tipo de vehículo'].map(map_target_tipo_vehiculo)\n",
    "\n",
    "\n",
    "# data_train.head(2)\n",
    "\n",
    "data_train.dropna()\n",
    "data_test.dropna()\n",
    "\n",
    "X_train = data_train.drop(['Tipo Accidente', 'Sexo', 'Accesorios de seguridad', 'Tipo de vehículo', 'TipoAccidente_Numérico'], axis=1)\n",
    "y_train = data_train['TipoAccidente_Numérico']\n",
    "X_test  = data_test.drop(['Tipo Accidente', 'Sexo', 'Accesorios de seguridad', 'Tipo de vehículo', 'TipoAccidente_Numérico'], axis=1)\n",
    "y_test  = data_test['TipoAccidente_Numérico']\n",
    "\n",
    "# Aplica dropna() mientras X_train y X_test son todavía DataFrames de pandas\n",
    "X_train = X_train.dropna()\n",
    "X_test = X_test.dropna()\n",
    "\n",
    "# Ahora, alinea y_train y y_test con los índices de X_train y X_test después de dropna()\n",
    "y_train = data_train['TipoAccidente_Numérico'].loc[X_train.index]\n",
    "y_test = data_test['TipoAccidente_Numérico'].loc[X_test.index]\n",
    "\n",
    "print(X_train.shape[0] == y_train.shape[0])  # Debería ser True\n",
    "print(X_test.shape[0] == y_test.shape[0])  # Debería ser True"
   ]
  },
  {
   "cell_type": "markdown",
   "metadata": {},
   "source": [
    "### Escalado de características"
   ]
  },
  {
   "cell_type": "code",
   "execution_count": 14,
   "metadata": {},
   "outputs": [],
   "source": [
    "sc = StandardScaler()\n",
    "\n",
    "X_train = sc.fit_transform(X_train)\n",
    "X_test= sc.transform(X_test)"
   ]
  },
  {
   "cell_type": "code",
   "execution_count": 15,
   "metadata": {},
   "outputs": [
    {
     "name": "stdout",
     "output_type": "stream",
     "text": [
      "(2609, 9)\n",
      "(2609,)\n"
     ]
    }
   ],
   "source": [
    "print(X_train.shape)\n",
    "print(y_train.shape)"
   ]
  },
  {
   "cell_type": "code",
   "execution_count": 16,
   "metadata": {},
   "outputs": [],
   "source": [
    "svc = SVC(probability=True)\n",
    "\n",
    "svc.fit(X_train,y_train)\n",
    "\n",
    "y_pred_svc = svc.predict(X_test)"
   ]
  },
  {
   "cell_type": "code",
   "execution_count": 17,
   "metadata": {},
   "outputs": [
    {
     "name": "stdout",
     "output_type": "stream",
     "text": [
      "Accuracy del modelo:  0.17271922054915856\n"
     ]
    }
   ],
   "source": [
    "print(\"Accuracy del modelo: \", svc.score(X_test,y_test))"
   ]
  },
  {
   "cell_type": "code",
   "execution_count": 22,
   "metadata": {},
   "outputs": [
    {
     "name": "stdout",
     "output_type": "stream",
     "text": [
      "              precision    recall  f1-score   support\n",
      "\n",
      "           0       0.46      0.14      0.21       136\n",
      "           1       0.16      0.53      0.25       192\n",
      "           2       0.12      0.12      0.12       185\n",
      "           3       0.15      0.07      0.10       171\n",
      "           4       0.19      0.12      0.14       179\n",
      "           5       0.67      0.03      0.06       138\n",
      "           7       0.16      0.12      0.14       128\n",
      "\n",
      "    accuracy                           0.17      1129\n",
      "   macro avg       0.27      0.16      0.15      1129\n",
      "weighted avg       0.26      0.17      0.15      1129\n",
      "\n"
     ]
    }
   ],
   "source": [
    "print(classification_report(y_test, y_pred_svc))"
   ]
  }
 ],
 "metadata": {
  "kernelspec": {
   "display_name": "base",
   "language": "python",
   "name": "python3"
  },
  "language_info": {
   "codemirror_mode": {
    "name": "ipython",
    "version": 3
   },
   "file_extension": ".py",
   "mimetype": "text/x-python",
   "name": "python",
   "nbconvert_exporter": "python",
   "pygments_lexer": "ipython3",
   "version": "3.11.5"
  }
 },
 "nbformat": 4,
 "nbformat_minor": 2
}
