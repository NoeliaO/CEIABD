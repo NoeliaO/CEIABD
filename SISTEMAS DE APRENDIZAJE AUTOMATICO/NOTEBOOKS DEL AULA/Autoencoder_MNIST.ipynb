{
 "cells": [
  {
   "cell_type": "markdown",
   "source": [
    "## AUTOENCODERS\n",
    "Los **autoencoders** son una clase especializada de algoritmos que pueden aprender representaciones eficientes de los datos de entrada sin necesidad de etiquetas.   \n",
    "Se trata de una clase de redes neuronales artificiales diseñadas para el aprendizaje sin supervisión. Aprender a comprimir y representar eficazmente los datos de entrada sin etiquetas específicas es el principio esencial de un descodificador automático. Para ello se utiliza una estructura doble que consta de un codificador y un descodificador.   \n",
    "El codificador transforma los datos de entrada en una representación de dimensiones reducidas, que suele denominarse \"espacio latente\" o \"codificación\".   \n",
    "A partir de esa representación, un descodificador reconstruye la entrada inicial. Para que la red obtenga patrones significativos en los datos, un proceso de codificación y descodificación facilita la definición de características esenciales.\n",
    "\n",
    "### Arquitectura de un autoencoder en el aprendizaje profundo\n",
    "La arquitectura general de un autoencoder incluye un codificador, un decodificador y una capa de cuello de botella.  \n",
    "\n",
    "\n",
    "<img src=\"./img/Autoencoder.png\">\n"
   ],
   "metadata": {
    "collapsed": false
   },
   "id": "2c23ad74fdfad9ae"
  },
  {
   "cell_type": "markdown",
   "source": [
    "1. Codificador\n",
    "- La capa de entrada toma los datos brutos de entrada\n",
    "- Las capas ocultas reducen progresivamente la dimensionalidad de la entrada, capturando características y patrones importantes. Estas capas componen el codificador.\n",
    "- La capa cuello de botella (espacio latente) es la última capa oculta, donde la dimensionalidad se reduce significativamente. Esta capa representa la codificación comprimida de los datos de entrada.\n",
    "2. Decodificador\n",
    "- La capa cuello de botella toma la representación codificada y la expande de nuevo a la dimensionalidad de la entrada original.\n",
    "- Las capas ocultas aumentan progresivamente la dimensionalidad y tratan de reconstruir la entrada original.\n",
    "- La capa de salida produce la salida reconstruida, que idealmente debería ser lo más parecida posible a los datos de entrada.\n",
    "3. La función de pérdida utilizada durante el entrenamiento suele ser una pérdida de reconstrucción, que mide la diferencia entre la entrada y la salida reconstruida. Las opciones más habituales son el error cuadrático medio (ECM) para datos continuos o la entropía cruzada binaria para datos binarios.\n",
    "4. Durante el entrenamiento, el autocodificador aprende a minimizar la pérdida de reconstrucción, forzando a la red a capturar las características más importantes de los datos de entrada en la capa cuello de botella."
   ],
   "metadata": {
    "collapsed": false
   },
   "id": "9c4bfdf3ef8580a4"
  },
  {
   "cell_type": "markdown",
   "source": [
    "## Implementación de un autoencoder\n",
    "A continuación de construye un autoencoder compuesto por dos capas densas:   \n",
    " - un codificador encargado de condensar las imágenes en un vector latente de 64 dimensiones, y   \n",
    "  - un decodificador encargado de reconstruir la imagen inicial a partir de este espacio latente.\n",
    "\n",
    "### Importamos las librerías necesarias"
   ],
   "metadata": {
    "collapsed": false
   },
   "id": "6556d150da62b578"
  },
  {
   "cell_type": "code",
   "outputs": [],
   "source": [
    "import matplotlib.pyplot as plt\n",
    "import numpy as np\n",
    "import pandas as pd\n",
    "import tensorflow as tf\n",
    "\n",
    "from sklearn.metrics import accuracy_score, precision_score, recall_score\n",
    "from sklearn.model_selection import train_test_split\n",
    "from keras import layers, losses\n",
    "from keras.datasets import mnist\n",
    "from keras.models import Model\n"
   ],
   "metadata": {
    "collapsed": false,
    "ExecuteTime": {
     "end_time": "2024-04-04T11:30:55.271190Z",
     "start_time": "2024-04-04T11:30:55.267028Z"
    }
   },
   "id": "28bbd52c479c7fe7",
   "execution_count": 15
  },
  {
   "cell_type": "markdown",
   "source": [
    "### Cargamos el dataset MNIST"
   ],
   "metadata": {
    "collapsed": false
   },
   "id": "2d990685071f2b03"
  },
  {
   "cell_type": "code",
   "outputs": [
    {
     "name": "stdout",
     "output_type": "stream",
     "text": [
      "Tamaño de los datos de entrenamiento: (60000, 28, 28)\n",
      "Tamaño de los datos de test: (10000, 28, 28)\n"
     ]
    }
   ],
   "source": [
    "# Carga del dataset y extracción de los conjuntos de train y test\n",
    "(x_train, _), (x_test, _) = mnist.load_data()\n",
    "\n",
    "# Normalización de los valores de los pixeles dentro del rango [0, 1]\n",
    "x_train = x_train.astype('float32') / 255.\n",
    "x_test = x_test.astype('float32') / 255.\n",
    "\n",
    "# Tamaño de los conjuntos\n",
    "print(\"Tamaño de los datos de entrenamiento:\", x_train.shape)\n",
    "print(\"Tamaño de los datos de test:\", x_test.shape)\n"
   ],
   "metadata": {
    "collapsed": false,
    "ExecuteTime": {
     "end_time": "2024-04-04T11:30:57.874014Z",
     "start_time": "2024-04-04T11:30:57.482732Z"
    }
   },
   "id": "591a384c40a8c560",
   "execution_count": 16
  },
  {
   "cell_type": "markdown",
   "source": [
    "### Definición de un Autoencoder básico  \n",
    "\n",
    "En el siguiente fragmento de código se define la clase **SimpleAutoencoder**.  \n",
    "\n",
    "- El constructor inicializa el autoencoder con las dimensiones latentes y la forma de los datos especificados.\n",
    "- Las arquitecturas del codificador y decodificador se definen utilizando el modelo secuencial.  \n",
    "- El método de llamada define el paso hacia adelante del autoencoder, donde los datos de entrada pasan a través del codificador para obtener los datos codificados y luego a través del decodificador para obtener los datos decodificados."
   ],
   "metadata": {
    "collapsed": false
   },
   "id": "5bccae05e9ebf7a"
  },
  {
   "cell_type": "code",
   "outputs": [],
   "source": [
    "# Definción del modelo de autoencoder. Construimos una subclase de la clase Model de TF\n",
    "\n",
    "class SimpleAutoencoder(Model):\n",
    "\tdef __init__(self,latent_dimensions , data_shape):\n",
    "\t\tsuper(SimpleAutoencoder, self).__init__()\n",
    "\t\tself.latent_dimensions = latent_dimensions\n",
    "\t\tself.data_shape = data_shape\n",
    "\n",
    "\t\t# La arquitecturda del codificador usa un modelo Secuencial (Sequential)\n",
    "\t\tself.encoder = tf.keras.Sequential([\n",
    "\t\t\tlayers.Flatten(),\n",
    "\t\t\tlayers.Dense(latent_dimensions, activation='relu'),\n",
    "\t\t])\n",
    "\n",
    "\t\t# La arquitecturda del decodificador también usa un modelo Secuencial (Sequential)\n",
    "\t\tself.decoder = tf.keras.Sequential([\n",
    "\t\t\tlayers.Dense(tf.math.reduce_prod(data_shape), activation='sigmoid'),\n",
    "\t\t\tlayers.Reshape(data_shape)\n",
    "\t\t])\n",
    "\n",
    "\t\n",
    "\t# El método de propagación que define los pasos de codificación y decodificación\n",
    "\tdef call(self, input_data):\n",
    "\t\tencoded_data = self.encoder(input_data)\n",
    "\t\tdecoded_data = self.decoder(encoded_data)\n",
    "\t\treturn decoded_data\n",
    "\n",
    "\n",
    "# Extracción de información de la imagen del conjunto de test\n",
    "input_data_shape = x_test.shape[1:]\n",
    "\n",
    "# Especificación de la dimensionalidad del espacio latente\n",
    "latent_dimensions = 64\n",
    "\n",
    "# Creating an instance of the SimpleAutoencoder model\n",
    "# Creación de una instancia de la clase del modelo definido (SimpleAutoencoder)\n",
    "simple_autoencoder = SimpleAutoencoder(latent_dimensions, input_data_shape)\n"
   ],
   "metadata": {
    "collapsed": false,
    "ExecuteTime": {
     "end_time": "2024-04-04T11:36:21.965915Z",
     "start_time": "2024-04-04T11:36:21.946211Z"
    }
   },
   "id": "c69378d7f69a376e",
   "execution_count": 17
  },
  {
   "cell_type": "markdown",
   "source": [
    "### Compilación y entrenamiento del autoencoder"
   ],
   "metadata": {
    "collapsed": false
   },
   "id": "83b181836d694426"
  },
  {
   "cell_type": "code",
   "outputs": [
    {
     "name": "stdout",
     "output_type": "stream",
     "text": [
      "1875/1875 [==============================] - 5s 2ms/step - loss: 0.0239 - val_loss: 0.0092\n"
     ]
    },
    {
     "data": {
      "text/plain": "<keras.src.callbacks.History at 0x12b236dd0>"
     },
     "execution_count": 12,
     "metadata": {},
     "output_type": "execute_result"
    }
   ],
   "source": [
    "simple_autoencoder.compile(optimizer='adam', loss=losses.MeanSquaredError())\n",
    "\n",
    "simple_autoencoder.fit(x_train, x_train,\n",
    "\t\t\t\tepochs=1,\n",
    "\t\t\t\tshuffle=True,\n",
    "\t\t\t\tvalidation_data=(x_test, x_test))\n"
   ],
   "metadata": {
    "collapsed": false,
    "ExecuteTime": {
     "end_time": "2024-04-04T11:13:41.378273Z",
     "start_time": "2024-04-04T11:13:36.115340Z"
    }
   },
   "id": "2c8fbd0f8810cb2a",
   "execution_count": 12
  },
  {
   "cell_type": "markdown",
   "source": [
    "### Visualización de imágenes originales frente a imágenes reconstruidas"
   ],
   "metadata": {
    "collapsed": false
   },
   "id": "1b735e276060afee"
  },
  {
   "cell_type": "code",
   "outputs": [
    {
     "data": {
      "text/plain": "<Figure size 800x400 with 12 Axes>",
      "image/png": "[encoded data removed]"
     },
     "metadata": {},
     "output_type": "display_data"
    }
   ],
   "source": [
    "encoded_imgs = simple_autoencoder.encoder(x_test).numpy()\n",
    "decoded_imgs = simple_autoencoder.decoder(encoded_imgs).numpy()\n",
    "\n",
    "n = 6\n",
    "plt.figure(figsize=(8, 4))\n",
    "for i in range(n):\n",
    "    # display original\n",
    "    ax = plt.subplot(2, n, i + 1)\n",
    "    plt.imshow(x_test[i])\n",
    "    plt.title(\"original\")\n",
    "    plt.gray()\n",
    "    \n",
    "    # display reconstrucción\n",
    "    ax = plt.subplot(2, n, i + 1 + n)\n",
    "    plt.imshow(decoded_imgs[i])\n",
    "    plt.title(\"reconstrucción\")\n",
    "    plt.gray()\n",
    "\n",
    "plt.show()\n"
   ],
   "metadata": {
    "collapsed": false,
    "ExecuteTime": {
     "end_time": "2024-04-04T11:40:21.502490Z",
     "start_time": "2024-04-04T11:40:20.531702Z"
    }
   },
   "id": "2c97a593f815f0f8",
   "execution_count": 18
  },
  {
   "cell_type": "code",
   "outputs": [],
   "source": [],
   "metadata": {
    "collapsed": false
   },
   "id": "a598645d5ee18fd1"
  }
 ],
 "metadata": {
  "kernelspec": {
   "display_name": "Python 3",
   "language": "python",
   "name": "python3"
  },
  "language_info": {
   "codemirror_mode": {
    "name": "ipython",
    "version": 2
   },
   "file_extension": ".py",
   "mimetype": "text/x-python",
   "name": "python",
   "nbconvert_exporter": "python",
   "pygments_lexer": "ipython2",
   "version": "2.7.6"
  }
 },
 "nbformat": 4,
 "nbformat_minor": 5
}
