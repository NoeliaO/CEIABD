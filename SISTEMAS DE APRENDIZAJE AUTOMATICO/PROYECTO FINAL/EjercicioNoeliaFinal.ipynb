{
 "cells": [
  {
   "cell_type": "markdown",
   "metadata": {},
   "source": [
    "# Proyecto de programación Deep Vision"
   ]
  },
  {
   "cell_type": "markdown",
   "metadata": {},
   "source": [
    "## 0. Carga de librerías y ajustes iniciales"
   ]
  },
  {
   "cell_type": "code",
   "execution_count": null,
   "metadata": {},
   "outputs": [],
   "source": [
    "# Google\n",
    "from google.colab import drive, files\n",
    "\n",
    "# Numpy\n",
    "import numpy as np\n",
    "from numpy.random import seed\n",
    "\n",
    "# OpenCV to process images\n",
    "import cv2\n",
    "\n",
    "# Directory indexes\n",
    "from os import listdir\n",
    "\n",
    "# Random\n",
    "import random\n",
    "\n",
    "# Matplotlib\n",
    "import matplotlib.pyplot as plt\n",
    "import seaborn as sns\n",
    "\n",
    "# Tensorflow\n",
    "import tensorflow as tf\n",
    "from tensorflow import keras\n",
    "from tensorflow.keras import backend as K\n",
    "from tensorflow.keras import layers\n",
    "from tensorflow.keras.utils import to_categorical\n",
    "from tensorflow.keras.layers import Input, Conv2D, Activation, Flatten, Dense, Dropout, BatchNormaliz\n",
    "from tensorflow.keras.models import Model, Sequential\n",
    "from tensorflow.keras.models import Sequential\n",
    "from tensorflow.keras.callbacks import EarlyStopping\n",
    "from tensorflow.keras.optimizers import SGD, Adam\n",
    "from tensorflow.keras.applications import imagenet_utils\n",
    "from tensorflow.keras.preprocessing import image_dataset_from_directory\n",
    "from tensorflow.keras.preprocessing.image import ImageDataGenerator\n",
    "\n",
    "# Sklearn\n",
    "from sklearn.utils import class_weight\n",
    "from sklearn.metrics import classification_report\n",
    "from sklearn.preprocessing import LabelBinarizer\n",
    "from sklearn.model_selection import train_test_split\n",
    "\n",
    "# Ploteado del esquema gráfico del modelo\n",
    "from keras.utils.vis_utils import plot_model"
   ]
  },
  {
   "cell_type": "markdown",
   "metadata": {},
   "source": [
    "### Configuración y carga de seeds"
   ]
  },
  {
   "cell_type": "code",
   "execution_count": null,
   "metadata": {},
   "outputs": [],
   "source": [
    "# Semilla para numpy\n",
    "seed(7)\n",
    "\n",
    "# Semilla para tensorflow\n",
    "tf.random.set_seed(8)"
   ]
  },
  {
   "cell_type": "markdown",
   "metadata": {},
   "source": [
    "### Conexión y directorio de trabajo en google drive"
   ]
  },
  {
   "cell_type": "code",
   "execution_count": null,
   "metadata": {},
   "outputs": [],
   "source": [
    "drive.mount('/content/drive')\n",
    "\n",
    "BASE_FOLDER = '/content/drive/MyDrive/07_MIAR_RNDL_CONV2/ProyectoProgramacion/'"
   ]
  },
  {
   "cell_type": "markdown",
   "metadata": {},
   "source": [
    "### 0.1. Definición de funciones auxiliares y utilidades\n",
    "\n",
    "#### Función para el ploteado de curva de aprendizaje"
   ]
  },
  {
   "cell_type": "code",
   "execution_count": null,
   "metadata": {},
   "outputs": [],
   "source": [
    "def plot_learning_curves(H,epochs):\n",
    "    plt.style.use(\"ggplot\")\n",
    "    plt.figure()\n",
    "    plt.plot(np.arange(0, epochs), H.history[\"loss\"], label=\"train_loss\")\n",
    "    plt.plot(np.arange(0, epochs), H.history[\"val_loss\"], label=\"val_loss\")\n",
    "    plt.plot(np.arange(0, epochs), H.history[\"accuracy\"], label=\"train_acc\")\n",
    "    plt.plot(np.arange(0, epochs), H.history[\"val_accuracy\"], label=\"val_acc\")\n",
    "    plt.title(\"Entrenamiento: Loss and Accuracy\")\n",
    "    plt.xlabel(\"Epoch #\")\n",
    "    plt.ylabel(\"Loss/Accuracy\")\n",
    "    plt.legend()\n",
    "    plt.show()"
   ]
  },
  {
   "cell_type": "markdown",
   "metadata": {},
   "source": [
    "#### Función diseñada para extraer imágenes y sus correspondientes etiquetas"
   ]
  },
  {
   "cell_type": "code",
   "execution_count": null,
   "metadata": {},
   "outputs": [],
   "source": [
    "# Función de conversión a array NumPy\n",
    "def toNumPyArray_x_y(image_ds):\n",
    "    x = []\n",
    "    y = []\n",
    "    #for image, label in tfds.as_numpy(image_ds):\n",
    "    #for image, label in image_ds.as_numpy_iterator():\n",
    "    for image, label in image_ds:\n",
    "        x.append(image.numpy())\n",
    "        y.append(label.numpy())\n",
    "    x = np.array(x)\n",
    "    y = np.array(y)\n",
    "    return x, y"
   ]
  },
  {
   "cell_type": "markdown",
   "metadata": {},
   "source": [
    "#### Función para ploteado de diagrama de arquitectura"
   ]
  },
  {
   "cell_type": "code",
   "execution_count": null,
   "metadata": {},
   "outputs": [],
   "source": [
    "# Función para mostrar gráfico de arquitectura de red\n",
    "def plot_schema(model_name, file_name='model_plot.png', shapes=True, layer_names=True):\n",
    "    return plot_model(model=model_name,\n",
    "        to_file=file_name,\n",
    "        show_shapes=shapes,\n",
    "        show_layer_names=layer_names)"
   ]
  },
  {
   "cell_type": "markdown",
   "metadata": {},
   "source": [
    "## 1. Carga del conjunto de datos (desde Kaggle)"
   ]
  },
  {
   "cell_type": "code",
   "execution_count": null,
   "metadata": {},
   "outputs": [],
   "source": [
    "# Verificación de la versión de la API de Kaggle en Colab\n",
    "!pip install --upgrade --force-reinstall --no-deps kaggle"
   ]
  },
  {
   "cell_type": "markdown",
   "metadata": {},
   "source": []
  },
  {
   "cell_type": "code",
   "execution_count": null,
   "metadata": {},
   "outputs": [],
   "source": [
    "# Seleccionamos y cargamos el API de Kaggle descargado (kaggle.json)\n",
    "files.upload()\n",
    "\n",
    "# Creamos directorio donde guardar el fichero kaggle.json\n",
    "!mkdir ~/.kaggle\n",
    "!cp kaggle.json ~/.kaggle/\n",
    "!chmod 600 ~/.kaggle/kaggle.json\n",
    "\n",
    "# Descargamos dataset de Kaggle\n",
    "!kaggle competitions download -c the-nature-conservancy-fisheries-monitoring\n",
    "\n",
    "# Creamos directorio para descomprimir los datos\n",
    "!mkdir my_dataset\n",
    "\n",
    "# Descomprimimos datos\n",
    "!unzip the-nature-conservancy-fisheries-monitoring.zip -d my_dataset\n",
    "\n",
    "# descomprimo en mi directorio google drive\n",
    "%%capture\n",
    "!unzip my_dataset/train.zip -d my_dataset\n",
    "\n",
    "#!unzip my_dataset/test_stg1.zip"
   ]
  }
 ],
 "metadata": {
  "language_info": {
   "name": "python"
  }
 },
 "nbformat": 4,
 "nbformat_minor": 2
}
