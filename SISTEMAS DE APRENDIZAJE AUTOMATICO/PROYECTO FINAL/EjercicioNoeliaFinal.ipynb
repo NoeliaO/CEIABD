{
 "cells": [
  {
   "cell_type": "markdown",
   "metadata": {},
   "source": [
    "<!-- ![FOTO](./img/logo.jpeg)  -->\n",
    "# ***Deep Vision para tareas de clasificación***\n",
    "## ***By Noelia Otazo Rojo***\n",
    "\n",
    "### Objetivos\n",
    "**Evaluar y comparar** estrategias para la **clasificación de imágenes**, la solución deberá estar basada en el **aprendizaje profundo (Redes Neuronales Convolucionales CNNs)**.\n",
    "\n",
    "### Contenidos\n",
    "1.   **Carga** del conjunto de datos\n",
    "2.   **Inspección** del conjunto de datos\n",
    "3.   **Acondicionamiento** del conjunto de datos\n",
    "4.   Desarrollo de la **arquitectura** de red neuronal y **entrenamiento** de la solución\n",
    "5.   **Monitorización** del proceso de **entrenamiento** para la toma de decisiones\n",
    "6.   **Evaluación** del modelo predictivo.\n",
    "\n",
    "### Fuente de datos\n",
    "Enlace al dataset que voy a utilizar para llevar a cabo el siguiente proyecto:\n",
    "[Cancer Detection](https://www.kaggle.com/c/histopathologic-cancer-detection/data)\n",
    "\n"
   ]
  },
  {
   "cell_type": "markdown",
   "metadata": {},
   "source": [
    "## 0. Preparación del proyecto.\n",
    "En esta sección añadimeros las sentencias de instalación y las importaciones de las librerías necesarias para el desarrollo del proyecto."
   ]
  },
  {
   "cell_type": "code",
   "execution_count": null,
   "metadata": {},
   "outputs": [],
   "source": [
    "# Numpy\n",
    "import numpy as np\n",
    "from numpy.random import seed\n",
    "\n",
    "# OpenCV to process images\n",
    "import cv2\n",
    "\n",
    "# Directory indexes\n",
    "from os import listdir\n",
    "\n",
    "import shutil\n",
    "import random\n",
    "from pathlib import Path\n",
    "from pprint import pprint\n",
    "from collections import defaultdict\n",
    "\n",
    "# Matplotlib\n",
    "import matplotlib.pyplot as plt\n",
    "import seaborn as sns\n",
    "from tqdm import tqdm\n",
    "\n",
    "# Tensorflow\n",
    "import tensorflow as tf\n",
    "from tensorflow import keras\n",
    "from tensorflow.keras import backend as K\n",
    "from tensorflow.keras import layers\n",
    "from tensorflow.keras.utils import to_categorical\n",
    "from tensorflow.keras.layers import Input, Conv2D, Activation, Flatten, Dense, Dropout, BatchNormaliz\n",
    "from tensorflow.keras.models import Model, Sequential\n",
    "from tensorflow.keras.models import Sequential\n",
    "from tensorflow.keras.callbacks import EarlyStopping\n",
    "from tensorflow.keras.optimizers import SGD, Adam\n",
    "from tensorflow.keras.applications import imagenet_utils\n",
    "from tensorflow.keras.preprocessing import image_dataset_from_directory\n",
    "from tensorflow.keras.preprocessing.image import ImageDataGenerator\n",
    "\n",
    "# Sklearn\n",
    "from sklearn.utils import class_weight\n",
    "from sklearn.metrics import classification_report\n",
    "from sklearn.preprocessing import LabelBinarizer\n",
    "from sklearn.model_selection import train_test_split\n",
    "from sklearn.model_selection import StratifiedShuffleSplit\n",
    "\n",
    "# Ploteado del esquema gráfico del modelo\n",
    "from keras.utils.vis_utils import plot_model"
   ]
  },
  {
   "cell_type": "markdown",
   "metadata": {},
   "source": []
  },
  {
   "cell_type": "code",
   "execution_count": null,
   "metadata": {},
   "outputs": [],
   "source": [
    "# Verificación de la versión de la API de Kaggle en Colab\n",
    "!pip install --upgrade --force-reinstall --no-deps kaggle"
   ]
  },
  {
   "cell_type": "markdown",
   "metadata": {},
   "source": [
    "## 1. Carga del conjunto de datos.\n",
    "En esta sección cargaremos el contenido del dataset para su posterior uso.\n",
    "\n",
    "### 1.1 Carga del conjunto de datos.\n",
    "Realizaremos una función para en el caso de que fuera necesario poder reutilizar."
   ]
  },
  {
   "cell_type": "code",
   "execution_count": null,
   "metadata": {},
   "outputs": [],
   "source": [
    "# Seleccionamos y cargamos el API de Kaggle descargado (kaggle.json)\n",
    "files.upload()\n",
    "\n",
    "# Creamos directorio donde guardar el fichero kaggle.json\n",
    "!mkdir ~/.kaggle\n",
    "!cp kaggle.json ~/.kaggle/\n",
    "!chmod 600 ~/.kaggle/kaggle.json\n",
    "\n",
    "# Descargamos dataset de Kaggle\n",
    "!kaggle competitions download -c the-nature-conservancy-fisheries-monitoring\n",
    "\n",
    "# Creamos directorio para descomprimir los datos\n",
    "!mkdir my_dataset\n",
    "\n",
    "# Descomprimimos datos\n",
    "!unzip the-nature-conservancy-fisheries-monitoring.zip -d my_dataset\n",
    "\n",
    "# descomprimo en mi directorio google drive\n",
    "%%capture\n",
    "!unzip my_dataset/train.zip -d my_dataset\n",
    "\n",
    "#!unzip my_dataset/test_stg1.zip"
   ]
  },
  {
   "cell_type": "markdown",
   "metadata": {},
   "source": [
    "### Configuración y carga de seeds"
   ]
  },
  {
   "cell_type": "code",
   "execution_count": null,
   "metadata": {},
   "outputs": [],
   "source": []
  },
  {
   "cell_type": "markdown",
   "metadata": {},
   "source": [
    "### Conexión y directorio de trabajo en google drive"
   ]
  },
  {
   "cell_type": "code",
   "execution_count": null,
   "metadata": {},
   "outputs": [],
   "source": []
  },
  {
   "cell_type": "markdown",
   "metadata": {},
   "source": [
    "### 0.1. Definición de funciones auxiliares y utilidades\n",
    "\n",
    "#### Función para el ploteado de curva de aprendizaje"
   ]
  },
  {
   "cell_type": "code",
   "execution_count": null,
   "metadata": {},
   "outputs": [],
   "source": []
  },
  {
   "cell_type": "markdown",
   "metadata": {},
   "source": [
    "#### Función diseñada para extraer imágenes y sus correspondientes etiquetas"
   ]
  },
  {
   "cell_type": "code",
   "execution_count": null,
   "metadata": {},
   "outputs": [],
   "source": []
  },
  {
   "cell_type": "markdown",
   "metadata": {},
   "source": [
    "#### Función para ploteado de diagrama de arquitectura"
   ]
  },
  {
   "cell_type": "code",
   "execution_count": null,
   "metadata": {},
   "outputs": [],
   "source": []
  },
  {
   "cell_type": "markdown",
   "metadata": {},
   "source": [
    "## 1. Carga del conjunto de datos (desde Kaggle)"
   ]
  },
  {
   "cell_type": "code",
   "execution_count": null,
   "metadata": {},
   "outputs": [],
   "source": [
    "# Verificación de la versión de la API de Kaggle en Colab\n",
    "!pip install --upgrade --force-reinstall --no-deps kaggle"
   ]
  },
  {
   "cell_type": "markdown",
   "metadata": {},
   "source": []
  },
  {
   "cell_type": "code",
   "execution_count": null,
   "metadata": {},
   "outputs": [],
   "source": [
    "# Seleccionamos y cargamos el API de Kaggle descargado (kaggle.json)\n",
    "files.upload()\n",
    "\n",
    "# Creamos directorio donde guardar el fichero kaggle.json\n",
    "!mkdir ~/.kaggle\n",
    "!cp kaggle.json ~/.kaggle/\n",
    "!chmod 600 ~/.kaggle/kaggle.json\n",
    "\n",
    "# Descargamos dataset de Kaggle\n",
    "!kaggle competitions download -c the-nature-conservancy-fisheries-monitoring\n",
    "\n",
    "# Creamos directorio para descomprimir los datos\n",
    "!mkdir my_dataset\n",
    "\n",
    "# Descomprimimos datos\n",
    "!unzip the-nature-conservancy-fisheries-monitoring.zip -d my_dataset\n",
    "\n",
    "# descomprimo en mi directorio google drive\n",
    "%%capture\n",
    "!unzip my_dataset/train.zip -d my_dataset\n",
    "\n",
    "#!unzip my_dataset/test_stg1.zip"
   ]
  }
 ],
 "metadata": {
  "language_info": {
   "name": "python"
  }
 },
 "nbformat": 4,
 "nbformat_minor": 2
}
