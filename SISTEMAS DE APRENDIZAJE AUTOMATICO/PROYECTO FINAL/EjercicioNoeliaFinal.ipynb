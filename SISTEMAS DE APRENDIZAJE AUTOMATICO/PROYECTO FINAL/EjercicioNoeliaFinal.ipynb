{
 "cells": [
  {
   "cell_type": "markdown",
   "metadata": {},
   "source": [
    "<!-- ![FOTO](./img/logo.jpeg)  -->\n",
    "# ***Deep Vision para tareas de clasificación***\n",
    "## ***By Noelia Otazo Rojo***\n",
    "\n",
    "### Objetivos\n",
    "**Evaluar y comparar** estrategias para la **clasificación de imágenes**, la solución deberá estar basada en el **aprendizaje profundo (Redes Neuronales Convolucionales CNNs)**.\n",
    "\n",
    "### Contenidos\n",
    "1.   **Carga** del conjunto de datos\n",
    "2.   **Inspección** del conjunto de datos\n",
    "3.   **Acondicionamiento** del conjunto de datos\n",
    "4.   Desarrollo de la **arquitectura** de red neuronal y **entrenamiento** de la solución\n",
    "5.   **Monitorización** del proceso de **entrenamiento** para la toma de decisiones\n",
    "6.   **Evaluación** del modelo predictivo.\n",
    "\n",
    "### Fuente de datos\n",
    "Enlace al dataset que voy a utilizar para llevar a cabo el siguiente proyecto:\n",
    "[Cancer Detection](https://www.kaggle.com/c/histopathologic-cancer-detection/data)\n",
    "\n"
   ]
  },
  {
   "cell_type": "markdown",
   "metadata": {},
   "source": [
    "## 0. Preparación del proyecto.\n",
    "En esta sección añadimeros las sentencias de instalación y las importaciones de las librerías necesarias para el desarrollo del proyecto."
   ]
  },
  {
   "cell_type": "code",
   "execution_count": null,
   "metadata": {},
   "outputs": [],
   "source": [
    "# Numpy\n",
    "import numpy as np\n",
    "from numpy.random import seed\n",
    "\n",
    "# OpenCV to process images\n",
    "import cv2\n",
    "\n",
    "# Directory indexes\n",
    "from os import listdir\n",
    "\n",
    "import shutil\n",
    "import random\n",
    "from pathlib import Path\n",
    "from pprint import pprint\n",
    "from collections import defaultdict\n",
    "\n",
    "# Matplotlib\n",
    "import matplotlib.pyplot as plt\n",
    "import seaborn as sns\n",
    "from tqdm import tqdm\n",
    "\n",
    "# Pandas\n",
    "import pandas as pd\n",
    "\n",
    "# Tensorflow\n",
    "import tensorflow as tf\n",
    "from tensorflow import keras\n",
    "from tensorflow.keras import backend as K\n",
    "from tensorflow.keras import layers\n",
    "from tensorflow.keras.utils import to_categorical\n",
    "from tensorflow.keras.layers import Input, Conv2D, Activation, Flatten, Dense, Dropout, BatchNormaliz\n",
    "from tensorflow.keras.models import Model, Sequential\n",
    "from tensorflow.keras.models import Sequential\n",
    "from tensorflow.keras.callbacks import EarlyStopping\n",
    "from tensorflow.keras.optimizers import SGD, Adam\n",
    "from tensorflow.keras.applications import imagenet_utils\n",
    "from tensorflow.keras.preprocessing import image_dataset_from_directory\n",
    "from tensorflow.keras.preprocessing.image import ImageDataGenerator\n",
    "\n",
    "# Sklearn\n",
    "from sklearn.utils import class_weight\n",
    "from sklearn.metrics import classification_report\n",
    "from sklearn.preprocessing import LabelBinarizer\n",
    "from sklearn.model_selection import train_test_split\n",
    "from sklearn.model_selection import StratifiedShuffleSplit\n",
    "\n",
    "# Ploteado del esquema gráfico del modelo\n",
    "from keras.utils.vis_utils import plot_model"
   ]
  },
  {
   "cell_type": "markdown",
   "metadata": {},
   "source": [
    "## 1. Carga del conjunto de datos.\n",
    "En esta sección cargaremos el contenido del dataset para su posterior uso.\n",
    "\n",
    "### 1.1 Carga del conjunto de datos.\n"
   ]
  },
  {
   "cell_type": "code",
   "execution_count": null,
   "metadata": {},
   "outputs": [],
   "source": [
    "# Data\n",
    "test_data_path = 'histopathologic-cancer-detection/test'\n",
    "train_data_path = 'histopathologic-cancer-detection/train'\n",
    "train_labels_path = pd.read_csv('histopathologic-cancer-detection/train_labels.csv')\n",
    "sample_submission_path = pd.read_csv('histopathologic-cancer-detection/sample_submission.csv')\n",
    "class_names = [str(p.name) for p in Path('data/original').glob('*')]"
   ]
  },
  {
   "cell_type": "markdown",
   "metadata": {},
   "source": [
    "### 1.2 Establecemos los parámetros\n",
    "Mediante modificaciones podremos ir probando a ver cual se ajusta más."
   ]
  },
  {
   "cell_type": "code",
   "execution_count": null,
   "metadata": {},
   "outputs": [],
   "source": [
    "# Params \n",
    "# Train \n",
    "batch_size = 8\n",
    "monitor = 'val_loss'\n",
    "learning_rate = 1e-4\n",
    "epochs = 50\n",
    "early_stopping_patience = 4\n",
    "train_backbone = True\n",
    "version = 0\n",
    "plateau_factor = 0.5\n",
    "plateau_patience = 2\n",
    "\n",
    "# Model \n",
    "input_shape = (224, 224, 3)\n",
    "model_name = 'NOR-HISTOPATHOLOGIC-CANCER-DETECTION'"
   ]
  },
  {
   "cell_type": "markdown",
   "metadata": {},
   "source": []
  },
  {
   "cell_type": "code",
   "execution_count": null,
   "metadata": {},
   "outputs": [],
   "source": []
  },
  {
   "cell_type": "markdown",
   "metadata": {},
   "source": []
  },
  {
   "cell_type": "code",
   "execution_count": null,
   "metadata": {},
   "outputs": [],
   "source": []
  },
  {
   "cell_type": "markdown",
   "metadata": {},
   "source": []
  },
  {
   "cell_type": "code",
   "execution_count": null,
   "metadata": {},
   "outputs": [],
   "source": []
  },
  {
   "cell_type": "code",
   "execution_count": null,
   "metadata": {},
   "outputs": [],
   "source": []
  },
  {
   "cell_type": "markdown",
   "metadata": {},
   "source": []
  },
  {
   "cell_type": "code",
   "execution_count": null,
   "metadata": {},
   "outputs": [],
   "source": []
  }
 ],
 "metadata": {
  "language_info": {
   "name": "python"
  }
 },
 "nbformat": 4,
 "nbformat_minor": 2
}
