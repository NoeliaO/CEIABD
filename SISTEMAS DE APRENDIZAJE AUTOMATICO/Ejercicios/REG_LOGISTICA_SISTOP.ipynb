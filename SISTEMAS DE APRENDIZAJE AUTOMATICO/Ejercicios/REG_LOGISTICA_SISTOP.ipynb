{
 "cells": [
  {
   "cell_type": "markdown",
   "metadata": {},
   "source": [
    "##### Noelia Otazo Rojo     CEIABD - Sistemas de Aprendizaje Automático\n",
    "\n",
    "## EJERCICIO DE REGRESIÓN LOGÍSTICA\n",
    "\n",
    "Contando con el fichero usuarios_win_mac_lin.csv como dataset. \n",
    "\n",
    "Objetivo: Clasificar si el usuario que visita un sitio web usa como sistema operativo Windows, Mac o Linux."
   ]
  },
  {
   "cell_type": "code",
   "execution_count": 2,
   "metadata": {},
   "outputs": [],
   "source": [
    "import numpy as np\n",
    "import pandas as pd\n",
    "import matplotlib.pyplot as plt\n",
    "from sklearn.linear_model import LogisticRegression\n",
    "\n",
    "# Para dividir los datos en conjuntos de entrenamiento y prueba\n",
    "from sklearn.model_selection import train_test_split\n",
    "# Para calcular la precisión y el informe de clasificación\n",
    "from sklearn.metrics import accuracy_score, classification_report\n",
    "\n",
    "import seaborn as sns\n",
    "# Configuración de los warnings\n",
    "import warnings\n",
    "warnings.filterwarnings('ignore')"
   ]
  },
  {
   "cell_type": "markdown",
   "metadata": {},
   "source": [
    "### Cargar y explorar del Dataset"
   ]
  },
  {
   "cell_type": "code",
   "execution_count": 3,
   "metadata": {},
   "outputs": [
    {
     "name": "stdout",
     "output_type": "stream",
     "text": [
      "   duracion  paginas  acciones  valor  clase\n",
      "0       7.0        2         4      8      2\n",
      "1      21.0        2         6      6      2\n",
      "2      57.0        2         4      4      2\n",
      "3     101.0        3         6     12      2\n",
      "4     109.0        2         6     12      2\n"
     ]
    }
   ],
   "source": [
    "# Carga del dataset\n",
    "data = pd.read_csv(\"./datasets/usuarios_win_mac_lin.csv\")\n",
    "print(data.head())"
   ]
  },
  {
   "cell_type": "markdown",
   "metadata": {},
   "source": [
    "### Mostrar los tipos de datos"
   ]
  },
  {
   "cell_type": "code",
   "execution_count": 4,
   "metadata": {},
   "outputs": [
    {
     "data": {
      "text/plain": [
       "duracion    float64\n",
       "paginas       int64\n",
       "acciones      int64\n",
       "valor         int64\n",
       "clase         int64\n",
       "dtype: object"
      ]
     },
     "execution_count": 4,
     "metadata": {},
     "output_type": "execute_result"
    }
   ],
   "source": [
    "data.dtypes"
   ]
  },
  {
   "cell_type": "markdown",
   "metadata": {},
   "source": [
    "### Establecer los datos que serán características y los que serán valores objetivo.\n",
    "\n",
    "Las columnas duracion, paginas, acciones, valor son tus características (X), y la columna clase es la variable objetivo (y)."
   ]
  },
  {
   "cell_type": "code",
   "execution_count": 5,
   "metadata": {},
   "outputs": [],
   "source": [
    "# Características\n",
    "X = data.drop('clase', axis=1)\n",
    "# Variable Objetivo\n",
    "y = data['clase']\n"
   ]
  },
  {
   "cell_type": "markdown",
   "metadata": {},
   "source": [
    "### Creamos el modelo y lo entrenamos"
   ]
  },
  {
   "cell_type": "code",
   "execution_count": 6,
   "metadata": {},
   "outputs": [
    {
     "name": "stdout",
     "output_type": "stream",
     "text": [
      "Precisión del modelo: 0.7058823529411765\n",
      "\n",
      "Reporte de clasificación:\n",
      "              precision    recall  f1-score   support\n",
      "\n",
      "           0       0.65      0.81      0.72        16\n",
      "           1       0.71      0.42      0.53        12\n",
      "           2       0.86      1.00      0.92         6\n",
      "\n",
      "    accuracy                           0.71        34\n",
      "   macro avg       0.74      0.74      0.72        34\n",
      "weighted avg       0.71      0.71      0.69        34\n",
      "\n"
     ]
    }
   ],
   "source": [
    "# Establecemos valores de entrenamiento y testeo\n",
    "X_train, X_test, y_train, y_test = train_test_split(X, y, test_size=0.2, random_state=42)\n",
    "\n",
    "# Establecemos el modelo\n",
    "model = LogisticRegression()\n",
    "model.fit(X_train, y_train)\n",
    "\n",
    "# Testeo de la predicción \n",
    "y_pred = model.predict(X_test)\n",
    "\n",
    "# Precisión\n",
    "accuracy = accuracy_score(y_test, y_pred)\n",
    "\n",
    "# Reporte\n",
    "report = classification_report(y_test, y_pred)\n",
    "\n",
    "# Muestras\n",
    "print(\"Precisión del modelo:\", accuracy)\n",
    "print(\"\\nReporte de clasificación:\")\n",
    "print(report)"
   ]
  },
  {
   "cell_type": "markdown",
   "metadata": {},
   "source": [
    "### Predicciones y Probabilidades"
   ]
  },
  {
   "cell_type": "code",
   "execution_count": 7,
   "metadata": {},
   "outputs": [
    {
     "name": "stdout",
     "output_type": "stream",
     "text": [
      "Predicciones de clase para datos nuevos:\n",
      " [[219   3   9  54]]\n",
      "\n",
      "Probabilidades de pertenencia a cada clase para datos nuevos:\n",
      " [1]\n"
     ]
    }
   ],
   "source": [
    "X_new = np.array([[219,3,9,54]])\n",
    "y_proba = model.predict(X_new)\n",
    "\n",
    "# Hacer predicciones de clase y probabilidades\n",
    "print(\"Predicciones de clase para datos nuevos:\\n\", X_new)\n",
    "print(\"\\nProbabilidades de pertenencia a cada clase para datos nuevos:\\n\", y_proba)"
   ]
  }
 ],
 "metadata": {
  "kernelspec": {
   "display_name": "base",
   "language": "python",
   "name": "python3"
  },
  "language_info": {
   "codemirror_mode": {
    "name": "ipython",
    "version": 3
   },
   "file_extension": ".py",
   "mimetype": "text/x-python",
   "name": "python",
   "nbconvert_exporter": "python",
   "pygments_lexer": "ipython3",
   "version": "3.11.5"
  }
 },
 "nbformat": 4,
 "nbformat_minor": 2
}
