{
 "cells": [
  {
   "cell_type": "markdown",
   "source": [
    "![logo](img/logo.jpeg)\n",
    "## EXAMEN MÓDULO PROGRAMACIÓN INTELIGENCIA ARTIFICIAL.   \n",
    "### C.E. INTELIGENCIA ARTIFICIAL Y BIG DATA - FECHA: 04 MARZO 2024\n",
    "### NOMBRE:"
   ],
   "metadata": {
    "collapsed": false
   },
   "id": "391f9fc53078130d"
  },
  {
   "cell_type": "markdown",
   "source": [
    "1.- Escribe el código para crear una tupla que contenga los nombres de las siguientes ciudades:**(0,5  ptos)**\n",
    "- Valladolid\n",
    "- Palencia\n",
    "- León\n",
    "- Salamanca\n",
    "- Zamora     \n",
    "\n",
    "Muestra la tupla por pantalla. A continuación, el programa debe preguntar al usuario el nombre de una de las cinco ciudades de la tupla y responder mostrando el índice que tiene en la tupla la ciudad en cuestión.\n"
   ],
   "metadata": {
    "collapsed": false
   },
   "id": "96f324f0b8055c60"
  },
  {
   "cell_type": "markdown",
   "source": [],
   "metadata": {
    "collapsed": false
   },
   "id": "291c144e53735ccd"
  },
  {
   "cell_type": "markdown",
   "source": [
    "2.- Escribe el código para crear una lista con las siguientes asignaturas: \n",
    "- Matemáticas\n",
    "- Inglés\n",
    "- Literatura\n",
    "- Ciencias\n",
    "- Historia\n",
    "  \n",
    "El programa debe mostrar la lista por pantalla y debe preguntar al usuario que asignatura de la lista mostrada no le gusta. A continuación, se debe eliminar de la lista la asignatura seleccionada.**(0,5  ptos)**"
   ],
   "metadata": {
    "collapsed": false
   },
   "id": "926437233c88300b"
  },
  {
   "cell_type": "markdown",
   "source": [
    "3.- Crear una función que devuelva si un año es bisiesto o no **(0,75  ptos)**\n",
    "NOTA: Un año es bisiesto si es divisible entre 4, excepto aquellos divisibles entre 100 pero no entre 400"
   ],
   "metadata": {
    "collapsed": false
   },
   "id": "ddc62f473851d623"
  },
  {
   "cell_type": "markdown",
   "source": [
    "4.- Crea un programa que muestre por pantalla las tablas de multiplicar del 1 al 5.   **(0,5  ptos)**\n",
    "Debe mostrarse el encabezado para cada tabla con el texto siguiente:  \n",
    "\"Tabla del 1\", p. ej. para la tabla del 1"
   ],
   "metadata": {
    "collapsed": false
   },
   "id": "117de1163320cfe1"
  },
  {
   "cell_type": "markdown",
   "source": [
    "5.- Escribir un programa que almacene los vectores (1,2,3) y (-1,0,2) en dos tuplas y muestre por pantalla su producto escalar.  **(0,75  ptos)**\n",
    "*NOTA:* La fórmula del producto escalar de los vectores u=⟨u1,u2,u3⟩ y v=⟨v1,v2,v3⟩ es u.v=u1v1+u2v2+u3v3. \n",
    " \n"
   ],
   "metadata": {
    "collapsed": false
   },
   "id": "1c0087b1bf1d1ff9"
  },
  {
   "cell_type": "markdown",
   "source": [
    "6.- Escribir una función que reciba un número entero positivo y devuelva su factorial.**(1 pto.)**"
   ],
   "metadata": {
    "collapsed": false
   },
   "id": "7446888f64102729"
  },
  {
   "cell_type": "markdown",
   "source": [
    "7.- Escribir una función que calcule el total de una factura tras aplicarle el IVA. La función debe recibir la cantidad sin IVA y el porcentaje de IVA a aplicar, y devolver el total de la factura. Si se invoca la función sin pasarle el porcentaje de IVA, deberá aplicar el IVA reducido del 10 %. **(1  pto.)**"
   ],
   "metadata": {
    "collapsed": false
   },
   "id": "cc23f6fbad815e82"
  },
  {
   "cell_type": "markdown",
   "source": [
    "8.- Resuelve estos dos sistemas de ecuaciones y verifica los resultados **(1,5 pto.)**\n",
    "    - $ A : \\begin{cases} 8x +  2y = 11 \\\\ -3y + 10x = 44 \\end{cases}$\n",
    "    - $ B : \\begin{cases} -4z + y = 5 \\\\ 3y + 2z = -2 \\\\ -x -z + 2y = -1 \\end{cases}$"
   ],
   "metadata": {
    "collapsed": false
   },
   "id": "a6feb7b8a6472488"
  },
  {
   "cell_type": "markdown",
   "source": [
    "9.- Crear un objeto Pandas Series con 10 elementos, que contenga más de un tipo básico y asignale índices de tipo string.  \n",
    " A continuación, demuestra que los los índices posicionales son los mismos que los obtenidos con índices semánticos. Para ello realiza un slicing, al menos 4 elementos de la serie anterior, primero con los índices posicionales y luego con los índices semánticos. **(1'5 pto)**"
   ],
   "metadata": {
    "collapsed": false
   },
   "id": "869396c0a8754f6d"
  },
  {
   "cell_type": "markdown",
   "source": [
    "10.- Dados los siguientes datos:  **(2 ptos)**"
   ],
   "metadata": {
    "collapsed": false
   },
   "id": "473e767188d02eec"
  },
  {
   "cell_type": "code",
   "outputs": [],
   "source": [
    "import numpy as np\n",
    "import pandas as pd\n",
    "nombre = ['Oliva', 'Daniela', 'Juan', 'Germán', 'Edward', 'Alex', 'Julio', \n",
    "          'Edgar', 'Angie', 'Irlesa']\n",
    "puntaje = [11.5, 8, 15.5, np.nan, 8, 19, 13.5, np.nan, 8, 18]\n",
    "intentos = [1, 3, 2, 3, 2, 3, 1, 1, 2, 1]\n",
    "califico = ['Sí', 'No', 'Sí', 'No', 'No', 'Sí', 'Sí', 'No', 'No', 'Sí']\n",
    "indices = ['a', 'b', 'c', 'd', 'e', 'f', 'g', 'h', 'i', 'j']"
   ],
   "metadata": {
    "collapsed": false,
    "ExecuteTime": {
     "end_time": "2024-03-02T16:26:51.675947Z",
     "start_time": "2024-03-02T16:26:51.211999Z"
    }
   },
   "id": "80b07549b6b8074a",
   "execution_count": 13
  },
  {
   "cell_type": "markdown",
   "source": [
    "Crea y utiliza un diccionario para poder generar un dataframe los anteriores datos. A continuación, muestra el dataset por pantalla. Despues realiza un filtro para mostrar por pantalla solo los datos correspondientes al **nombre** y a los **intentos** de los jugadores *Juan* y *Alex*"
   ],
   "metadata": {
    "collapsed": false
   },
   "id": "faa655516e92def9"
  },
  {
   "cell_type": "code",
   "outputs": [],
   "source": [],
   "metadata": {
    "collapsed": false
   },
   "id": "dc8015263ea73fc9"
  }
 ],
 "metadata": {
  "kernelspec": {
   "display_name": "Python 3",
   "language": "python",
   "name": "python3"
  },
  "language_info": {
   "codemirror_mode": {
    "name": "ipython",
    "version": 2
   },
   "file_extension": ".py",
   "mimetype": "text/x-python",
   "name": "python",
   "nbconvert_exporter": "python",
   "pygments_lexer": "ipython2",
   "version": "2.7.6"
  }
 },
 "nbformat": 4,
 "nbformat_minor": 5
}
