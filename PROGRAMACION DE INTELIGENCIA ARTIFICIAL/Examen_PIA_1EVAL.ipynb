{
 "cells": [
  {
   "cell_type": "markdown",
   "id": "391f9fc53078130d",
   "metadata": {
    "collapsed": false
   },
   "source": [
    "![logo](img/logo.jpeg)\n",
    "## EXAMEN MÓDULO PROGRAMACIÓN INTELIGENCIA ARTIFICIAL.   \n",
    "### C.E. INTELIGENCIA ARTIFICIAL Y BIG DATA - FECHA: 04 MARZO 2024\n",
    "### NOMBRE: NOELIA OTAZO ROJO"
   ]
  },
  {
   "cell_type": "markdown",
   "id": "96f324f0b8055c60",
   "metadata": {
    "collapsed": false
   },
   "source": [
    "1.- Escribe el código para crear una tupla que contenga los nombres de las siguientes ciudades:**(0,5  ptos)**\n",
    "- Valladolid\n",
    "- Palencia\n",
    "- León\n",
    "- Salamanca\n",
    "- Zamora     \n",
    "\n",
    "Muestra la tupla por pantalla. A continuación, el programa debe preguntar al usuario el nombre de una de las cinco ciudades de la tupla y responder mostrando el índice que tiene en la tupla la ciudad en cuestión.\n"
   ]
  },
  {
   "cell_type": "code",
   "execution_count": 3,
   "id": "e679a900",
   "metadata": {},
   "outputs": [
    {
     "name": "stdout",
     "output_type": "stream",
     "text": [
      "Ciudades de la tupla:\n",
      "Valladolid\n",
      "Palencia\n",
      "León\n",
      "Salamanca\n",
      "Zamora\n",
      "El índice es: \n",
      "0\n"
     ]
    }
   ],
   "source": [
    "ciudades = [\"Valladolid\", \"Palencia\", \"León\", \"Salamanca\", \"Zamora\"]\n",
    "\n",
    "print('Ciudades de la tupla:')\n",
    "for ciudad in ciudades:\n",
    "    print(ciudad)\n",
    "\n",
    "ciudadIntroducida = input(\"Introduce el nombre de una de las ciudades: \")\n",
    "\n",
    "if ciudadIntroducida in ciudades:\n",
    "    print('El índice es: ')\n",
    "    print(ciudades.index(ciudadIntroducida))"
   ]
  },
  {
   "cell_type": "markdown",
   "id": "926437233c88300b",
   "metadata": {
    "collapsed": false
   },
   "source": [
    "2.- Escribe el código para crear una lista con las siguientes asignaturas: \n",
    "- Matemáticas\n",
    "- Inglés\n",
    "- Literatura\n",
    "- Ciencias\n",
    "- Historia\n",
    "  \n",
    "El programa debe mostrar la lista por pantalla y debe preguntar al usuario que asignatura de la lista mostrada no le gusta. A continuación, se debe eliminar de la lista la asignatura seleccionada.**(0,5  ptos)**"
   ]
  },
  {
   "cell_type": "code",
   "execution_count": 4,
   "id": "91d515df",
   "metadata": {},
   "outputs": [
    {
     "name": "stdout",
     "output_type": "stream",
     "text": [
      "Asignaturas de la lista:\n",
      "Matemáticas\n",
      "Inglés\n",
      "Literatura\n",
      "Ciencias\n",
      "Historia\n",
      "La asignatura se eliminó de la lista\n",
      "['Matemáticas', 'Inglés', 'Literatura', 'Ciencias']\n"
     ]
    }
   ],
   "source": [
    "asignaturas = [\"Matemáticas\", \"Inglés\", \"Literatura\", \"Ciencias\", \"Historia\"]\n",
    "\n",
    "print('Asignaturas de la lista:')\n",
    "for asignatura in asignaturas:\n",
    "    print(asignatura)\n",
    "\n",
    "asignaturaNo = input('¿Que asignatura de la lista no te gusta?')\n",
    "\n",
    "if asignaturaNo in asignaturas:\n",
    "    asignaturas.remove(asignaturaNo)\n",
    "    print('La asignatura se eliminó de la lista')\n",
    "    print(asignaturas)"
   ]
  },
  {
   "cell_type": "markdown",
   "id": "ddc62f473851d623",
   "metadata": {
    "collapsed": false
   },
   "source": [
    "3.- Crear una función que devuelva si un año es bisiesto o no **(0,75  ptos)**\n",
    "NOTA: Un año es bisiesto si es divisible entre 4, excepto aquellos divisibles entre 100 pero no entre 400"
   ]
  },
  {
   "cell_type": "code",
   "execution_count": 13,
   "id": "a09203cd",
   "metadata": {},
   "outputs": [
    {
     "name": "stdout",
     "output_type": "stream",
     "text": [
      "Prueba del año 2024:True\n",
      "Prueba del año 2025:False\n"
     ]
    }
   ],
   "source": [
    "def esBisiesto(año):\n",
    "  if año % 4 == 0 and año % 100!= 0 or año % 400 == 0:\n",
    "    return True\n",
    "  else:\n",
    "    return False\n",
    "  \n",
    "print('Prueba del año 2024:'+str(esBisiesto(2024)))\n",
    "\n",
    "print('Prueba del año 2025:'+str(esBisiesto(2025)))\n"
   ]
  },
  {
   "cell_type": "markdown",
   "id": "117de1163320cfe1",
   "metadata": {
    "collapsed": false
   },
   "source": [
    "4.- Crea un programa que muestre por pantalla las tablas de multiplicar del 1 al 5.   **(0,5  ptos)**\n",
    "Debe mostrarse el encabezado para cada tabla con el texto siguiente:  \n",
    "\"Tabla del 1\", p. ej. para la tabla del 1"
   ]
  },
  {
   "cell_type": "code",
   "execution_count": 17,
   "id": "5b6a8894",
   "metadata": {},
   "outputs": [
    {
     "name": "stdout",
     "output_type": "stream",
     "text": [
      "Tabla del 1\n",
      "1 x 1 = 1\n",
      "1 x 2 = 2\n",
      "1 x 3 = 3\n",
      "1 x 4 = 4\n",
      "1 x 5 = 5\n",
      "1 x 6 = 6\n",
      "1 x 7 = 7\n",
      "1 x 8 = 8\n",
      "1 x 9 = 9\n",
      "Tabla del 2\n",
      "2 x 1 = 2\n",
      "2 x 2 = 4\n",
      "2 x 3 = 6\n",
      "2 x 4 = 8\n",
      "2 x 5 = 10\n",
      "2 x 6 = 12\n",
      "2 x 7 = 14\n",
      "2 x 8 = 16\n",
      "2 x 9 = 18\n",
      "Tabla del 3\n",
      "3 x 1 = 3\n",
      "3 x 2 = 6\n",
      "3 x 3 = 9\n",
      "3 x 4 = 12\n",
      "3 x 5 = 15\n",
      "3 x 6 = 18\n",
      "3 x 7 = 21\n",
      "3 x 8 = 24\n",
      "3 x 9 = 27\n",
      "Tabla del 4\n",
      "4 x 1 = 4\n",
      "4 x 2 = 8\n",
      "4 x 3 = 12\n",
      "4 x 4 = 16\n",
      "4 x 5 = 20\n",
      "4 x 6 = 24\n",
      "4 x 7 = 28\n",
      "4 x 8 = 32\n",
      "4 x 9 = 36\n",
      "Tabla del 5\n",
      "5 x 1 = 5\n",
      "5 x 2 = 10\n",
      "5 x 3 = 15\n",
      "5 x 4 = 20\n",
      "5 x 5 = 25\n",
      "5 x 6 = 30\n",
      "5 x 7 = 35\n",
      "5 x 8 = 40\n",
      "5 x 9 = 45\n"
     ]
    }
   ],
   "source": [
    "numeros = [1, 2, 3, 4, 5]\n",
    "\n",
    "for numero in numeros:\n",
    "    print(\"Tabla del \" + str(numero))\n",
    "    for i in range(1, 10):\n",
    "        print(str(numero) + \" x \" + str(i) + \" = \" + str(numero * i))"
   ]
  },
  {
   "cell_type": "markdown",
   "id": "1c0087b1bf1d1ff9",
   "metadata": {
    "collapsed": false
   },
   "source": [
    "5.- Escribir un programa que almacene los vectores (1,2,3) y (-1,0,2) en dos tuplas y muestre por pantalla su producto escalar.  **(0,75  ptos)**\n",
    "*NOTA:* La fórmula del producto escalar de los vectores u=⟨u1,u2,u3⟩ y v=⟨v1,v2,v3⟩ es u.v=u1v1+u2v2+u3v3. \n",
    " \n"
   ]
  },
  {
   "cell_type": "code",
   "execution_count": 48,
   "id": "cdf6f515",
   "metadata": {},
   "outputs": [
    {
     "name": "stdout",
     "output_type": "stream",
     "text": [
      "El producto escalar es: 5\n"
     ]
    }
   ],
   "source": [
    "vectores = [\n",
    "    [1, 2, 3],\n",
    "    [-1, 0, 2]\n",
    "]\n",
    "\n",
    "producto_escalar = sum(a*b for a, b in zip(vectores[0], vectores[1]))\n",
    "print(\"El producto escalar es: \" + str(producto_escalar))\n"
   ]
  },
  {
   "cell_type": "markdown",
   "id": "7446888f64102729",
   "metadata": {
    "collapsed": false
   },
   "source": [
    "6.- Escribir una función que reciba un número entero positivo y devuelva su factorial.**(1 pto.)**"
   ]
  },
  {
   "cell_type": "code",
   "execution_count": 20,
   "id": "d58fe848",
   "metadata": {},
   "outputs": [
    {
     "name": "stdout",
     "output_type": "stream",
     "text": [
      "El factorial de 5 es: 120\n"
     ]
    }
   ],
   "source": [
    "def enteroPositivo(any):\n",
    "    if any > 0:\n",
    "        return any * enteroPositivo(any - 1)\n",
    "    else:\n",
    "        return 1\n",
    "    \n",
    "print('El factorial de 5 es: '+str(enteroPositivo(5)))"
   ]
  },
  {
   "cell_type": "markdown",
   "id": "cc23f6fbad815e82",
   "metadata": {
    "collapsed": false
   },
   "source": [
    "7.- Escribir una función que calcule el total de una factura tras aplicarle el IVA. La función debe recibir la cantidad sin IVA y el porcentaje de IVA a aplicar, y devolver el total de la factura. Si se invoca la función sin pasarle el porcentaje de IVA, deberá aplicar el IVA reducido del 10 %. **(1  pto.)**"
   ]
  },
  {
   "cell_type": "code",
   "execution_count": 27,
   "id": "151dce5d",
   "metadata": {},
   "outputs": [
    {
     "name": "stdout",
     "output_type": "stream",
     "text": [
      "El total de la factura es: 5.1\n"
     ]
    }
   ],
   "source": [
    "def factura(cantidad):\n",
    "    if cantidad == 0:\n",
    "        return cantidad\n",
    "    else:\n",
    "        return cantidad + (10/100)\n",
    "    \n",
    "print('El total de la factura es: '+str(factura(5)))"
   ]
  },
  {
   "cell_type": "markdown",
   "id": "a6feb7b8a6472488",
   "metadata": {
    "collapsed": false
   },
   "source": [
    "8.- Resuelve estos dos sistemas de ecuaciones y verifica los resultados **(1,5 pto.)**\n",
    "    - $ A : \\begin{cases} 8x +  2y = 11 \\\\ -3y + 10x = 44 \\end{cases}$\n",
    "    - $ B : \\begin{cases} -4z + y = 5 \\\\ 3y + 2z = -2 \\\\ -x -z + 2y = -1 \\end{cases}$"
   ]
  },
  {
   "cell_type": "code",
   "execution_count": 55,
   "id": "9eb57efa",
   "metadata": {},
   "outputs": [
    {
     "name": "stdout",
     "output_type": "stream",
     "text": [
      "Solución de A: [ 2.75 -5.5 ]\n",
      "Verificando los resultados para la primera ecuación de A: 11.0\n",
      "Verificando los resultados para la segunda ecuación de A: 44.0\n",
      "Solución de B: [-1.5 -1.   0.5]\n",
      "Verificando los resultados para la primera ecuación de B: 5.0\n",
      "Verificando los resultados para la segunda ecuación de B: -2.0\n",
      "Verificando los resultados para la tercera ecuación de B: -0.9999999999999999\n"
     ]
    }
   ],
   "source": [
    "import numpy as np\n",
    "from scipy.linalg import solve\n",
    "\n",
    "A_A = np.array([[8, 2], [10, -3]])\n",
    "b_A = np.array([11, 44])\n",
    "solucion_A = solve(A_A, b_A)\n",
    "\n",
    "print(f'Solución de A: {solucion_A}')\n",
    "solucionCompA = (8*solucion_A[0]) + (2*solucion_A[1])\n",
    "print('Verificando los resultados para la primera ecuación de A: ' + str(solucionCompA))\n",
    "solucionCompA2 = (10*solucion_A[0]) - (3*solucion_A[1])\n",
    "print('Verificando los resultados para la segunda ecuación de A: ' + str(solucionCompA2))\n",
    "\n",
    "\n",
    "A_B = np.array([[-4, 1, 0], [0, 3, 2], [-1, 2, -1]])\n",
    "b_B = np.array([5, -2, -1])\n",
    "solucion_B = solve(A_B, b_B)\n",
    "\n",
    "print(f'Solución de B: {solucion_B}')\n",
    "solucionCompB1 = (-4*solucion_B[0]) + solucion_B[1]\n",
    "print('Verificando los resultados para la primera ecuación de B: ' + str(solucionCompB1))\n",
    "solucionCompB2 = (3*solucion_B[1]) + (2*solucion_B[2])\n",
    "print('Verificando los resultados para la segunda ecuación de B: ' + str(solucionCompB2))\n",
    "solucionCompB3 = (-solucion_B[0]) + (2*solucion_B[1]) - solucion_B[2]\n",
    "print('Verificando los resultados para la tercera ecuación de B: ' + str(solucionCompB3))\n"
   ]
  },
  {
   "cell_type": "markdown",
   "id": "869396c0a8754f6d",
   "metadata": {
    "collapsed": false
   },
   "source": [
    "9.- Crear un objeto Pandas Series con 10 elementos, que contenga más de un tipo básico y asignale índices de tipo string.  \n",
    " A continuación, demuestra que los los índices posicionales son los mismos que los obtenidos con índices semánticos. Para ello realiza un slicing, al menos 4 elementos de la serie anterior, primero con los índices posicionales y luego con los índices semánticos. **(1'5 pto)**"
   ]
  },
  {
   "cell_type": "code",
   "execution_count": 52,
   "metadata": {},
   "outputs": [
    {
     "name": "stdout",
     "output_type": "stream",
     "text": [
      "Semántico: dos           vader\n",
      "tres           25.3\n",
      "cuatro    palpatine\n",
      "cinco            66\n",
      "dtype: object\n",
      "Posicional: dos           vader\n",
      "tres           25.3\n",
      "cuatro    palpatine\n",
      "cinco            66\n",
      "dtype: object\n",
      "¿Son iguales?: True\n"
     ]
    }
   ],
   "source": [
    "import pandas as pd\n",
    "\n",
    "elementos = [1, 'vader', 25.3, 'palpatine', 66, 'maul', 155, 'revan', 9, 15.8]\n",
    "indices = ['uno', 'dos', 'tres', 'cuatro', 'cinco', 'seis', 'siete', 'ocho', 'nueve', 'diez']\n",
    "serie = pd.Series(elementos, index=indices)\n",
    "\n",
    "slicing_posicional = serie[1:5]\n",
    "slicing_semantico = serie['dos':'cinco']\n",
    "slicing_posicional, slicing_semantico, slicing_posicional.equals(slicing_semantico)\n",
    "\n",
    "print('Semántico: '+str(slicing_semantico))\n",
    "print('Posicional: '+str(slicing_posicional))\n",
    "print('¿Son iguales?: '+str(slicing_posicional.equals(slicing_semantico)))\n"
   ]
  },
  {
   "cell_type": "markdown",
   "id": "473e767188d02eec",
   "metadata": {
    "collapsed": false
   },
   "source": [
    "10.- Dados los siguientes datos:  **(2 ptos)**"
   ]
  },
  {
   "cell_type": "code",
   "execution_count": 13,
   "id": "80b07549b6b8074a",
   "metadata": {
    "ExecuteTime": {
     "end_time": "2024-03-02T16:26:51.675947Z",
     "start_time": "2024-03-02T16:26:51.211999Z"
    },
    "collapsed": false
   },
   "outputs": [],
   "source": [
    "import numpy as np\n",
    "import pandas as pd\n",
    "nombre = ['Oliva', 'Daniela', 'Juan', 'Germán', 'Edward', 'Alex', 'Julio', \n",
    "          'Edgar', 'Angie', 'Irlesa']\n",
    "puntaje = [11.5, 8, 15.5, np.nan, 8, 19, 13.5, np.nan, 8, 18]\n",
    "intentos = [1, 3, 2, 3, 2, 3, 1, 1, 2, 1]\n",
    "califico = ['Sí', 'No', 'Sí', 'No', 'No', 'Sí', 'Sí', 'No', 'No', 'Sí']\n",
    "indices = ['a', 'b', 'c', 'd', 'e', 'f', 'g', 'h', 'i', 'j']"
   ]
  },
  {
   "cell_type": "markdown",
   "id": "faa655516e92def9",
   "metadata": {
    "collapsed": false
   },
   "source": [
    "Crea y utiliza un diccionario para poder generar un dataframe los anteriores datos. A continuación, muestra el dataset por pantalla. Despues realiza un filtro para mostrar por pantalla solo los datos correspondientes al **nombre** y a los **intentos** de los jugadores *Juan* y *Alex*"
   ]
  },
  {
   "cell_type": "code",
   "execution_count": 46,
   "id": "dc8015263ea73fc9",
   "metadata": {
    "collapsed": false
   },
   "outputs": [
    {
     "name": "stdout",
     "output_type": "stream",
     "text": [
      "Dataframe completo:\n",
      "    Nombre  Puntuación  Intentos Calificación\n",
      "a    Oliva        11.5         1           Sí\n",
      "b  Daniela         8.0         3           No\n",
      "c     Juan        15.5         2           Sí\n",
      "d   Germán         NaN         3           No\n",
      "e   Edward         8.0         2           No\n",
      "f     Alex        19.0         3           Sí\n",
      "g    Julio        13.5         1           Sí\n",
      "h    Edgar         NaN         1           No\n",
      "i    Angie         8.0         2           No\n",
      "j   Irlesa        18.0         1           Sí\n",
      "Dataframe filtrado para Juan y Alex:\n",
      "  Nombre  Intentos\n",
      "c   Juan         2\n",
      "f   Alex         3\n"
     ]
    }
   ],
   "source": [
    "import numpy as np\n",
    "import pandas as pd\n",
    "\n",
    "nombre = ['Oliva', 'Daniela', 'Juan', 'Germán', 'Edward', 'Alex', 'Julio', 'Edgar', 'Angie', 'Irlesa']\n",
    "puntaje = [11.5, 8, 15.5, np.nan, 8, 19, 13.5, np.nan, 8, 18]\n",
    "intentos = [1, 3, 2, 3, 2, 3, 1, 1, 2, 1]\n",
    "califico = ['Sí', 'No', 'Sí', 'No', 'No', 'Sí', 'Sí', 'No', 'No', 'Sí']\n",
    "indices = ['a', 'b', 'c', 'd', 'e', 'f', 'g', 'h', 'i', 'j']\n",
    "\n",
    "datos = {\n",
    "    'Nombre': nombre,\n",
    "    'Puntuación': puntaje,\n",
    "    'Intentos': intentos,\n",
    "    'Calificación': califico\n",
    "}\n",
    "df = pd.DataFrame(datos, index=indices)\n",
    "\n",
    "print(\"Dataframe completo:\")\n",
    "print(df)\n",
    "\n",
    "filtro_nombres = df['Nombre'].isin(['Juan', 'Alex'])\n",
    "df_filtrado = df.loc[filtro_nombres, ['Nombre', 'Intentos']]\n",
    "\n",
    "print(\"Dataframe filtrado para Juan y Alex:\")\n",
    "print(df_filtrado)\n"
   ]
  }
 ],
 "metadata": {
  "kernelspec": {
   "display_name": "Python 3",
   "language": "python",
   "name": "python3"
  },
  "language_info": {
   "codemirror_mode": {
    "name": "ipython",
    "version": 3
   },
   "file_extension": ".py",
   "mimetype": "text/x-python",
   "name": "python",
   "nbconvert_exporter": "python",
   "pygments_lexer": "ipython3",
   "version": "3.11.5"
  }
 },
 "nbformat": 4,
 "nbformat_minor": 5
}
