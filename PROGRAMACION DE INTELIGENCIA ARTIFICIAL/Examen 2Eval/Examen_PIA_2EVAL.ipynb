{
 "cells": [
  {
   "cell_type": "markdown",
   "id": "391f9fc53078130d",
   "metadata": {
    "collapsed": false
   },
   "source": [
    "![logo](./logo.jpeg)\n",
    "## EXAMEN MÓDULO PROGRAMACIÓN INTELIGENCIA ARTIFICIAL.   (2ª EVALUACIÓN)\n",
    "### C.E. INTELIGENCIA ARTIFICIAL Y BIG DATA - FECHA: 10 MAYO 2024\n",
    "### *NOMBRE:* "
   ]
  },
  {
   "cell_type": "markdown",
   "id": "96f324f0b8055c60",
   "metadata": {
    "collapsed": false
   },
   "source": [
    "1.- El fichero **titanic.csv** contiene información sobre los pasajeros del Titanic. Crear un dataframe con Pandas y a partir de él generar los siguientes diagramas:  (**2 ptos.**)\n",
    "\n",
    "\n",
    "- Diagrama de sectores con los fallecidos y supervivientes.\n",
    "- Histograma con las edades.\n",
    "- Diagrama de barras con el número de personas en cada clase.\n",
    "- Diagrama de barras con el número de personas fallecidas y supervivientes en cada clase."
   ]
  },
  {
   "cell_type": "markdown",
   "id": "926437233c88300b",
   "metadata": {
    "collapsed": false
   },
   "source": [
    "2.- Sobre la imagen dada (lena_gris.jpg), realiza las siguientes transformaciones: **(2 ptos)**\n",
    "- Rotación de 60º y factor de escala 1 \n",
    "- Traslación (25 px a la derecha y 25 px hacia arriba)\n",
    "- Escalado al 40 %\n",
    "- Inclinación 15 grados en eje x y 20 grados en eje y\n",
    "  \n",
    "(Se debe mostrar cada bloque de código indicando la transformación que realiza)."
   ]
  },
  {
   "cell_type": "markdown",
   "id": "ddc62f473851d623",
   "metadata": {
    "collapsed": false
   },
   "source": [
    "3.- Dado el DataFrame df_empleados, realiza las siguientes tareas: **(0,75 ptos.)**\n",
    "\n",
    "- Agrupa los datos por Departamento y calcula el salario medio por departamento.\n",
    "- Añade una columna Aumento que incremente el salario en un 10% para todos los empleados.\n",
    "- Ordena el DataFrame por la columna Salario de forma descendente."
   ]
  },
  {
   "cell_type": "code",
   "execution_count": 11,
   "id": "00fda880",
   "metadata": {},
   "outputs": [],
   "source": [
    "import pandas as pd\n",
    "data = {\n",
    "    'Nombre': ['Ana', 'Luis', 'Sonia', 'Jorge', 'Carla'],\n",
    "    'Edad': [28, 34, 29, 40, 32],\n",
    "    'Departamento': ['Ventas', 'Marketing', 'Ventas', 'Marketing', 'Ventas'],\n",
    "    'Salario': [35000, 40000, 36000, 41000, 38000]\n",
    "}\n",
    "\n",
    "df_empleados = pd.DataFrame(data)\n"
   ]
  },
  {
   "cell_type": "markdown",
   "id": "117de1163320cfe1",
   "metadata": {
    "collapsed": false
   },
   "source": [
    "4.Dada la siguiente lista de números, usa una función lambda para crear una nueva lista con el cuadrado de cada número de dicha lista.**(0,5 ptos.)**"
   ]
  },
  {
   "cell_type": "code",
   "execution_count": 7,
   "id": "8b5b2f34",
   "metadata": {},
   "outputs": [],
   "source": [
    "numeros = [1, 2, 3, 4, 5]"
   ]
  },
  {
   "cell_type": "markdown",
   "id": "1c0087b1bf1d1ff9",
   "metadata": {
    "collapsed": false
   },
   "source": [
    "5.- Dada la siguiente lista de números, usa una función lambda para filtrar aquellos que sean múltiplos de 3 y múestralos por pantalla.  **(0,5 ptos)**"
   ]
  },
  {
   "cell_type": "code",
   "execution_count": null,
   "id": "c50f4515",
   "metadata": {},
   "outputs": [],
   "source": [
    "numeros = [1, 2, 3, 4, 5, 6, 7, 8, 9, 10, 12, 15, 18, 20, 21, 24]"
   ]
  },
  {
   "cell_type": "markdown",
   "id": "7446888f64102729",
   "metadata": {
    "collapsed": false
   },
   "source": [
    "6.- Dado el dataframe df_empleados, realiza las siguientes tareas:**(1 ptos.)**\n",
    "\n",
    "- Calcula el salario promedio por departamento y ciudad.\n",
    "- Encuentra el salario máximo por departamento y ciudad."
   ]
  },
  {
   "cell_type": "code",
   "execution_count": 6,
   "id": "1f7c0783",
   "metadata": {},
   "outputs": [],
   "source": [
    "import pandas as pd\n",
    "\n",
    "data = {\n",
    "    'Departamento': ['Ventas', 'Ventas', 'Ventas', 'Marketing', 'Marketing', 'Marketing'],\n",
    "    'Ciudad': ['Madrid', 'Barcelona', 'Madrid', 'Madrid', 'Barcelona', 'Barcelona'],\n",
    "    'Salario': [35000, 42000, 37000, 40000, 45000, 38000]\n",
    "}\n",
    "df_empleados = pd.DataFrame(data)"
   ]
  },
  {
   "cell_type": "markdown",
   "id": "cc23f6fbad815e82",
   "metadata": {
    "collapsed": false
   },
   "source": [
    "7.- Construye una red neuronal convolucional para analizar imágenes de un tamaño de 64*64 a color, con las siguientes características: **(1 pto.)**\n",
    "\n",
    "- Una capa convolucional con 8 filtros, tamaño de kernel 3x3, y función de activación ReLU.\n",
    "- Una capa de max pooling con tamaño de pool 2x2.\n",
    "- Una capa convolucional con 16 filtros, tamaño de kernel 3x3, y función de activación ReLU.\n",
    "- Una capa de max pooling con tamaño de pool 2x2.\n",
    "- Una capa convolucional con 32 filtros, tamaño de kernel 3x3, y función de activación ReLU.\n",
    "- Una capa completamente conectada con 128 neuronas y función de activación ReLU. "
   ]
  },
  {
   "cell_type": "markdown",
   "id": "869396c0a8754f6d",
   "metadata": {
    "collapsed": false
   },
   "source": [
    "8.- Dado el siguiente dataframe df_jugadores con datos de jugadores de fútbol, realiza las siguientes tareas: **(0,75 ptos)**\n",
    "- Encuentra el promedio de goles y asistencias por equipo.\n",
    "- Calcula el total de goles y asistencias, y el promedio de goles por jugador para cada equipo."
   ]
  },
  {
   "cell_type": "code",
   "execution_count": 7,
   "id": "b2b8ef10",
   "metadata": {},
   "outputs": [],
   "source": [
    "import pandas as pd\n",
    "\n",
    "data = {\n",
    "    'Jugador': ['Messi', 'Ronaldo', 'Neymar', 'Salah', 'Mbappé', 'Lewandowski', 'Kane', 'Hazard'],\n",
    "    'Equipo': ['Barcelona', 'Juventus', 'PSG', 'Liverpool', 'PSG', 'Bayern', 'Tottenham', 'Real Madrid'],\n",
    "    'Goles': [30, 25, 28, 22, 27, 29, 20, 15],\n",
    "    'Asistencias': [12, 10, 9, 13, 14, 8, 7, 6]\n",
    "}\n",
    "df_jugadores = pd.DataFrame(data)"
   ]
  },
  {
   "cell_type": "markdown",
   "id": "473e767188d02eec",
   "metadata": {
    "collapsed": false
   },
   "source": [
    "9.- Construye una red neuronal convolucional para analizar imágenes de un tamaño de 64 x 64 a color, con las siguientes características: **(1,5 ptos.)**\n",
    "\n",
    "- Una capa convolucional con 16 filtros, tamaño de kernel 3x3, función de activación ReLU, y regularización combinada L1+L2.\n",
    "- Una capa de max pooling con tamaño de pool 2x2.\n",
    "- Una capa convolucional con 32 filtros, tamaño de kernel 3x3, función de activación ReLU.\n",
    "- Una capa de max pooling con tamaño de pool 2x2.\n",
    "- Una capa de dropout con probabilidad de 0.3.\n",
    "- Una capa de aplanamiento.\n",
    "- Una capa completamente conectada con 128 neuronas, función de activación ReLU.\n",
    "- Una capa de dropout con probabilidad de 0.4. "
   ]
  }
 ],
 "metadata": {
  "kernelspec": {
   "display_name": "Python 3",
   "language": "python",
   "name": "python3"
  },
  "language_info": {
   "codemirror_mode": {
    "name": "ipython",
    "version": 3
   },
   "file_extension": ".py",
   "mimetype": "text/x-python",
   "name": "python",
   "nbconvert_exporter": "python",
   "pygments_lexer": "ipython3",
   "version": "3.11.7"
  }
 },
 "nbformat": 4,
 "nbformat_minor": 5
}
