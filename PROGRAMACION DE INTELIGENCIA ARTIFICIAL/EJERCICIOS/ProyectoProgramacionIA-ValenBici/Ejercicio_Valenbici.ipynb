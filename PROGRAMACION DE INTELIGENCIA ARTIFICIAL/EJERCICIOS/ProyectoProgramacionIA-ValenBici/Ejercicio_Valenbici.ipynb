{
 "cells": [
  {
   "cell_type": "markdown",
   "id": "f37dc7b1-6e66-4d6d-811a-6280f57edc61",
   "metadata": {},
   "source": [
    "# Valenbici\n",
    "\n",
    "<img src=\"./img/valenbici.jpg\">"
   ]
  },
  {
   "cell_type": "markdown",
   "id": "7db73775-46f1-4bad-8f6a-943291e2a9e6",
   "metadata": {},
   "source": [
    "- http://www.valenbisi.es/service/carto/json\n",
    "- http://www.valenbisi.es/service/stationdetails/valence/63"
   ]
  },
  {
   "cell_type": "markdown",
   "id": "9e0e407df4dda337",
   "metadata": {
    "collapsed": false
   },
   "source": [
    "### EJERCICIOS\n",
    "1. Obtener la cantidad de estaciones que tienen 30 plazas disponibles (campo TOTAL = 30).\n",
    "2. Código de estación con la media más alta de bicicletas disponibles (campo AVAILABLE con media más alta).\n",
    "3. Histograma de bicicletas disponibles de la estación obtenida en el apartado 2.\n",
    "4. Realizar el gráfico con la línea temporal de bicicletas disponibles de la estación obtenida en el apartado 2. Posiblemente se deba cambiar el índice a un tipo FECHA\n"
   ]
  },
  {
   "cell_type": "code",
   "execution_count": 42,
   "id": "68931815-c6be-420c-bb35-720870f31233",
   "metadata": {},
   "outputs": [],
   "source": [
    "import pandas as pd\n",
    "import matplotlib.pyplot as plt"
   ]
  },
  {
   "cell_type": "code",
   "execution_count": 43,
   "id": "93a7e7bd-c338-43b4-8ae3-8c8c229512b4",
   "metadata": {},
   "outputs": [],
   "source": [
    "from os import path\n",
    "bicis_path = path.join('datasets','estaciones_bici.csv')"
   ]
  },
  {
   "cell_type": "code",
   "execution_count": 44,
   "id": "dd1ec212-02a7-44f1-9d24-c0b8cf51b889",
   "metadata": {},
   "outputs": [
    {
     "data": {
      "text/html": [
       "<div>\n",
       "<style scoped>\n",
       "    .dataframe tbody tr th:only-of-type {\n",
       "        vertical-align: middle;\n",
       "    }\n",
       "\n",
       "    .dataframe tbody tr th {\n",
       "        vertical-align: top;\n",
       "    }\n",
       "\n",
       "    .dataframe thead th {\n",
       "        text-align: right;\n",
       "    }\n",
       "</style>\n",
       "<table border=\"1\" class=\"dataframe\">\n",
       "  <thead>\n",
       "    <tr style=\"text-align: right;\">\n",
       "      <th></th>\n",
       "      <th>Unnamed: 0</th>\n",
       "      <th>_id</th>\n",
       "      <th>available</th>\n",
       "      <th>connected</th>\n",
       "      <th>download_date</th>\n",
       "      <th>station</th>\n",
       "      <th>free</th>\n",
       "      <th>open</th>\n",
       "      <th>ticket</th>\n",
       "      <th>total</th>\n",
       "      <th>updated</th>\n",
       "    </tr>\n",
       "  </thead>\n",
       "  <tbody>\n",
       "    <tr>\n",
       "      <th>0</th>\n",
       "      <td>0</td>\n",
       "      <td>5c6050a42554172704fccdc0</td>\n",
       "      <td>9</td>\n",
       "      <td>1</td>\n",
       "      <td>2019-02-10 17:25:37.787</td>\n",
       "      <td>64</td>\n",
       "      <td>11</td>\n",
       "      <td>1</td>\n",
       "      <td>0</td>\n",
       "      <td>20</td>\n",
       "      <td>2019-02-10 17:21:13.000</td>\n",
       "    </tr>\n",
       "    <tr>\n",
       "      <th>1</th>\n",
       "      <td>1</td>\n",
       "      <td>5c6050a42554172704fccdc1</td>\n",
       "      <td>6</td>\n",
       "      <td>1</td>\n",
       "      <td>2019-02-10 17:25:37.787</td>\n",
       "      <td>73</td>\n",
       "      <td>14</td>\n",
       "      <td>1</td>\n",
       "      <td>1</td>\n",
       "      <td>20</td>\n",
       "      <td>2019-02-10 17:24:13.000</td>\n",
       "    </tr>\n",
       "    <tr>\n",
       "      <th>2</th>\n",
       "      <td>2</td>\n",
       "      <td>5c605be225541729b7d50885</td>\n",
       "      <td>20</td>\n",
       "      <td>1</td>\n",
       "      <td>2019-02-10 18:13:39.827</td>\n",
       "      <td>63</td>\n",
       "      <td>0</td>\n",
       "      <td>1</td>\n",
       "      <td>1</td>\n",
       "      <td>20</td>\n",
       "      <td>2019-02-10 18:09:16.000</td>\n",
       "    </tr>\n",
       "    <tr>\n",
       "      <th>3</th>\n",
       "      <td>3</td>\n",
       "      <td>5c605be225541729b7d50886</td>\n",
       "      <td>6</td>\n",
       "      <td>1</td>\n",
       "      <td>2019-02-10 18:13:39.827</td>\n",
       "      <td>64</td>\n",
       "      <td>14</td>\n",
       "      <td>1</td>\n",
       "      <td>0</td>\n",
       "      <td>20</td>\n",
       "      <td>2019-02-10 18:12:15.000</td>\n",
       "    </tr>\n",
       "    <tr>\n",
       "      <th>4</th>\n",
       "      <td>4</td>\n",
       "      <td>5c605be225541729b7d50887</td>\n",
       "      <td>9</td>\n",
       "      <td>1</td>\n",
       "      <td>2019-02-10 18:13:39.827</td>\n",
       "      <td>65</td>\n",
       "      <td>10</td>\n",
       "      <td>1</td>\n",
       "      <td>1</td>\n",
       "      <td>19</td>\n",
       "      <td>2019-02-10 18:09:16.000</td>\n",
       "    </tr>\n",
       "  </tbody>\n",
       "</table>\n",
       "</div>"
      ],
      "text/plain": [
       "   Unnamed: 0                       _id  available  connected  \\\n",
       "0           0  5c6050a42554172704fccdc0          9          1   \n",
       "1           1  5c6050a42554172704fccdc1          6          1   \n",
       "2           2  5c605be225541729b7d50885         20          1   \n",
       "3           3  5c605be225541729b7d50886          6          1   \n",
       "4           4  5c605be225541729b7d50887          9          1   \n",
       "\n",
       "             download_date  station  free  open  ticket  total  \\\n",
       "0  2019-02-10 17:25:37.787       64    11     1       0     20   \n",
       "1  2019-02-10 17:25:37.787       73    14     1       1     20   \n",
       "2  2019-02-10 18:13:39.827       63     0     1       1     20   \n",
       "3  2019-02-10 18:13:39.827       64    14     1       0     20   \n",
       "4  2019-02-10 18:13:39.827       65    10     1       1     19   \n",
       "\n",
       "                   updated  \n",
       "0  2019-02-10 17:21:13.000  \n",
       "1  2019-02-10 17:24:13.000  \n",
       "2  2019-02-10 18:09:16.000  \n",
       "3  2019-02-10 18:12:15.000  \n",
       "4  2019-02-10 18:09:16.000  "
      ]
     },
     "execution_count": 44,
     "metadata": {},
     "output_type": "execute_result"
    }
   ],
   "source": [
    "bicis = pd.read_csv(bicis_path, sep=';')\n",
    "bicis.head()"
   ]
  },
  {
   "cell_type": "code",
   "execution_count": 45,
   "id": "4f6c5a5c-af98-4d45-a535-fdd979fd4f6b",
   "metadata": {},
   "outputs": [],
   "source": [
    "data = bicis[['station', 'total', 'updated', 'free']]"
   ]
  },
  {
   "cell_type": "code",
   "execution_count": 46,
   "id": "b8dc0bae-1cb7-4bb7-b10e-690031a3e090",
   "metadata": {},
   "outputs": [
    {
     "data": {
      "text/html": [
       "<div>\n",
       "<style scoped>\n",
       "    .dataframe tbody tr th:only-of-type {\n",
       "        vertical-align: middle;\n",
       "    }\n",
       "\n",
       "    .dataframe tbody tr th {\n",
       "        vertical-align: top;\n",
       "    }\n",
       "\n",
       "    .dataframe thead th {\n",
       "        text-align: right;\n",
       "    }\n",
       "</style>\n",
       "<table border=\"1\" class=\"dataframe\">\n",
       "  <thead>\n",
       "    <tr style=\"text-align: right;\">\n",
       "      <th></th>\n",
       "      <th>station</th>\n",
       "      <th>total</th>\n",
       "      <th>updated</th>\n",
       "      <th>free</th>\n",
       "    </tr>\n",
       "  </thead>\n",
       "  <tbody>\n",
       "    <tr>\n",
       "      <th>0</th>\n",
       "      <td>64</td>\n",
       "      <td>20</td>\n",
       "      <td>2019-02-10 17:21:13.000</td>\n",
       "      <td>11</td>\n",
       "    </tr>\n",
       "    <tr>\n",
       "      <th>1</th>\n",
       "      <td>73</td>\n",
       "      <td>20</td>\n",
       "      <td>2019-02-10 17:24:13.000</td>\n",
       "      <td>14</td>\n",
       "    </tr>\n",
       "    <tr>\n",
       "      <th>2</th>\n",
       "      <td>63</td>\n",
       "      <td>20</td>\n",
       "      <td>2019-02-10 18:09:16.000</td>\n",
       "      <td>0</td>\n",
       "    </tr>\n",
       "    <tr>\n",
       "      <th>3</th>\n",
       "      <td>64</td>\n",
       "      <td>20</td>\n",
       "      <td>2019-02-10 18:12:15.000</td>\n",
       "      <td>14</td>\n",
       "    </tr>\n",
       "    <tr>\n",
       "      <th>4</th>\n",
       "      <td>65</td>\n",
       "      <td>19</td>\n",
       "      <td>2019-02-10 18:09:16.000</td>\n",
       "      <td>10</td>\n",
       "    </tr>\n",
       "  </tbody>\n",
       "</table>\n",
       "</div>"
      ],
      "text/plain": [
       "   station  total                  updated  free\n",
       "0       64     20  2019-02-10 17:21:13.000    11\n",
       "1       73     20  2019-02-10 17:24:13.000    14\n",
       "2       63     20  2019-02-10 18:09:16.000     0\n",
       "3       64     20  2019-02-10 18:12:15.000    14\n",
       "4       65     19  2019-02-10 18:09:16.000    10"
      ]
     },
     "metadata": {},
     "output_type": "display_data"
    }
   ],
   "source": [
    "display(data.head())"
   ]
  },
  {
   "cell_type": "code",
   "execution_count": 47,
   "id": "fcea6d5c-55ae-450e-a1e8-89491cdb608c",
   "metadata": {},
   "outputs": [
    {
     "name": "stdout",
     "output_type": "stream",
     "text": [
      "<class 'pandas.core.frame.DataFrame'>\n",
      "RangeIndex: 27547 entries, 0 to 27546\n",
      "Data columns (total 4 columns):\n",
      " #   Column   Non-Null Count  Dtype \n",
      "---  ------   --------------  ----- \n",
      " 0   station  27547 non-null  int64 \n",
      " 1   total    27547 non-null  int64 \n",
      " 2   updated  27547 non-null  object\n",
      " 3   free     27547 non-null  int64 \n",
      "dtypes: int64(3), object(1)\n",
      "memory usage: 861.0+ KB\n"
     ]
    },
    {
     "data": {
      "text/plain": [
       "None"
      ]
     },
     "metadata": {},
     "output_type": "display_data"
    }
   ],
   "source": [
    "display(data.info())"
   ]
  },
  {
   "cell_type": "code",
   "execution_count": 48,
   "id": "ef9c36a9-4882-4750-b8ad-6004640bdca7",
   "metadata": {},
   "outputs": [
    {
     "data": {
      "text/html": [
       "<div>\n",
       "<style scoped>\n",
       "    .dataframe tbody tr th:only-of-type {\n",
       "        vertical-align: middle;\n",
       "    }\n",
       "\n",
       "    .dataframe tbody tr th {\n",
       "        vertical-align: top;\n",
       "    }\n",
       "\n",
       "    .dataframe thead th {\n",
       "        text-align: right;\n",
       "    }\n",
       "</style>\n",
       "<table border=\"1\" class=\"dataframe\">\n",
       "  <thead>\n",
       "    <tr style=\"text-align: right;\">\n",
       "      <th></th>\n",
       "      <th>station</th>\n",
       "      <th>total</th>\n",
       "      <th>updated</th>\n",
       "      <th>free</th>\n",
       "    </tr>\n",
       "  </thead>\n",
       "  <tbody>\n",
       "    <tr>\n",
       "      <th>count</th>\n",
       "      <td>27547.000000</td>\n",
       "      <td>27547.000000</td>\n",
       "      <td>27547</td>\n",
       "      <td>27547.000000</td>\n",
       "    </tr>\n",
       "    <tr>\n",
       "      <th>unique</th>\n",
       "      <td>NaN</td>\n",
       "      <td>NaN</td>\n",
       "      <td>537</td>\n",
       "      <td>NaN</td>\n",
       "    </tr>\n",
       "    <tr>\n",
       "      <th>top</th>\n",
       "      <td>NaN</td>\n",
       "      <td>NaN</td>\n",
       "      <td>2019-02-11 09:12:14.000</td>\n",
       "      <td>NaN</td>\n",
       "    </tr>\n",
       "    <tr>\n",
       "      <th>freq</th>\n",
       "      <td>NaN</td>\n",
       "      <td>NaN</td>\n",
       "      <td>180</td>\n",
       "      <td>NaN</td>\n",
       "    </tr>\n",
       "    <tr>\n",
       "      <th>mean</th>\n",
       "      <td>138.449196</td>\n",
       "      <td>19.915381</td>\n",
       "      <td>NaN</td>\n",
       "      <td>10.629397</td>\n",
       "    </tr>\n",
       "    <tr>\n",
       "      <th>std</th>\n",
       "      <td>79.657747</td>\n",
       "      <td>5.570912</td>\n",
       "      <td>NaN</td>\n",
       "      <td>7.492671</td>\n",
       "    </tr>\n",
       "    <tr>\n",
       "      <th>min</th>\n",
       "      <td>1.000000</td>\n",
       "      <td>10.000000</td>\n",
       "      <td>NaN</td>\n",
       "      <td>0.000000</td>\n",
       "    </tr>\n",
       "    <tr>\n",
       "      <th>25%</th>\n",
       "      <td>69.000000</td>\n",
       "      <td>15.000000</td>\n",
       "      <td>NaN</td>\n",
       "      <td>4.000000</td>\n",
       "    </tr>\n",
       "    <tr>\n",
       "      <th>50%</th>\n",
       "      <td>139.000000</td>\n",
       "      <td>20.000000</td>\n",
       "      <td>NaN</td>\n",
       "      <td>10.000000</td>\n",
       "    </tr>\n",
       "    <tr>\n",
       "      <th>75%</th>\n",
       "      <td>207.000000</td>\n",
       "      <td>20.000000</td>\n",
       "      <td>NaN</td>\n",
       "      <td>15.000000</td>\n",
       "    </tr>\n",
       "    <tr>\n",
       "      <th>max</th>\n",
       "      <td>276.000000</td>\n",
       "      <td>40.000000</td>\n",
       "      <td>NaN</td>\n",
       "      <td>40.000000</td>\n",
       "    </tr>\n",
       "  </tbody>\n",
       "</table>\n",
       "</div>"
      ],
      "text/plain": [
       "             station         total                  updated          free\n",
       "count   27547.000000  27547.000000                    27547  27547.000000\n",
       "unique           NaN           NaN                      537           NaN\n",
       "top              NaN           NaN  2019-02-11 09:12:14.000           NaN\n",
       "freq             NaN           NaN                      180           NaN\n",
       "mean      138.449196     19.915381                      NaN     10.629397\n",
       "std        79.657747      5.570912                      NaN      7.492671\n",
       "min         1.000000     10.000000                      NaN      0.000000\n",
       "25%        69.000000     15.000000                      NaN      4.000000\n",
       "50%       139.000000     20.000000                      NaN     10.000000\n",
       "75%       207.000000     20.000000                      NaN     15.000000\n",
       "max       276.000000     40.000000                      NaN     40.000000"
      ]
     },
     "metadata": {},
     "output_type": "display_data"
    }
   ],
   "source": [
    "display(data.describe(include='all'))"
   ]
  },
  {
   "cell_type": "markdown",
   "id": "48c516df",
   "metadata": {},
   "source": [
    "## 1. Obtener la cantidad de estaciones que tienen 30 plazas disponibles (TOTAL = 30)"
   ]
  },
  {
   "cell_type": "code",
   "execution_count": 49,
   "id": "c8637b8e",
   "metadata": {},
   "outputs": [
    {
     "name": "stdout",
     "output_type": "stream",
     "text": [
      "Número de estaciones con 30 plazas: 1098\n"
     ]
    }
   ],
   "source": [
    "total_estaciones_30_plazas = len(bicis[bicis['total'] == 30])\n",
    "print(f\"Número de estaciones con 30 plazas: {total_estaciones_30_plazas}\")"
   ]
  },
  {
   "cell_type": "markdown",
   "id": "1c2e1c5c",
   "metadata": {},
   "source": [
    "## 2. Código de estación con la media más alta de bicicletas disponibles (AVAILABLE con media más alta)"
   ]
  },
  {
   "cell_type": "code",
   "execution_count": 50,
   "id": "9c735aa4",
   "metadata": {},
   "outputs": [
    {
     "name": "stdout",
     "output_type": "stream",
     "text": [
      "Código de estación con la media más alta: 50\n"
     ]
    }
   ],
   "source": [
    "media_por_estacion = bicis.groupby(\"station\")[\"available\"].mean()\n",
    "estacion_media_alta = media_por_estacion.idxmax()\n",
    "print(f\"Código de estación con la media más alta: {estacion_media_alta}\")"
   ]
  },
  {
   "cell_type": "markdown",
   "id": "79e456f1",
   "metadata": {},
   "source": [
    "## 3. Histograma de bicicletas disponibles de la estación obtenida en el apartado 2."
   ]
  },
  {
   "cell_type": "code",
   "execution_count": 54,
   "id": "c489e686",
   "metadata": {},
   "outputs": [
    {
     "data": {
      "image/png": "[encoded data removed]",
      "text/plain": [
       "<Figure size 640x480 with 1 Axes>"
      ]
     },
     "metadata": {},
     "output_type": "display_data"
    }
   ],
   "source": [
    "bicis1 = bicis[bicis[\"station\"] == estacion_media_alta]\n",
    "\n",
    "# Generamos el histograma\n",
    "bicis1[\"available\"].hist(bins=20)\n",
    "\n",
    "# Añadimos título y etiquetas para mayor claridad\n",
    "plt.title(\"Histograma de bicicletas disponibles en la estación 50\")\n",
    "plt.xlabel(\"Bicicletas disponibles\")\n",
    "plt.ylabel(\"Frecuencia\")\n",
    "\n",
    "# Mostramos el gráfico\n",
    "plt.show()"
   ]
  },
  {
   "cell_type": "markdown",
   "id": "8dad3d12",
   "metadata": {},
   "source": [
    "## 4. Gráfico con la línea temporal de bicicletas disponibles de la estación obtenida en el apartado 2."
   ]
  },
  {
   "cell_type": "code",
   "execution_count": 52,
   "metadata": {},
   "outputs": [
    {
     "data": {
      "text/plain": [
       "<Axes: xlabel='updated'>"
      ]
     },
     "execution_count": 52,
     "metadata": {},
     "output_type": "execute_result"
    },
    {
     "data": {
      "image/png": "[encoded data removed]",
      "text/plain": [
       "<Figure size 640x480 with 1 Axes>"
      ]
     },
     "metadata": {},
     "output_type": "display_data"
    }
   ],
   "source": [
    "bicis[\"updated\"] = pd.to_datetime(bicis[\"updated\"])\n",
    "df_estacion = bicis[bicis[\"station\"] == estacion_media_alta]\n",
    "df_estacion.set_index(\"updated\")[\"available\"].plot()"
   ]
  }
 ],
 "metadata": {
  "kernelspec": {
   "display_name": "Python 3",
   "language": "python",
   "name": "python3"
  },
  "language_info": {
   "codemirror_mode": {
    "name": "ipython",
    "version": 3
   },
   "file_extension": ".py",
   "mimetype": "text/x-python",
   "name": "python",
   "nbconvert_exporter": "python",
   "pygments_lexer": "ipython3",
   "version": "3.11.5"
  }
 },
 "nbformat": 4,
 "nbformat_minor": 5
}
