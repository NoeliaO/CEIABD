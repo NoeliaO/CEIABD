{
 "cells": [
  {
   "cell_type": "markdown",
   "metadata": {},
   "source": [
    "# Proyecto                                                                                                                                 Noelia Otazo Rojo\n",
    "- Hacer un análisis general de los otros dos archivos CSV en ml-1m ('movies.dat' y 'ratings.dat')\n",
    "- Analizando el dataset ratings.dat, ¿hay algún usuario que no tenga ninguna review? ¿Cuántos tienen menos de 30 reviews?"
   ]
  },
  {
   "cell_type": "markdown",
   "metadata": {},
   "source": [
    "## 1. Preparación.\n",
    "Importamos las librerías necesarias."
   ]
  },
  {
   "cell_type": "code",
   "execution_count": 14,
   "metadata": {},
   "outputs": [],
   "source": [
    "import pandas as pd"
   ]
  },
  {
   "cell_type": "markdown",
   "metadata": {},
   "source": [
    "## 2. Importación de datos.\n",
    "Cargamos el contenido de movies.dat y de ratings.dat. Para ello necesitamos especificar la codificación ISO-8859-1."
   ]
  },
  {
   "cell_type": "code",
   "execution_count": 15,
   "metadata": {},
   "outputs": [
    {
     "name": "stdout",
     "output_type": "stream",
     "text": [
      "   movieId                               title                        genres\n",
      "0        1                    Toy Story (1995)   Animation|Children's|Comedy\n",
      "1        2                      Jumanji (1995)  Adventure|Children's|Fantasy\n",
      "2        3             Grumpier Old Men (1995)                Comedy|Romance\n",
      "3        4            Waiting to Exhale (1995)                  Comedy|Drama\n",
      "4        5  Father of the Bride Part II (1995)                        Comedy\n"
     ]
    }
   ],
   "source": [
    "# Cargamos movies.dat\n",
    "movies_columns = ['movieId', 'title', 'genres']\n",
    "movies = pd.read_csv('./dataset/movies.dat', sep='::', engine='python', names=movies_columns, encoding='ISO-8859-1')\n",
    "\n",
    "print(movies.head())"
   ]
  },
  {
   "cell_type": "code",
   "execution_count": 16,
   "metadata": {},
   "outputs": [
    {
     "name": "stdout",
     "output_type": "stream",
     "text": [
      "   userId  movieId  rating  timestamp\n",
      "0       1     1193       5  978300760\n",
      "1       1      661       3  978302109\n",
      "2       1      914       3  978301968\n",
      "3       1     3408       4  978300275\n",
      "4       1     2355       5  978824291\n"
     ]
    }
   ],
   "source": [
    "# Cargamos ratings.dat\n",
    "ratings_columns = ['userId', 'movieId', 'rating', 'timestamp']\n",
    "ratings = pd.read_csv('./dataset/ratings.dat', sep='::', engine='python', names=ratings_columns, encoding='ISO-8859-1')\n",
    "\n",
    "print(ratings.head())"
   ]
  },
  {
   "cell_type": "markdown",
   "metadata": {},
   "source": [
    "Necesitamos cargar tambien users.dat, ya que sin ese fichero de datos no podríamos sacar si hay usuarios que no tengan ninguna review."
   ]
  },
  {
   "cell_type": "code",
   "execution_count": 17,
   "metadata": {},
   "outputs": [
    {
     "name": "stdout",
     "output_type": "stream",
     "text": [
      "   UserID Gender  Age  Occupation Zip-code\n",
      "0       1      F    1          10    48067\n",
      "1       2      M   56          16    70072\n",
      "2       3      M   25          15    55117\n",
      "3       4      M   45           7    02460\n",
      "4       5      M   25          20    55455\n"
     ]
    }
   ],
   "source": [
    "# Cargamos users.dat\n",
    "users_columns = ['UserID', 'Gender', 'Age', 'Occupation', 'Zip-code']\n",
    "users = pd.read_csv('./dataset/users.dat', sep='::', engine='python', names=users_columns, encoding='ISO-8859-1')\n",
    "\n",
    "print(users.head())"
   ]
  },
  {
   "cell_type": "markdown",
   "metadata": {},
   "source": [
    "### 2. Análisis de datos.\n",
    "#### ¿Hay algun usuario sin ninguna review?"
   ]
  },
  {
   "cell_type": "code",
   "execution_count": 18,
   "metadata": {},
   "outputs": [
    {
     "name": "stdout",
     "output_type": "stream",
     "text": [
      "Número de usuarios sin ninguna review: 0\n"
     ]
    }
   ],
   "source": [
    "# Convertimos las columnas de ID de usuario a sets para facilitar la comparación\n",
    "usuarios = set(users['UserID'])\n",
    "usuarios_con_reviews = set(ratings['userId'])\n",
    "\n",
    "# Usuarios sin ninguna review\n",
    "usuarios_sin_reviews = usuarios - usuarios_con_reviews\n",
    "num_usuarios_sin_reviews = len(usuarios_sin_reviews)\n",
    "\n",
    "# Imprimimos los resultados\n",
    "print(f\"Número de usuarios sin ninguna review: {num_usuarios_sin_reviews}\")\n"
   ]
  },
  {
   "cell_type": "markdown",
   "metadata": {},
   "source": [
    "#### ¿Cuántos usuarios tienen menos de 30 reviews?"
   ]
  },
  {
   "cell_type": "code",
   "execution_count": 19,
   "metadata": {},
   "outputs": [
    {
     "name": "stdout",
     "output_type": "stream",
     "text": [
      "Número de usuarios con menos de 30 reviews: 751\n"
     ]
    }
   ],
   "source": [
    "# Contamos las reviews por usuario\n",
    "reviews_por_usuario = ratings.groupby('userId').size()\n",
    "\n",
    "# Filtramos aquellos con menos de 30 reviews\n",
    "usuarios_menos_30_reviews = reviews_por_usuario[reviews_por_usuario < 30]\n",
    "num_usuarios_menos_30_reviews = len(usuarios_menos_30_reviews)\n",
    "\n",
    "print(f\"Número de usuarios con menos de 30 reviews: {num_usuarios_menos_30_reviews}\")"
   ]
  }
 ],
 "metadata": {
  "kernelspec": {
   "display_name": "base",
   "language": "python",
   "name": "python3"
  },
  "language_info": {
   "codemirror_mode": {
    "name": "ipython",
    "version": 3
   },
   "file_extension": ".py",
   "mimetype": "text/x-python",
   "name": "python",
   "nbconvert_exporter": "python",
   "pygments_lexer": "ipython3",
   "version": "3.11.5"
  }
 },
 "nbformat": 4,
 "nbformat_minor": 2
}
