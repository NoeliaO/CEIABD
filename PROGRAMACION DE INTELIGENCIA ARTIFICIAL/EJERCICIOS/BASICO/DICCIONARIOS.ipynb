{
  "cells": [
    {
      "cell_type": "markdown",
      "metadata": {
        "id": "UFc4UYBp0PFp"
      },
      "source": [
        "EJERCICIOS DE DICCIONARIOS"
      ]
    },
    {
      "cell_type": "markdown",
      "metadata": {
        "id": "_Scy7JgM0V_8"
      },
      "source": [
        "## Ejercicio 1\n",
        "\n",
        "Escribir un programa que guarde en una variable el diccionario `{'Euro':'€', 'Dollar':'$', 'Yen':'¥'}`, pregunte al usuario por una divisa y muestre su símbolo o un mensaje de aviso si la divisa no está en el diccionario."
      ]
    },
    {
      "cell_type": "code",
      "execution_count": 2,
      "metadata": {},
      "outputs": [
        {
          "name": "stdout",
          "output_type": "stream",
          "text": [
            "El símbolo de la divisa Euro es: €\n"
          ]
        }
      ],
      "source": [
        "divisas = {'Euro':'€', 'Dollar':'$', 'Yen':'¥'}\n",
        "\n",
        "# Preguntamos al usuario por una divisa\n",
        "divisa_usuario = input(\"Introduce una divisa (Euro, Dollar, Yen): \")\n",
        "\n",
        "# Buscamos el símbolo en el diccionario y mostramos el resultado\n",
        "if divisa_usuario in divisas:\n",
        "    print(f\"El símbolo de la divisa {divisa_usuario} es: {divisas[divisa_usuario]}\")\n",
        "else:\n",
        "    print(\"La divisa no está en el diccionario.\")"
      ]
    },
    {
      "cell_type": "markdown",
      "metadata": {
        "id": "P9YTzmG80lcB"
      },
      "source": [
        "## Ejercicio 2\n",
        "\n",
        "Escribir un programa que pregunte al usuario su nombre, edad, dirección y teléfono y lo guarde en un diccionario. Despúes debe mostrar por pantalla el mensaje `<nombre> tiene <edad> años, vive en <dirección> y su número de teléfono es <teléfono>`.\n"
      ]
    },
    {
      "cell_type": "code",
      "execution_count": 3,
      "metadata": {},
      "outputs": [
        {
          "name": "stdout",
          "output_type": "stream",
          "text": [
            "Noelia tiene 24 años, vive en Valladolid y su número de teléfono es 622497016.\n"
          ]
        }
      ],
      "source": [
        "datos_usuario = {}\n",
        "\n",
        "# Pide los datos y los guarda\n",
        "datos_usuario['nombre'] = input(\"Introduce tu nombre: \")\n",
        "datos_usuario['edad'] = input(\"Introduce tu edad: \")\n",
        "datos_usuario['dirección'] = input(\"Introduce tu dirección: \")\n",
        "datos_usuario['teléfono'] = input(\"Introduce tu número de teléfono: \")\n",
        "\n",
        "print(f\"{datos_usuario['nombre']} tiene {datos_usuario['edad']} años, vive en {datos_usuario['dirección']} y su número de teléfono es {datos_usuario['teléfono']}.\")\n"
      ]
    },
    {
      "cell_type": "markdown",
      "metadata": {
        "id": "7Y0W_SXy006o"
      },
      "source": [
        "## Ejercicio 3\n",
        "\n",
        "Escribir un programa que guarde en un diccionario los precios de las frutas de la tabla, pregunte al usuario por una fruta, un número de kilos y muestre por pantalla el precio de ese número de kilos de fruta. Si la fruta no está en el diccionario debe mostrar un mensaje informando de ello.\n",
        "\n",
        "| Fruta | Precio|\n",
        "|:-|:-:|\n",
        "|Plátano | 1.35 |\n",
        "|Manzana | 0.80|\n",
        "|Pera| 0.85|\n",
        "|Naranja | 0.70|\n"
      ]
    },
    {
      "cell_type": "code",
      "execution_count": 5,
      "metadata": {},
      "outputs": [
        {
          "name": "stdout",
          "output_type": "stream",
          "text": [
            "El precio de 1.0 kilos de Pera es 0.85 euros.\n"
          ]
        }
      ],
      "source": [
        "precios_frutas = {'Plátano': 1.35, 'Manzana': 0.80, 'Pera': 0.85, 'Naranja': 0.70}\n",
        "\n",
        "# Pide al usuario que elija una fruta\n",
        "fruta = input(\"Introduce el nombre de una fruta (Plátano, Manzana, Pera, Naranja): \")\n",
        "\n",
        "# Verifica si la fruta está en el diccionario\n",
        "if fruta in precios_frutas:\n",
        "    # Pide al usuario que introduzca el número de kilos\n",
        "    kilos = float(input(f\"¿Cuántos kilos de {fruta} quieres? \"))\n",
        "\n",
        "    # Calcula el precio\n",
        "    precio_total = precios_frutas[fruta] * kilos\n",
        "\n",
        "    # Muestra el precio total\n",
        "    print(f\"El precio de {kilos} kilos de {fruta} es {precio_total} euros.\")\n",
        "else:\n",
        "    # Informa al usuario si la fruta no está en el diccionario\n",
        "    print(\"La fruta seleccionada no está disponible.\")"
      ]
    },
    {
      "cell_type": "markdown",
      "metadata": {
        "id": "7hKVYfST1OTw"
      },
      "source": [
        "## Ejercicio 4\n",
        "\n",
        "Escribir un programa que pregunte una fecha en formato `dd/mm/aaaa` y muestre por pantalla la misma fecha en formato `dd de <mes> de aaaa` donde `<mes>` es el nombre del mes."
      ]
    },
    {
      "cell_type": "code",
      "execution_count": 8,
      "metadata": {},
      "outputs": [
        {
          "name": "stdout",
          "output_type": "stream",
          "text": [
            "22 de febrero de 2024\n"
          ]
        }
      ],
      "source": [
        "nombres_meses = {\n",
        "    '01': 'enero', '02': 'febrero', '03': 'marzo',\n",
        "    '04': 'abril', '05': 'mayo', '06': 'junio',\n",
        "    '07': 'julio', '08': 'agosto', '09': 'septiembre',\n",
        "    '10': 'octubre', '11': 'noviembre', '12': 'diciembre'\n",
        "}\n",
        "\n",
        "# Función para comprobar el formato de la fecha\n",
        "def comprobar_formato_fecha(fecha):\n",
        "    try:\n",
        "        dia, mes, año = fecha.split('/')\n",
        "        if len(dia) == 2 and len(mes) == 2 and len(año) == 4 and mes in nombres_meses:\n",
        "            return True\n",
        "        return False\n",
        "    except ValueError:\n",
        "        return False\n",
        "\n",
        "# Pide al usuario que introduzca una fecha y comprueba el formato\n",
        "fecha = input(\"Introduce una fecha en formato dd/mm/aaaa: \")\n",
        "\n",
        "if comprobar_formato_fecha(fecha):\n",
        "    dia, mes, año = fecha.split('/')\n",
        "    mes_nombre = nombres_meses[mes]\n",
        "    print(f\"{dia} de {mes_nombre} de {año}\")\n",
        "else:\n",
        "    print(\"Formato de fecha incorrecto. Asegúrate de introducir la fecha en formato dd/mm/aaaa.\")"
      ]
    },
    {
      "cell_type": "markdown",
      "metadata": {
        "id": "Vlth0Sai1mB9"
      },
      "source": [
        "## Ejercicio 5\n",
        "\n",
        "Escribir un programa que pregunte una fecha en formato `dd/mm/aaaa` y muestre por pantalla la misma fecha en formato `dd de <mes> de aaaa` donde `<mes>` es el nombre del mes."
      ]
    },
    {
      "cell_type": "code",
      "execution_count": 9,
      "metadata": {},
      "outputs": [
        {
          "name": "stdout",
          "output_type": "stream",
          "text": [
            "22 de mayo de 2024\n"
          ]
        }
      ],
      "source": [
        "nombres_meses = {\n",
        "    '01': 'enero', '02': 'febrero', '03': 'marzo',\n",
        "    '04': 'abril', '05': 'mayo', '06': 'junio',\n",
        "    '07': 'julio', '08': 'agosto', '09': 'septiembre',\n",
        "    '10': 'octubre', '11': 'noviembre', '12': 'diciembre'\n",
        "}\n",
        "\n",
        "# Función para comprobar el formato de la fecha\n",
        "def comprobar_formato_fecha(fecha):\n",
        "    try:\n",
        "        dia, mes, año = fecha.split('/')\n",
        "        if len(dia) == 2 and len(mes) == 2 and len(año) == 4 and mes in nombres_meses:\n",
        "            return True\n",
        "        return False\n",
        "    except ValueError:\n",
        "        return False\n",
        "\n",
        "# Pide al usuario que introduzca una fecha y comprueba el formato\n",
        "fecha = input(\"Introduce una fecha en formato dd/mm/aaaa: \")\n",
        "\n",
        "if comprobar_formato_fecha(fecha):\n",
        "    dia, mes, año = fecha.split('/')\n",
        "    mes_nombre = nombres_meses[mes]\n",
        "    print(f\"{dia} de {mes_nombre} de {año}\")\n",
        "else:\n",
        "    print(\"Formato de fecha incorrecto. Asegúrate de introducir la fecha en formato dd/mm/aaaa.\")"
      ]
    },
    {
      "cell_type": "markdown",
      "metadata": {
        "id": "fbza8c2J2FNE"
      },
      "source": [
        "## Ejercicio 6\n",
        "\n",
        "Escribir un programa que cree un diccionario vacío y lo vaya llenado con información sobre una persona (por ejemplo nombre, edad, sexo, teléfono, correo electrónico, etc.) que se le pida al usuario. Cada vez que se añada un nuevo dato debe imprimirse el contenido del diccionario."
      ]
    },
    {
      "cell_type": "code",
      "execution_count": 10,
      "metadata": {},
      "outputs": [
        {
          "name": "stdout",
          "output_type": "stream",
          "text": [
            "Información actualizada de la persona:\n",
            "nombre: Noelia\n",
            "Información actualizada de la persona:\n",
            "nombre: Noelia\n",
            "edad: 24\n",
            "Información actualizada de la persona:\n",
            "nombre: Noelia\n",
            "edad: 24\n",
            "sexo: Mujer\n",
            "Información actualizada de la persona:\n",
            "nombre: Noelia\n",
            "edad: 24\n",
            "sexo: Mujer\n",
            "mail: noeliaotaro@gmail.com\n",
            "Has terminado de introducir datos.\n"
          ]
        }
      ],
      "source": [
        "informacion_persona = {}\n",
        "\n",
        "while True:\n",
        "    # Pregunta al usuario qué dato quiere añadir\n",
        "    dato = input(\"¿Qué dato quieres añadir (nombre, edad, sexo, teléfono, correo electrónico, etc.)? Escribe 'salir' para terminar: \").lower()\n",
        "    \n",
        "    # Comprueba si el usuario quiere salir del programa\n",
        "    if dato == 'salir':\n",
        "        break\n",
        "\n",
        "    # Pide al usuario el valor del dato\n",
        "    valor = input(f\"Introduce tu {dato}: \")\n",
        "\n",
        "    # Añade el dato al diccionario\n",
        "    informacion_persona[dato] = valor\n",
        "\n",
        "    # Imprime el contenido actual del diccionario\n",
        "    print(\"Información actualizada de la persona:\")\n",
        "    for clave, valor in informacion_persona.items():\n",
        "        print(f\"{clave}: {valor}\")\n",
        "\n",
        "# Final del programa\n",
        "print(\"Has terminado de introducir datos.\")\n"
      ]
    },
    {
      "cell_type": "markdown",
      "metadata": {
        "id": "IwXHJssU2RyU"
      },
      "source": [
        "## Ejercicio 7\n",
        "\n",
        "Escribir un programa que cree un diccionario simulando una cesta de la compra. El programa debe preguntar el artículo y su precio y añadir el par al diccionario, hasta que el usuario decida terminar. Después se debe mostrar por pantalla la lista de la compra y el coste total, con el siguiente formato\n",
        "\n",
        "|Lista de la compra| |\n",
        "|:-|-:|\n",
        "|Artículo 1 | Precio|\n",
        "|Artículo 2 | Precio|\n",
        "|Artículo 3 | Precio|\n",
        "|...| ...|\n",
        "|Total| Coste|\n"
      ]
    },
    {
      "cell_type": "code",
      "execution_count": 11,
      "metadata": {},
      "outputs": [
        {
          "name": "stdout",
          "output_type": "stream",
          "text": [
            "\n",
            "Lista de la compra\n",
            "|Artículo | Precio|\n",
            "|ColaCao | 12.0€|\n",
            "|Zumo | 3.0€|\n",
            "|Total| 15.0€|\n"
          ]
        }
      ],
      "source": [
        "cesta = {}\n",
        "\n",
        "while True:\n",
        "    # Pide al usuario que introduzca un artículo y su precio\n",
        "    articulo = input(\"Introduce un artículo (escribe 'salir' para terminar): \")\n",
        "    if articulo == 'salir':\n",
        "        break\n",
        "    precio = float(input(f\"Introduce el precio de {articulo}: \"))\n",
        "\n",
        "    # Añade el artículo y el precio al diccionario\n",
        "    cesta[articulo] = precio\n",
        "\n",
        "# Calcula el coste total\n",
        "coste_total = sum(cesta.values())\n",
        "\n",
        "# Muestra la lista de la compra y el coste total\n",
        "print(\"\\nLista de la compra\")\n",
        "print(\"|Artículo | Precio|\")\n",
        "for articulo, precio in cesta.items():\n",
        "    print(f\"|{articulo} | {precio}€|\")\n",
        "print(f\"|Total| {coste_total}€|\")\n"
      ]
    },
    {
      "cell_type": "markdown",
      "metadata": {
        "id": "X2tjwPAL2dfs"
      },
      "source": [
        "## Ejercicio 8\n",
        "\n",
        "Escribir un programa que cree un diccionario de traducción español-inglés. El usuario introducirá las palabras en español e inglés separadas por dos puntos, y cada par `<palabra>:<traducción>` separados por comas. El programa debe crear un diccionario con las palabras y sus traducciones. Después pedirá una frase en español y utilizará el diccionario para traducirla palabra a palabra. Si una palabra no está en el diccionario debe dejarla sin traducir."
      ]
    },
    {
      "cell_type": "code",
      "execution_count": 12,
      "metadata": {},
      "outputs": [
        {
          "name": "stdout",
          "output_type": "stream",
          "text": [
            "Frase traducida: This es an example\n"
          ]
        }
      ],
      "source": [
        "diccionario_traduccion = {}\n",
        "\n",
        "# Pide al usuario que introduzca las palabras y sus traducciones\n",
        "entradas = input(\"Introduce las palabras y sus traducciones en formato 'palabra:traducción', separadas por comas: \")\n",
        "\n",
        "# Procesa las entradas y llena el diccionario\n",
        "for entrada in entradas.split(','):\n",
        "    espanol, ingles = entrada.split(':')\n",
        "    diccionario_traduccion[espanol.strip()] = ingles.strip()\n",
        "\n",
        "# Pide al usuario que introduzca una frase en español\n",
        "frase = input(\"Introduce una frase en español para traducir: \")\n",
        "\n",
        "# Traduce la frase palabra por palabra\n",
        "frase_traducida = []\n",
        "for palabra in frase.split():\n",
        "    # Añade la traducción si la palabra está en el diccionario\n",
        "    if palabra in diccionario_traduccion:\n",
        "        frase_traducida.append(diccionario_traduccion[palabra])\n",
        "    else:\n",
        "        # Si la palabra no está en el diccionario, la deja sin traducir\n",
        "        frase_traducida.append(palabra)\n",
        "\n",
        "# Muestra la frase traducida\n",
        "print(\"Frase traducida:\", ' '.join(frase_traducida))"
      ]
    },
    {
      "cell_type": "markdown",
      "metadata": {
        "id": "FPZH9sqP2nk3"
      },
      "source": [
        "## Ejercicio 9\n",
        "\n",
        "Escribir un programa que gestione las facturas pendientes de cobro de una empresa. Las facturas se almacenarán en un diccionario donde la clave de cada factura será el número de factura y el valor el coste de la factura. El programa debe preguntar al usuario si quiere añadir una nueva factura, pagar una existente o terminar. Si desea añadir una nueva factura se preguntará por el número de factura y su coste y se añadirá al diccionario. Si se desea pagar una factura se preguntará por el número de factura y se eliminará del diccionario. Después de cada operación el programa debe mostrar por pantalla la cantidad cobrada hasta el momento y la cantidad pendiente de cobro."
      ]
    },
    {
      "cell_type": "code",
      "execution_count": 2,
      "metadata": {},
      "outputs": [
        {
          "name": "stdout",
          "output_type": "stream",
          "text": [
            "Cantidad cobrada: 0€\n",
            "Cantidad pendiente de cobro: 200.0€\n",
            "Cantidad cobrada: 0€\n",
            "Cantidad pendiente de cobro: 700.0€\n",
            "Cantidad cobrada: 500.0€\n",
            "Cantidad pendiente de cobro: 200.0€\n",
            "Programa finalizado.\n"
          ]
        }
      ],
      "source": [
        "facturas = {}\n",
        "\n",
        "# Inicializa la cantidad cobrada\n",
        "cantidad_cobrada = 0\n",
        "\n",
        "while True:\n",
        "    # Pregunta al usuario qué quiere hacer\n",
        "    accion = input(\"¿Quieres añadir una nueva factura, pagar una existente o terminar? (añadir/pagar/terminar): \").lower()\n",
        "    \n",
        "    if accion == 'añadir':\n",
        "        # Añadir una nueva factura\n",
        "        num_factura = input(\"Introduce el número de la factura: \")\n",
        "        coste = float(input(\"Introduce el coste de la factura: \"))\n",
        "        facturas[num_factura] = coste\n",
        "\n",
        "    elif accion == 'pagar':\n",
        "        # Pagar una factura existente\n",
        "        num_factura = input(\"Introduce el número de la factura que quieres pagar: \")\n",
        "        if num_factura in facturas:\n",
        "            cantidad_cobrada += facturas.pop(num_factura)\n",
        "        else:\n",
        "            print(\"La factura no existe.\")\n",
        "\n",
        "    elif accion == 'terminar':\n",
        "        # Terminar el programa\n",
        "        break\n",
        "\n",
        "    else:\n",
        "        print(\"Opción no válida. Por favor, elige 'añadir', 'pagar' o 'terminar'.\")\n",
        "\n",
        "    # Muestra la cantidad cobrada y pendiente\n",
        "    print(f\"Cantidad cobrada: {cantidad_cobrada}€\")\n",
        "    print(f\"Cantidad pendiente de cobro: {sum(facturas.values())}€\")\n",
        "\n",
        "# Final del programa\n",
        "print(\"Programa finalizado.\")"
      ]
    },
    {
      "cell_type": "markdown",
      "metadata": {
        "id": "Al4DAQfb21Wl"
      },
      "source": [
        "## Ejercicio 10\n",
        "\n",
        "Escribir un programa que permita gestionar la base de datos de clientes de una empresa. Los clientes se guardarán en un diccionario en el que la clave de cada cliente será su NIF, y el valor será otro diccionario con los datos del cliente (nombre, dirección, teléfono, correo, preferente), donde preferente tendrá el valor `True` si se trata de un cliente preferente. El programa debe preguntar al usuario por una opción del siguiente menú: (1) Añadir cliente, (2) Eliminar cliente, (3) Mostrar cliente, (4) Listar todos los clientes, (5) Listar clientes preferentes, (6) Terminar. En función de la opción elegida el programa tendrá que hacer lo siguiente:\n",
        "\n",
        "1. Preguntar los datos del cliente, crear un diccionario con los datos y añadirlo a la base de datos.\n",
        "2. Preguntar por el NIF del cliente y eliminar sus datos de la base de datos.\n",
        "3. Preguntar por el NIF del cliente y mostrar sus datos.\n",
        "4. Mostrar lista de todos los clientes de la base datos con su NIF y nombre.\n",
        "5. Mostrar la lista de clientes preferentes de la base de datos con su NIF y nombre.\n",
        "6. Terminar el programa."
      ]
    },
    {
      "cell_type": "code",
      "execution_count": 3,
      "metadata": {},
      "outputs": [
        {
          "name": "stdout",
          "output_type": "stream",
          "text": [
            "\n",
            "Menú:\n",
            "1) Añadir cliente\n",
            "2) Eliminar cliente\n",
            "3) Mostrar cliente\n",
            "4) Listar todos los clientes\n",
            "5) Listar clientes preferentes\n",
            "6) Terminar\n",
            "\n",
            "Menú:\n",
            "1) Añadir cliente\n",
            "2) Eliminar cliente\n",
            "3) Mostrar cliente\n",
            "4) Listar todos los clientes\n",
            "5) Listar clientes preferentes\n",
            "6) Terminar\n",
            "nombre: Noelia\n",
            "dirección: Valladolid\n",
            "teléfono: 622497016\n",
            "correo: noeliaotaro@gmail.com\n",
            "preferente: False\n",
            "\n",
            "Menú:\n",
            "1) Añadir cliente\n",
            "2) Eliminar cliente\n",
            "3) Mostrar cliente\n",
            "4) Listar todos los clientes\n",
            "5) Listar clientes preferentes\n",
            "6) Terminar\n",
            "Lista de clientes preferentes:\n",
            "\n",
            "Menú:\n",
            "1) Añadir cliente\n",
            "2) Eliminar cliente\n",
            "3) Mostrar cliente\n",
            "4) Listar todos los clientes\n",
            "5) Listar clientes preferentes\n",
            "6) Terminar\n",
            "Programa finalizado.\n"
          ]
        }
      ],
      "source": [
        "clientes = {}\n",
        "\n",
        "while True:\n",
        "    # Mostrar el menú de opciones\n",
        "    print(\"\\nMenú:\")\n",
        "    print(\"1) Añadir cliente\")\n",
        "    print(\"2) Eliminar cliente\")\n",
        "    print(\"3) Mostrar cliente\")\n",
        "    print(\"4) Listar todos los clientes\")\n",
        "    print(\"5) Listar clientes preferentes\")\n",
        "    print(\"6) Terminar\")\n",
        "    opcion = input(\"Elige una opción: \")\n",
        "\n",
        "    if opcion == '1':\n",
        "        # Añadir cliente\n",
        "        nif = input(\"Introduce el NIF del cliente: \")\n",
        "        nombre = input(\"Introduce el nombre del cliente: \")\n",
        "        direccion = input(\"Introduce la dirección del cliente: \")\n",
        "        telefono = input(\"Introduce el teléfono del cliente: \")\n",
        "        correo = input(\"Introduce el correo electrónico del cliente: \")\n",
        "        preferente = input(\"¿Es un cliente preferente (sí/no)? \").lower() == 'sí'\n",
        "        clientes[nif] = {\n",
        "            'nombre': nombre,\n",
        "            'dirección': direccion,\n",
        "            'teléfono': telefono,\n",
        "            'correo': correo,\n",
        "            'preferente': preferente\n",
        "        }\n",
        "\n",
        "    elif opcion == '2':\n",
        "        # Eliminar cliente\n",
        "        nif = input(\"Introduce el NIF del cliente a eliminar: \")\n",
        "        if nif in clientes:\n",
        "            del clientes[nif]\n",
        "        else:\n",
        "            print(\"No se ha encontrado el cliente.\")\n",
        "\n",
        "    elif opcion == '3':\n",
        "        # Mostrar cliente\n",
        "        nif = input(\"Introduce el NIF del cliente: \")\n",
        "        if nif in clientes:\n",
        "            for clave, valor in clientes[nif].items():\n",
        "                print(f\"{clave}: {valor}\")\n",
        "        else:\n",
        "            print(\"No se ha encontrado el cliente.\")\n",
        "\n",
        "    elif opcion == '4':\n",
        "        # Listar todos los clientes\n",
        "        print(\"Lista de todos los clientes:\")\n",
        "        for nif, datos in clientes.items():\n",
        "            print(f\"NIF: {nif}, Nombre: {datos['nombre']}\")\n",
        "\n",
        "    elif opcion == '5':\n",
        "        # Listar clientes preferentes\n",
        "        print(\"Lista de clientes preferentes:\")\n",
        "        for nif, datos in clientes.items():\n",
        "            if datos['preferente']:\n",
        "                print(f\"NIF: {nif}, Nombre: {datos['nombre']}\")\n",
        "\n",
        "    elif opcion == '6':\n",
        "        # Terminar el programa\n",
        "        print(\"Programa finalizado.\")\n",
        "        break\n",
        "\n",
        "    else:\n",
        "        print(\"Opción no válida. Por favor, intenta de nuevo.\")"
      ]
    },
    {
      "cell_type": "markdown",
      "metadata": {
        "id": "iDmto0ak3A8B"
      },
      "source": [
        "## Ejercicio 11\n",
        "\n",
        "El directorio de los clientes de una empresa está organizado en una cadena de texto como la de más abajo, donde cada línea contiene la información del nombre, email, teléfono, nif, y el descuento que se le aplica. Las líneas se separan con el carácter de cambio de línea `\\n` y la primera línea contiene los nombres de los campos con la información contenida en el directorio.\n",
        "\n",
        "```\n",
        "\"nif;nombre;email;teléfono;descuento\\n01234567L;Luis González;luisgonzalez@mail.com;656343576;12.5\\n71476342J;Macarena Ramírez;macarena@mail.com;692839321;8\\n63823376M;Juan José Martínez;juanjo@mail.com;664888233;5.2\\n98376547F;Carmen Sánchez;carmen@mail.com;667677855;15.7\"\n",
        "```\n",
        "\n",
        "Escribir un programa que genere un diccionario con la información del directorio, donde cada elemento corresponda a un cliente y tenga por clave su nif y por valor otro diccionario con el resto de la información del cliente. Los diccionarios con la información de cada cliente tendrán como claves los nombres de los campos y como valores la información de cada cliente correspondientes a los campos. Es decir, un diccionario como el siguiente\n",
        "\n",
        "```Python\n",
        "{'01234567L': {'nombre': 'Luis González', 'email': 'luisgonzalez@mail.com', 'teléfono': '656343576', 'descuento': 12.5}, '71476342J': {'nombre': 'Macarena Ramírez', 'email': 'macarena@mail.com', 'teléfono': '692839321', 'descuento': 8.0}, '63823376M': {'nombre': 'Juan José Martínez', 'email': 'juanjo@mail.com', 'teléfono': '664888233', 'descuento': 5.2}, '98376547F': {'nombre': 'Carmen Sánchez', 'email': 'carmen@mail.com', 'teléfono': '667677855', 'descuento': 15.7}}\n",
        "```"
      ]
    },
    {
      "cell_type": "code",
      "execution_count": 4,
      "metadata": {},
      "outputs": [
        {
          "name": "stdout",
          "output_type": "stream",
          "text": [
            "{'01234567L': {'nombre': 'Luis González', 'email': 'luisgonzalez@mail.com', 'teléfono': '656343576', 'descuento': 12.5}, '71476342J': {'nombre': 'Macarena Ramírez', 'email': 'macarena@mail.com', 'teléfono': '692839321', 'descuento': 8.0}, '63823376M': {'nombre': 'Juan José Martínez', 'email': 'juanjo@mail.com', 'teléfono': '664888233', 'descuento': 5.2}, '98376547F': {'nombre': 'Carmen Sánchez', 'email': 'carmen@mail.com', 'teléfono': '667677855', 'descuento': 15.7}}\n"
          ]
        }
      ],
      "source": [
        "\n",
        "clientes_str = \"nif;nombre;email;teléfono;descuento\\n01234567L;Luis González;luisgonzalez@mail.com;656343576;12.5\\n71476342J;Macarena Ramírez;macarena@mail.com;692839321;8\\n63823376M;Juan José Martínez;juanjo@mail.com;664888233;5.2\\n98376547F;Carmen Sánchez;carmen@mail.com;667677855;15.7\"\n",
        "\n",
        "# Separa la cadena por líneas\n",
        "lineas = clientes_str.split('\\n')\n",
        "\n",
        "# Extrae los nombres de los campos de la primera línea\n",
        "campos = lineas[0].split(';')\n",
        "\n",
        "# Crea un diccionario vacío para almacenar la información de los clientes\n",
        "directorio_clientes = {}\n",
        "\n",
        "# Procesa cada línea (excepto la primera que tiene los nombres de los campos)\n",
        "for linea in lineas[1:]:\n",
        "    # Divide la línea en sus componentes\n",
        "    datos = linea.split(';')\n",
        "    # Crea un diccionario para el cliente actual\n",
        "    cliente = {campos[i]: datos[i] for i in range(1, len(campos))}\n",
        "    # Convierte el descuento a float\n",
        "    cliente['descuento'] = float(cliente['descuento'])\n",
        "    # Añade el cliente al directorio, usando su NIF como clave\n",
        "    directorio_clientes[datos[0]] = cliente\n",
        "\n",
        "# Muestra el diccionario generado\n",
        "print(directorio_clientes)"
      ]
    }
  ],
  "metadata": {
    "colab": {
      "provenance": []
    },
    "kernelspec": {
      "display_name": "Python 3",
      "name": "python3"
    },
    "language_info": {
      "codemirror_mode": {
        "name": "ipython",
        "version": 3
      },
      "file_extension": ".py",
      "mimetype": "text/x-python",
      "name": "python",
      "nbconvert_exporter": "python",
      "pygments_lexer": "ipython3",
      "version": "3.11.5"
    }
  },
  "nbformat": 4,
  "nbformat_minor": 0
}
