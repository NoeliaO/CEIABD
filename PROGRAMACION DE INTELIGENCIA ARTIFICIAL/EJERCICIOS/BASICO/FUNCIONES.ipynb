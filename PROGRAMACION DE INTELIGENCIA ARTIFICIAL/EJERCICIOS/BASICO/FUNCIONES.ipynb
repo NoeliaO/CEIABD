{
  "cells": [
    {
      "cell_type": "markdown",
      "metadata": {
        "id": "TyCwytbq4H7v"
      },
      "source": [
        "EJERCICIOS DE FUNCIONES"
      ]
    },
    {
      "cell_type": "markdown",
      "metadata": {
        "id": "xHV8O8ND4NP2"
      },
      "source": [
        "## Ejercicio 1\n",
        "\n",
        "Escribir una función que muestre por pantalla el saludo `¡Hola amiga!` cada vez que se la invoque."
      ]
    },
    {
      "cell_type": "code",
      "execution_count": 1,
      "metadata": {},
      "outputs": [
        {
          "name": "stdout",
          "output_type": "stream",
          "text": [
            "¡Hola amiga!\n"
          ]
        }
      ],
      "source": [
        "def saludar():\n",
        "    print(\"¡Hola amiga!\")\n",
        "\n",
        "saludar()"
      ]
    },
    {
      "cell_type": "markdown",
      "metadata": {
        "id": "V27NY1zB4WC2"
      },
      "source": [
        "## Ejercicio 2\n",
        "\n",
        "Escribir una función a la que se le pase una cadena `<nombre>` y muestre por pantalla el saludo `¡hola <nombre>!`."
      ]
    },
    {
      "cell_type": "code",
      "execution_count": 2,
      "metadata": {},
      "outputs": [
        {
          "name": "stdout",
          "output_type": "stream",
          "text": [
            "¡Hola Noelia!\n"
          ]
        }
      ],
      "source": [
        "def saludar(nombre):\n",
        "    print(f\"¡Hola {nombre}!\")\n",
        "\n",
        "saludar(\"Noelia\")"
      ]
    },
    {
      "cell_type": "markdown",
      "metadata": {
        "id": "jUl-uGVmGcPr"
      },
      "source": [
        "## Ejercicio 3\n",
        "\n",
        "Escribir una función que reciba un número entero positivo y devuelva su factorial."
      ]
    },
    {
      "cell_type": "code",
      "execution_count": 3,
      "metadata": {},
      "outputs": [
        {
          "name": "stdout",
          "output_type": "stream",
          "text": [
            "120\n"
          ]
        }
      ],
      "source": [
        "def factorial(n):\n",
        "    if n == 0 or n == 1:\n",
        "        return 1\n",
        "    else:\n",
        "        resultado = 1\n",
        "        for i in range(2, n + 1):\n",
        "            resultado *= i\n",
        "        return resultado\n",
        "\n",
        "print(factorial(5))  # 120"
      ]
    },
    {
      "cell_type": "markdown",
      "metadata": {
        "id": "czoDc6CrGklA"
      },
      "source": [
        "## Ejercicio 4\n",
        "\n",
        "Escribir una función que calcule el total de una factura tras aplicarle el IVA. La función debe recibir la cantidad sin IVA y el porcentaje de IVA a aplicar, y devolver el total de la factura. Si se invoca la función sin pasarle el porcentaje de IVA, deberá aplicar un 21%."
      ]
    },
    {
      "cell_type": "code",
      "execution_count": 4,
      "metadata": {},
      "outputs": [
        {
          "name": "stdout",
          "output_type": "stream",
          "text": [
            "1210.0\n",
            "1100.0\n"
          ]
        }
      ],
      "source": [
        "def calcular_total_factura(cantidad, iva=21):\n",
        "    total = cantidad + (cantidad * iva / 100)\n",
        "    return total\n",
        "\n",
        "# Con IVA por defecto del 21%\n",
        "print(calcular_total_factura(1000))  \n",
        "# Con IVA personalizado del 10%\n",
        "print(calcular_total_factura(1000, 10))  "
      ]
    },
    {
      "cell_type": "markdown",
      "metadata": {
        "id": "0t8HKAXgGv4C"
      },
      "source": [
        "## Ejercicio 5\n",
        "\n",
        "Escribir una función que calcule el área de un círculo y otra que calcule el volumen de un cilindro usando la primera función."
      ]
    },
    {
      "cell_type": "code",
      "execution_count": 5,
      "metadata": {},
      "outputs": [
        {
          "name": "stdout",
          "output_type": "stream",
          "text": [
            "Área del círculo: 78.53981633974483\n",
            "Volumen del cilindro: 785.3981633974483\n"
          ]
        }
      ],
      "source": [
        "import math\n",
        "\n",
        "def area_circulo(radio):\n",
        "    \"\"\"Calcula el área de un círculo dado su radio.\"\"\"\n",
        "    return math.pi * radio ** 2\n",
        "\n",
        "def volumen_cilindro(radio, altura):\n",
        "    \"\"\"Calcula el volumen de un cilindro utilizando el radio y la altura.\"\"\"\n",
        "    return area_circulo(radio) * altura\n",
        "\n",
        "# Radio del círculo\n",
        "print(\"Área del círculo:\", area_circulo(5))  \n",
        "# Radio del círculo y altura del cilindro\n",
        "print(\"Volumen del cilindro:\", volumen_cilindro(5, 10))  "
      ]
    },
    {
      "cell_type": "markdown",
      "metadata": {
        "id": "GZdgRyqvG71g"
      },
      "source": [
        "## Ejercicio 6\n",
        "\n",
        "Escribir una función que reciba una muestra de números en una lista y devuelva su media, varianza y desviación típica en un diccionario."
      ]
    },
    {
      "cell_type": "code",
      "execution_count": 6,
      "metadata": {},
      "outputs": [
        {
          "name": "stdout",
          "output_type": "stream",
          "text": [
            "{'media': 3.0, 'varianza': 2.0, 'desviación típica': 1.4142135623730951}\n"
          ]
        }
      ],
      "source": [
        "def estadisticas(lista_numeros):\n",
        "    n = len(lista_numeros)\n",
        "    media = sum(lista_numeros) / n\n",
        "    varianza = sum([(x - media) ** 2 for x in lista_numeros]) / n\n",
        "    desviacion_tipica = varianza ** 0.5\n",
        "\n",
        "    return {\n",
        "        'media': media,\n",
        "        'varianza': varianza,\n",
        "        'desviación típica': desviacion_tipica\n",
        "    }\n",
        "\n",
        "muestra = [1, 2, 3, 4, 5]\n",
        "resultado = estadisticas(muestra)\n",
        "print(resultado)"
      ]
    },
    {
      "cell_type": "markdown",
      "metadata": {
        "id": "fcRcO0q3HHEn"
      },
      "source": [
        "## Ejercicio 7\n",
        "\n",
        "Escribir una función que reciba una muestra de números en una lista y devuelva otra lista con sus cuadrados."
      ]
    },
    {
      "cell_type": "code",
      "execution_count": 7,
      "metadata": {},
      "outputs": [
        {
          "name": "stdout",
          "output_type": "stream",
          "text": [
            "[1, 4, 9, 16, 25]\n"
          ]
        }
      ],
      "source": [
        "def cuadrados(lista_numeros):\n",
        "    return [numero ** 2 for numero in lista_numeros]\n",
        "\n",
        "muestra = [1, 2, 3, 4, 5]\n",
        "lista_cuadrados = cuadrados(muestra)\n",
        "print(lista_cuadrados)"
      ]
    },
    {
      "cell_type": "markdown",
      "metadata": {
        "id": "x2VrjgT_HWfH"
      },
      "source": [
        "## Ejercicio 8\n",
        "\n",
        "Escribir una función que reciba una muestra de números en una lista y devuelva un diccionario con su media, varianza y desviación típica."
      ]
    },
    {
      "cell_type": "code",
      "execution_count": null,
      "metadata": {},
      "outputs": [],
      "source": [
        "def calcular_estadisticas(lista_numeros):\n",
        "    n = len(lista_numeros)\n",
        "    media = sum(lista_numeros) / n\n",
        "    varianza = sum([(x - media) ** 2 for x in lista_numeros]) / n\n",
        "    desviacion_tipica = varianza ** 0.5\n",
        "\n",
        "    return {\n",
        "        'media': media,\n",
        "        'varianza': varianza,\n",
        "        'desviación típica': desviacion_tipica\n",
        "    }\n",
        "\n",
        "muestra = [1, 2, 3, 4, 5]\n",
        "estadisticas = calcular_estadisticas(muestra)\n",
        "print(estadisticas)"
      ]
    },
    {
      "cell_type": "markdown",
      "metadata": {
        "id": "9g_YsWQCHgHs"
      },
      "source": [
        "## Ejercicio 9\n",
        "\n",
        "Escribir una función que calcule el máximo común divisor de dos números y otra que calcule el mínimo común múltiplo."
      ]
    },
    {
      "cell_type": "code",
      "execution_count": 10,
      "metadata": {},
      "outputs": [
        {
          "name": "stdout",
          "output_type": "stream",
          "text": [
            "Máximo común divisor: 12\n",
            "Mínimo común multiplo: 240\n"
          ]
        }
      ],
      "source": [
        "# Máximo común divisor\n",
        "def mcd(num1, num2):\n",
        "    while num2:\n",
        "        num1, num2 = num2, num1 % num2\n",
        "    return num1\n",
        "\n",
        "print('Máximo común divisor: '+str(mcd(60, 48)))  # Debería ser 12\n",
        "\n",
        "# Mínimo común multiplo\n",
        "def mcm(num1, num2):\n",
        "    return abs(num1 * num2) // mcd(num1, num2)\n",
        "\n",
        "print('Mínimo común multiplo: '+str(mcm(60, 48)))  # Debería ser 240"
      ]
    },
    {
      "cell_type": "markdown",
      "metadata": {
        "id": "TMZSBdp5Hr92"
      },
      "source": [
        "## Ejercicio 10\n",
        "\n",
        "Escribir una función que calcule el máximo común divisor de dos números y otra que calcule el mínimo común múltiplo."
      ]
    },
    {
      "cell_type": "code",
      "execution_count": 13,
      "metadata": {},
      "outputs": [
        {
          "name": "stdout",
          "output_type": "stream",
          "text": [
            "El MCD de 70 y 33 es: 1\n",
            "El MCM de 70 y 33 es: 2310\n"
          ]
        }
      ],
      "source": [
        "def mcd(num1, num2):\n",
        "    while num2 != 0:\n",
        "        num1, num2 = num2, num1 % num2\n",
        "    return num1\n",
        "\n",
        "def mcm(num1, num2):\n",
        "    return abs(num1 * num2) // mcd(num1, num2)\n",
        "\n",
        "numero1 = 70\n",
        "numero2 = 33\n",
        "\n",
        "print(f\"El MCD de {numero1} y {numero2} es: {mcd(numero1, numero2)}\")\n",
        "print(f\"El MCM de {numero1} y {numero2} es: {mcm(numero1, numero2)}\")\n"
      ]
    },
    {
      "cell_type": "markdown",
      "metadata": {
        "id": "XPTmfb5PH1Uq"
      },
      "source": [
        "## Ejercicio 11\n",
        "\n",
        "Escribir un programa que reciba una cadena de caracteres y devuelva un diccionario con cada palabra que contiene y su frecuencia.\n",
        "Escribir otra función que reciba el diccionario generado con la función anterior y devuelva una tupla con la palabra más repetida y su frecuencia."
      ]
    },
    {
      "cell_type": "code",
      "execution_count": 14,
      "metadata": {},
      "outputs": [
        {
          "name": "stdout",
          "output_type": "stream",
          "text": [
            "{'hola': 4, 'mundo': 2, 'todos': 1}\n",
            "La palabra más repetida es 'hola' con 4 repeticiones.\n"
          ]
        }
      ],
      "source": [
        "def contar_palabras(texto):\n",
        "    palabras = texto.split()\n",
        "    frecuencia = {}\n",
        "    for palabra in palabras:\n",
        "        if palabra in frecuencia:\n",
        "            frecuencia[palabra] += 1\n",
        "        else:\n",
        "            frecuencia[palabra] = 1\n",
        "    return frecuencia\n",
        "\n",
        "def palabra_mas_repetida(frecuencia):\n",
        "    palabra_max = max(frecuencia, key=frecuencia.get)\n",
        "    return palabra_max, frecuencia[palabra_max]\n",
        "\n",
        "texto = \"hola mundo hola todos hola hola mundo\"\n",
        "frecuencia = contar_palabras(texto)\n",
        "print(frecuencia)\n",
        "\n",
        "palabra, repeticiones = palabra_mas_repetida(frecuencia)\n",
        "print(f\"La palabra más repetida es '{palabra}' con {repeticiones} repeticiones.\")\n"
      ]
    }
  ],
  "metadata": {
    "colab": {
      "provenance": []
    },
    "kernelspec": {
      "display_name": "Python 3",
      "name": "python3"
    },
    "language_info": {
      "codemirror_mode": {
        "name": "ipython",
        "version": 3
      },
      "file_extension": ".py",
      "mimetype": "text/x-python",
      "name": "python",
      "nbconvert_exporter": "python",
      "pygments_lexer": "ipython3",
      "version": "3.11.5"
    }
  },
  "nbformat": 4,
  "nbformat_minor": 0
}
