{
  "cells": [
    {
      "cell_type": "markdown",
      "metadata": {
        "id": "Ntn4gE2ro61n"
      },
      "source": [
        "EJERCICIOS DE LISTAS Y TUPLAS\n"
      ]
    },
    {
      "cell_type": "markdown",
      "metadata": {
        "id": "UVEebt58pDMg"
      },
      "source": [
        "\n",
        "Ejercicio 1.  \n",
        "\n",
        "Escribir un programa que almacene las asignaturas de un curso (por ejemplo Matemáticas, Física, Química, Historia y Lengua) en una lista y la muestre por pantalla."
      ]
    },
    {
      "cell_type": "code",
      "execution_count": 1,
      "metadata": {},
      "outputs": [
        {
          "name": "stdout",
          "output_type": "stream",
          "text": [
            "Matemáticas\n",
            "Física\n",
            "Química\n",
            "Historia\n",
            "Lengua\n"
          ]
        }
      ],
      "source": [
        "asignaturas = [\"Matemáticas\", \"Física\", \"Química\", \"Historia\", \"Lengua\"]\n",
        "\n",
        "for asignatura in asignaturas:\n",
        "    print(asignatura)"
      ]
    },
    {
      "cell_type": "markdown",
      "metadata": {
        "id": "pQAEDhcJpOP2"
      },
      "source": [
        "Ejercicio 2.  \n",
        "Escribir un programa que almacene las asignaturas de un curso (por ejemplo Matemáticas, Física, Química, Historia y Lengua) en una lista y la muestre por pantalla el mensaje Yo estudio <asignatura>, donde <asignatura> es cada una de las asignaturas de la lista."
      ]
    },
    {
      "cell_type": "code",
      "execution_count": 2,
      "metadata": {},
      "outputs": [
        {
          "name": "stdout",
          "output_type": "stream",
          "text": [
            "Yo estudio Matemáticas\n",
            "Yo estudio Física\n",
            "Yo estudio Química\n",
            "Yo estudio Historia\n",
            "Yo estudio Lengua\n"
          ]
        }
      ],
      "source": [
        "asignaturas = [\"Matemáticas\", \"Física\", \"Química\", \"Historia\", \"Lengua\"]\n",
        "\n",
        "for asignatura in asignaturas:\n",
        "    print(f\"Yo estudio {asignatura}\")"
      ]
    },
    {
      "cell_type": "markdown",
      "metadata": {
        "id": "ZpAvlELJpVQR"
      },
      "source": [
        "Ejercicio 3.  \n",
        "Escribir un programa que almacene las asignaturas de un curso (por ejemplo Matemáticas, Física, Química, Historia y Lengua) en una lista, pregunte al usuario la nota que ha sacado en cada asignatura, y después las muestre por pantalla con el mensaje En <asignatura> has sacado <nota> donde <asignatura> es cada una des las asignaturas de la lista y <nota> cada una de las correspondientes notas introducidas por el usuario."
      ]
    },
    {
      "cell_type": "code",
      "execution_count": 3,
      "metadata": {},
      "outputs": [
        {
          "name": "stdout",
          "output_type": "stream",
          "text": [
            "En Matemáticas has sacado 8\n",
            "En Física has sacado 5\n",
            "En Química has sacado 3\n",
            "En Historia has sacado 6\n",
            "En Lengua has sacado 7\n"
          ]
        }
      ],
      "source": [
        "asignaturas = [\"Matemáticas\", \"Física\", \"Química\", \"Historia\", \"Lengua\"]\n",
        "\n",
        "notas = {}\n",
        "\n",
        "# Pedir al usuario que introduzca la nota para cada asignatura\n",
        "for asignatura in asignaturas:\n",
        "    nota = input(f\"¿Qué nota has sacado en {asignatura}? \")\n",
        "    notas[asignatura] = nota\n",
        "\n",
        "# Mostrar las asignaturas y las notas\n",
        "for asignatura, nota in notas.items():\n",
        "    print(f\"En {asignatura} has sacado {nota}\")\n"
      ]
    },
    {
      "cell_type": "markdown",
      "metadata": {
        "id": "45C_ArBkpcNs"
      },
      "source": [
        "Ejercicio 4.  \n",
        "Escribir un programa que pregunte al usuario los números ganadores de la lotería primitiva, los almacene en una lista y los muestre por pantalla ordenados de menor a mayor."
      ]
    },
    {
      "cell_type": "code",
      "execution_count": 5,
      "metadata": {},
      "outputs": [
        {
          "name": "stdout",
          "output_type": "stream",
          "text": [
            "Números ganadores de la lotería primitiva ordenados:\n",
            "12567 33566 89523 "
          ]
        }
      ],
      "source": [
        "# números ganadores\n",
        "numeros_ganadores = input(\"Introduce los números ganadores de la lotería primitiva, separados por espacios: \")\n",
        "\n",
        "# Convertir la cadena de caracteres en una lista de números enteros\n",
        "lista_numeros = list(map(int, numeros_ganadores.split()))\n",
        "\n",
        "# Ordenar la lista\n",
        "lista_numeros.sort()\n",
        "\n",
        "# Mostrar los números ordenados\n",
        "print(\"Números ganadores de la lotería primitiva ordenados:\")\n",
        "for numero in lista_numeros:\n",
        "    print(numero, end=' ')"
      ]
    },
    {
      "cell_type": "markdown",
      "metadata": {
        "id": "_yFbeZqxplQL"
      },
      "source": [
        "Ejercicio 5.  \n",
        "Escribir un programa que almacene en una lista los números del 1 al 10 y los muestre por pantalla en orden inverso separados por comas.\n"
      ]
    },
    {
      "cell_type": "code",
      "execution_count": 6,
      "metadata": {},
      "outputs": [
        {
          "name": "stdout",
          "output_type": "stream",
          "text": [
            "10, 9, 8, 7, 6, 5, 4, 3, 2, 1\n"
          ]
        }
      ],
      "source": [
        "numeros = list(range(1, 11))\n",
        "\n",
        "# Invertir el orden de la lista\n",
        "numeros.reverse()\n",
        "\n",
        "# Mostrar los números separados por comas\n",
        "print(\", \".join(map(str, numeros)))\n"
      ]
    },
    {
      "cell_type": "markdown",
      "metadata": {
        "id": "g6tUoLxVpkxx"
      },
      "source": [
        "\n",
        "\n",
        "Ejercicio 6.  \n",
        "Escribir un programa que almacene las asignaturas de un curso (por ejemplo Matemáticas, Física, Química, Historia y Lengua) en una lista, pregunte al usuario la nota que ha sacado en cada asignatura y elimine de la lista las asignaturas aprobadas. Al final el programa debe mostrar por pantalla las asignaturas que el usuario tiene que repetir."
      ]
    },
    {
      "cell_type": "code",
      "execution_count": 7,
      "metadata": {},
      "outputs": [
        {
          "name": "stdout",
          "output_type": "stream",
          "text": [
            "Debes repetir las siguientes asignaturas:\n",
            "Física\n",
            "Lengua\n"
          ]
        }
      ],
      "source": [
        "asignaturas = [\"Matemáticas\", \"Física\", \"Química\", \"Historia\", \"Lengua\"]\n",
        "\n",
        "# Lista para almacenar las asignaturas que se deben repetir\n",
        "asignaturas_repetir = []\n",
        "\n",
        "# Preguntar al usuario la nota de cada asignatura\n",
        "for asignatura in asignaturas:\n",
        "    nota = float(input(f\"¿Qué nota has sacado en {asignatura}? \"))\n",
        "\n",
        "    # Si la nota es menor que 5, añadir a la lista de asignaturas a repetir\n",
        "    if nota < 5:\n",
        "        asignaturas_repetir.append(asignatura)\n",
        "\n",
        "# Mostrar las asignaturas que se deben repetir\n",
        "print(\"Debes repetir las siguientes asignaturas:\")\n",
        "for asignatura in asignaturas_repetir:\n",
        "    print(asignatura)\n"
      ]
    },
    {
      "cell_type": "markdown",
      "metadata": {
        "id": "b6zEe4oYpveb"
      },
      "source": [
        "\n",
        "Ejercicio 7.  \n",
        "Escribir un programa que almacene el abecedario en una lista, elimine de la lista las letras que ocupen posiciones múltiplos de 3, y muestre por pantalla la lista resultante.\n"
      ]
    },
    {
      "cell_type": "code",
      "execution_count": 8,
      "metadata": {},
      "outputs": [
        {
          "name": "stdout",
          "output_type": "stream",
          "text": [
            "['a', 'b', 'd', 'e', 'g', 'h', 'j', 'k', 'm', 'n', 'p', 'q', 's', 't', 'v', 'w', 'y', 'z']\n"
          ]
        }
      ],
      "source": [
        "import string\n",
        "\n",
        "# Almacenar el abecedario en una lista\n",
        "abecedario = list(string.ascii_lowercase)\n",
        "\n",
        "# Eliminar letras en posiciones múltiplos de 3\n",
        "abecedario = [letra for indice, letra in enumerate(abecedario, start=1) if indice % 3 != 0]\n",
        "\n",
        "# Mostrar la lista resultante\n",
        "print(abecedario)"
      ]
    },
    {
      "cell_type": "markdown",
      "metadata": {
        "id": "aKDU-B0vpyat"
      },
      "source": [
        "\n",
        "\n",
        "Ejercicio 8.  \n",
        "Escribir un programa que pida al usuario una palabra y muestre por pantalla si es un palíndromo."
      ]
    },
    {
      "cell_type": "code",
      "execution_count": 9,
      "metadata": {},
      "outputs": [
        {
          "name": "stdout",
          "output_type": "stream",
          "text": [
            "La palabra 'cocoloco' no es un palíndromo.\n"
          ]
        }
      ],
      "source": [
        "palabra = input(\"Introduce una palabra: \")\n",
        "\n",
        "# Verificar si la palabra es un palíndromo\n",
        "es_palindromo = palabra == palabra[::-1]\n",
        "\n",
        "# Mostrar el resultado\n",
        "if es_palindromo:\n",
        "    print(f\"La palabra '{palabra}' es un palíndromo.\")\n",
        "else:\n",
        "    print(f\"La palabra '{palabra}' no es un palíndromo.\")\n"
      ]
    },
    {
      "cell_type": "markdown",
      "metadata": {
        "id": "gEu7_TBgp35N"
      },
      "source": [
        "\n",
        "\n",
        "Ejercicio 9.  \n",
        "Escribir un programa que pida al usuario una palabra y muestre por pantalla el número de veces que contiene cada vocal.\n"
      ]
    },
    {
      "cell_type": "code",
      "execution_count": 10,
      "metadata": {},
      "outputs": [
        {
          "name": "stdout",
          "output_type": "stream",
          "text": [
            "La vocal 'a' aparece 0 veces.\n",
            "La vocal 'e' aparece 0 veces.\n",
            "La vocal 'i' aparece 0 veces.\n",
            "La vocal 'o' aparece 0 veces.\n",
            "La vocal 'u' aparece 1 veces.\n"
          ]
        }
      ],
      "source": [
        "palabra = input(\"Introduce una palabra: \").lower()\n",
        "\n",
        "# Vocales a contar\n",
        "vocales = \"aeiou\"\n",
        "\n",
        "# Contar y mostrar el número de veces que aparece cada vocal\n",
        "for vocal in vocales:\n",
        "    conteo = palabra.count(vocal)\n",
        "    print(f\"La vocal '{vocal}' aparece {conteo} veces.\")"
      ]
    },
    {
      "cell_type": "markdown",
      "metadata": {
        "id": "OgC-HrOZp9tg"
      },
      "source": [
        "\n",
        "\n",
        "Ejercicio 10.  \n",
        "Escribir un programa que almacene en una lista los siguientes precios: 50, 75, 46, 22, 80, 65, 8, y muestre por pantalla el menor y el mayor de los precios.\n"
      ]
    },
    {
      "cell_type": "code",
      "execution_count": 12,
      "metadata": {},
      "outputs": [
        {
          "name": "stdout",
          "output_type": "stream",
          "text": [
            "El precio menor es: 8\n",
            "El precio mayor es: 80\n"
          ]
        }
      ],
      "source": [
        "precios = [50, 75, 46, 22, 80, 65, 8]\n",
        "\n",
        "# Encontrar el precio menor y mayor\n",
        "precio_menor = min(precios)\n",
        "precio_mayor = max(precios)\n",
        "\n",
        "print(\"El precio menor es:\", precio_menor)\n",
        "print(\"El precio mayor es:\", precio_mayor)"
      ]
    },
    {
      "cell_type": "markdown",
      "metadata": {
        "id": "JcLPvlyKqFLz"
      },
      "source": [
        "\n",
        "Ejercicio 11.  \n",
        "Escribir un programa que almacene los vectores (1,2,3) y (-1,0,2) en dos listas y muestre por pantalla su producto escalar.\n"
      ]
    },
    {
      "cell_type": "code",
      "execution_count": 11,
      "metadata": {},
      "outputs": [
        {
          "name": "stdout",
          "output_type": "stream",
          "text": [
            "El producto escalar de los vectores es: 5\n"
          ]
        }
      ],
      "source": [
        "vector1 = [1, 2, 3]\n",
        "vector2 = [-1, 0, 2]\n",
        "producto_escalar = 0\n",
        "\n",
        "# Calcular el producto escalar\n",
        "for i in range(len(vector1)):\n",
        "    producto_escalar += vector1[i] * vector2[i]\n",
        "\n",
        "print(\"El producto escalar de los vectores es:\", producto_escalar)"
      ]
    },
    {
      "cell_type": "markdown",
      "metadata": {
        "id": "0P6EQQQxqIIw"
      },
      "source": [
        "\n",
        "Ejercicio 12.  \n",
        "Escribir un programa que almacene las matrices\n",
        "\n",
        "$$\n",
        "A = \\left(\n",
        "  \\begin{array}{rrr}\n",
        "  1 & 2 & 3\\\\\n",
        "  4 & 5 & 6\n",
        "  \\end{array}\n",
        "  \\right)\n",
        "  \\quad  y\n",
        "  \\quad\n",
        "  B = \\left(\n",
        "  \\begin{array}{rr}\n",
        "  -1 & 0\\\\\n",
        "  0 & 1\\\\\n",
        "  1 & 1\n",
        "  \\end{array}\n",
        "  \\right)\n",
        "$$\n",
        "\n",
        "\n",
        "en una lista y muestre por pantalla su producto.  \n",
        "Nota: Para representar matrices mediante listas usar listas anidadas, representando cada vector fila en una lista.  \n",
        "\n",
        "Multiplicación de matrices: https://www.superprof.es/diccionario/matematicas/algebralineal/multiplicacion-matrices.html"
      ]
    },
    {
      "cell_type": "code",
      "execution_count": 13,
      "metadata": {},
      "outputs": [
        {
          "name": "stdout",
          "output_type": "stream",
          "text": [
            "El producto de las matrices A y B es:\n",
            "[2, 5]\n",
            "[2, 11]\n"
          ]
        }
      ],
      "source": [
        "matriz_A = [\n",
        "    [1, 2, 3],\n",
        "    [4, 5, 6]\n",
        "]\n",
        "\n",
        "matriz_B = [\n",
        "    [-1, 0],\n",
        "    [0, 1],\n",
        "    [1, 1]\n",
        "]\n",
        "\n",
        "resultado = []\n",
        "\n",
        "# Calcular el producto matricial\n",
        "for i in range(len(matriz_A)):\n",
        "    fila_resultado = []\n",
        "    for j in range(len(matriz_B[0])):\n",
        "        suma = 0\n",
        "        for k in range(len(matriz_B)):\n",
        "            suma += matriz_A[i][k] * matriz_B[k][j]\n",
        "        fila_resultado.append(suma)\n",
        "    resultado.append(fila_resultado)\n",
        "\n",
        "# Mostrar el resultado por pantalla\n",
        "print(\"El producto de las matrices A y B es:\")\n",
        "for fila in resultado:\n",
        "    print(fila)\n"
      ]
    },
    {
      "cell_type": "markdown",
      "metadata": {
        "id": "5hETW04Aq8tl"
      },
      "source": [
        "Ejercicio 13.  \n",
        "Escribir un programa que pregunte por una muestra de números, separados por comas, los guarde en una lista y muestre por pantalla su media y desviación típica."
      ]
    },
    {
      "cell_type": "code",
      "execution_count": 14,
      "metadata": {
        "id": "Pr-QKTexp8LN"
      },
      "outputs": [
        {
          "name": "stdout",
          "output_type": "stream",
          "text": [
            "La media de la muestra es: 231.2\n",
            "La desviación típica de la muestra es: 663.7005047459282\n"
          ]
        }
      ],
      "source": [
        "import math\n",
        "\n",
        "# Pedir al usuario que ingrese la muestra de números\n",
        "entrada = input(\"Ingresa una muestra de números separados por comas: \")\n",
        "\n",
        "# Dividir la entrada en una lista de números\n",
        "numeros = [float(numero) for numero in entrada.split(',')]\n",
        "\n",
        "# Calcular la media\n",
        "media = sum(numeros) / len(numeros)\n",
        "\n",
        "# Calcular la suma de los cuadrados de las diferencias con la media\n",
        "suma_cuadrados_diff = sum((x - media) ** 2 for x in numeros)\n",
        "\n",
        "# Calcular la desviación típica\n",
        "desviacion_tipica = math.sqrt(suma_cuadrados_diff / len(numeros))\n",
        "\n",
        "# Mostrar los resultados por pantalla\n",
        "print(\"La media de la muestra es:\", media)\n",
        "print(\"La desviación típica de la muestra es:\", desviacion_tipica)"
      ]
    }
  ],
  "metadata": {
    "colab": {
      "provenance": []
    },
    "kernelspec": {
      "display_name": "Python 3",
      "name": "python3"
    },
    "language_info": {
      "codemirror_mode": {
        "name": "ipython",
        "version": 3
      },
      "file_extension": ".py",
      "mimetype": "text/x-python",
      "name": "python",
      "nbconvert_exporter": "python",
      "pygments_lexer": "ipython3",
      "version": "3.11.5"
    }
  },
  "nbformat": 4,
  "nbformat_minor": 0
}
