{
  "cells": [
    {
      "cell_type": "markdown",
      "metadata": {
        "id": "RSobxI9oKvk-"
      },
      "source": [
        "EJERCICIOS CADENAS"
      ]
    },
    {
      "cell_type": "markdown",
      "metadata": {
        "id": "D-hYMT-LJX5J"
      },
      "source": [
        "## Ejercicio 1\n",
        "\n",
        "Escribir un programa que pregunte el nombre completo del usuario en la consola y después muestre por pantalla el nombre completo del usuario tres veces, una con todas las letras minúsculas, otra con todas las letras mayúsculas y otra solo con la primera letra del nombre y de los apellidos en mayúscula. El usuario puede introducir su nombre combinando mayúsculas y minúsculas como quiera.\n"
      ]
    },
    {
      "cell_type": "code",
      "execution_count": 1,
      "metadata": {},
      "outputs": [
        {
          "name": "stdout",
          "output_type": "stream",
          "text": [
            "noelia otazo\n",
            "NOELIA OTAZO\n",
            "Noelia Otazo\n"
          ]
        }
      ],
      "source": [
        "nombre_completo = input(\"Introduce tu nombre completo: \")\n",
        "\n",
        "#minúsculas\n",
        "print(nombre_completo.lower())\n",
        "\n",
        "#mayúsculas\n",
        "print(nombre_completo.upper())\n",
        "\n",
        "#primera letra de cada palabra a mayúscula\n",
        "def formato_titulo(nombre):\n",
        "    return nombre.title()\n",
        "\n",
        "print(formato_titulo(nombre_completo))"
      ]
    },
    {
      "cell_type": "markdown",
      "metadata": {
        "id": "AWH7OBhGJfb3"
      },
      "source": [
        "## Ejercicio 2\n",
        "\n",
        "Escribir un programa que pregunte el nombre del usuario en la consola y después de que el usuario lo introduzca muestre por pantalla `<NOMBRE> tiene <n> letras`, donde `<NOMBRE>` es el nombre de usuario en mayúsculas y `<n>` es el número de letras que tienen el nombre."
      ]
    },
    {
      "cell_type": "code",
      "execution_count": 4,
      "metadata": {},
      "outputs": [
        {
          "name": "stdout",
          "output_type": "stream",
          "text": [
            "nuky tiene 4 letras\n"
          ]
        }
      ],
      "source": [
        "nikname = input(\"Introduce el nombre de usuario: \")\n",
        "\n",
        "#conteo letras\n",
        "n = len(nikname)\n",
        "\n",
        "print(nikname + ' tiene ' + str(n) + ' letras')"
      ]
    },
    {
      "cell_type": "markdown",
      "metadata": {
        "id": "3E3iY1F3JpaJ"
      },
      "source": [
        "## Ejercicio 3\n",
        "\n",
        "Los teléfonos de una empresa tienen el siguiente formato `prefijo-número-extension` donde el prefijo es el código del país `+34`, y la extensión tiene dos dígitos (por ejemplo `+34-913724710-56`). Escribir un programa que pregunte por un número de teléfono con este formato en la consola y muestre por pantalla el número de teléfono sin el prefijo y la extensión."
      ]
    },
    {
      "cell_type": "code",
      "execution_count": 1,
      "metadata": {},
      "outputs": [
        {
          "name": "stdout",
          "output_type": "stream",
          "text": [
            "El número de teléfono sin prefijo ni extensión es: 913724710\n"
          ]
        }
      ],
      "source": [
        "telefono = input(\"Introduce un número de teléfono con el formato +34-número-extension: \")\n",
        "\n",
        "# Verifica que el formato es correcto\n",
        "if telefono.count('-') != 2:\n",
        "    print(\"Formato incorrecto. Asegúrate de introducir el número en el formato +34-número-extension.\")\n",
        "else:\n",
        "    # Separa el número de teléfono en sus partes\n",
        "    partes = telefono.split('-')\n",
        "\n",
        "    # El número sin prefijo ni extensión es la segunda parte\n",
        "    numero_sin_prefijo_extension = partes[1]\n",
        "\n",
        "    # Muestra el resultado\n",
        "    print(f\"El número de teléfono sin prefijo ni extensión es: {numero_sin_prefijo_extension}\")"
      ]
    },
    {
      "cell_type": "markdown",
      "metadata": {
        "id": "-rrV-f1xKAJ8"
      },
      "source": [
        "## Ejercicio 4\n",
        "\n",
        "Escribir un programa que pregunte por consola el precio de un producto en euros con dos decimales y muestre por pantalla el número de euros y el número de céntimos del precio introducido."
      ]
    },
    {
      "cell_type": "code",
      "execution_count": 5,
      "metadata": {},
      "outputs": [
        {
          "name": "stdout",
          "output_type": "stream",
          "text": [
            "Euros: 2, Céntimos: 50\n"
          ]
        }
      ],
      "source": [
        "precio = input(\"Introduce el precio del producto en euros (con dos decimales): \")\n",
        "\n",
        "# Separamos los euros y los céntimos\n",
        "partes = precio.split('.')\n",
        "\n",
        "# Los euros son la primera parte y los céntimos la segunda\n",
        "euros = partes[0]\n",
        "centimos = partes[1]\n",
        "\n",
        "# Aseguramos que los céntimos tengan dos dígitos\n",
        "if len(centimos) < 2:\n",
        "    centimos = centimos + '0'\n",
        "\n",
        "\n",
        "print(f\"Euros: {euros}, Céntimos: {centimos}\")\n"
      ]
    },
    {
      "cell_type": "markdown",
      "metadata": {
        "id": "StyiPq7KKcCE"
      },
      "source": [
        "## Ejercicio 5\n",
        "\n",
        "Escribir un programa que pida al usuario una palabra y luego muestre por pantalla una a una las letras de la palabra introducida empezando por la última."
      ]
    },
    {
      "cell_type": "code",
      "execution_count": 2,
      "metadata": {},
      "outputs": [
        {
          "name": "stdout",
          "output_type": "stream",
          "text": [
            "a\n",
            "i\n",
            "l\n",
            "e\n",
            "o\n",
            "n\n"
          ]
        }
      ],
      "source": [
        "palabra = input(\"Introduce una palabra: \")\n",
        "\n",
        "# Recorre la palabra al revés e imprime cada letra\n",
        "for letra in reversed(palabra):\n",
        "    print(letra)"
      ]
    }
  ],
  "metadata": {
    "colab": {
      "provenance": []
    },
    "kernelspec": {
      "display_name": "Python 3",
      "name": "python3"
    },
    "language_info": {
      "codemirror_mode": {
        "name": "ipython",
        "version": 3
      },
      "file_extension": ".py",
      "mimetype": "text/x-python",
      "name": "python",
      "nbconvert_exporter": "python",
      "pygments_lexer": "ipython3",
      "version": "3.11.5"
    }
  },
  "nbformat": 4,
  "nbformat_minor": 0
}
